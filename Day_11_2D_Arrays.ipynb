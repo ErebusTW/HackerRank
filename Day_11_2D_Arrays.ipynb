{
 "cells": [
  {
   "cell_type": "markdown",
   "metadata": {},
   "source": [
    "**<font  size=6>Day 11: 2D Arrays</font>**"
   ]
  },
  {
   "cell_type": "markdown",
   "metadata": {},
   "source": [
    "**Objective**  \n",
    "Today, we are building on our knowledge of arrays by adding another dimension. Check out the Tutorial tab for learning materials and an instructional video."
   ]
  },
  {
   "cell_type": "markdown",
   "metadata": {},
   "source": [
    "**Context**  \n",
    "Given a $6 \\times 6$ 2D Array, $A$:"
   ]
  },
  {
   "cell_type": "markdown",
   "metadata": {},
   "source": [
    "\\begin{equation}\n",
    "\\begin{array}{llllll}\n",
    "1 & 1 & 1 & 0 & 0 & 0 \\\\\n",
    "0 & 1 & 0 & 0 & 0 & 0 \\\\\n",
    "1 & 1 & 1 & 0 & 0 & 0 \\\\\n",
    "0 & 0 & 0 & 0 & 0 & 0 \\\\\n",
    "0 & 0 & 0 & 0 & 0 & 0 \\\\\n",
    "0 & 0 & 0 & 0 & 0 & 0 \\\\\n",
    "\\end{array}\n",
    "\\end{equation}"
   ]
  },
  {
   "cell_type": "markdown",
   "metadata": {},
   "source": [
    "We define an hourglass in $A$ to be a subset of values with indices falling in this pattern in $A$'s graphical representation:"
   ]
  },
  {
   "cell_type": "markdown",
   "metadata": {},
   "source": [
    "\\begin{equation}\n",
    "\\begin{array}{lll}\n",
    "a & b & c   \\\\\n",
    "  & d &     \\\\\n",
    "e & f & g   \\\\\n",
    "\\end{array}\n",
    "\\end{equation}"
   ]
  },
  {
   "cell_type": "markdown",
   "metadata": {},
   "source": [
    "There are $16$ hourglasses in $A$, and an hourglass sum is the sum of an hourglass' values."
   ]
  },
  {
   "cell_type": "markdown",
   "metadata": {},
   "source": [
    "**Task**  \n",
    "Calculate the hourglass sum for every hourglass in $A$ , then print the maximum hourglass sum.\n",
    "\n",
    "**Example**  \n",
    "In the array shown above, the maximum hourglass sum is $7$ for the hourglass in the top left corner.\n",
    "\n",
    "**Input Format**  \n",
    "There are $6$ lines of input, where each line contains $6$ space-separated integers that describe the 2D Array $A$.  \n",
    "\n",
    "**Constraints**\n",
    "- $-9 \\leq A[i][j] \\leq 9$\n",
    "- $0 \\leq i, j \\leq 5$"
   ]
  },
  {
   "cell_type": "markdown",
   "metadata": {},
   "source": [
    "**Sample Input**"
   ]
  },
  {
   "cell_type": "markdown",
   "metadata": {},
   "source": [
    "\\begin{equation}\n",
    "\\begin{array}{llllll}\n",
    "1 & 1 & 1 & 0 & 0 & 0 \\\\\n",
    "0 & 1 & 0 & 0 & 0 & 0 \\\\\n",
    "1 & 1 & 1 & 0 & 0 & 0 \\\\\n",
    "0 & 0 & 2 & 4 & 4 & 0 \\\\\n",
    "0 & 0 & 0 & 2 & 0 & 0 \\\\\n",
    "0 & 0 & 1 & 2 & 4 & 0 \\\\\n",
    "\\end{array}\n",
    "\\end{equation}"
   ]
  },
  {
   "cell_type": "markdown",
   "metadata": {},
   "source": [
    "**Sample Output**"
   ]
  },
  {
   "cell_type": "markdown",
   "metadata": {},
   "source": [
    "19"
   ]
  },
  {
   "cell_type": "markdown",
   "metadata": {},
   "source": [
    "**Explanation**  \n",
    "$A$ contains the following hourglasses: \n",
    " \n",
    "$$\n",
    "\\begin{aligned}\n",
    "&\\begin{array}{ccccl}\n",
    "111 & 110 & 100 & 000 \\\\\n",
    "1 & 0 & 0 & 0 \\\\\n",
    "1111 & 110 & 100 & 000\n",
    "\\end{array}\\\\\n",
    "&\\begin{array}{ccccc}\n",
    "010 & 100 & 000 & 000 \\\\\n",
    "1 & 1 & 0 & 0 \\\\\n",
    "002 & 024 & 244 & 440\n",
    "\\end{array}\\\\\n",
    "&\\begin{array}{cccl}\n",
    "111 & 110 & 100 & 000 \\\\\n",
    "0 & 2 & 4 &   4 \\\\\n",
    "000 & 002 & 020 & 200\n",
    "\\end{array}\\\\\n",
    "&\\begin{array}{cccccc}\n",
    "002 & 024 & 244 & 440 \\\\\n",
    "0 & 0 & 2 & 0 \\\\\n",
    "001 & 012 & 124 & 240\n",
    "\\end{array}\n",
    "\\end{aligned}\n",
    "$$  \n",
    "\n",
    "The hourglass with the maximum sum($19$) is:\n",
    "\n",
    "\\begin{equation}\n",
    "\\begin{array}{lll}\n",
    "2 & 4 & 4   \\\\\n",
    "  & 2 &     \\\\\n",
    "1 & 2 & 4   \\\\\n",
    "\\end{array}\n",
    "\\end{equation}"
   ]
  },
  {
   "cell_type": "markdown",
   "metadata": {},
   "source": [
    "**<font  size=5>題目解析</font>**"
   ]
  },
  {
   "cell_type": "markdown",
   "metadata": {},
   "source": [
    "簡單來說，就是題目給我們一個 $6 \\times 6$ 的陣列，我們要找出裡面所有沙漏狀的數字組合，把每個沙漏裡的數字加總，並$return$數字總和最大的沙漏。  \n",
    "首先，$6 \\times 6$ 的陣列存在以下 $16$ 個沙漏:\n",
    "\n",
    "\\begin{equation}\n",
    "\\begin{array}{llllll}\n",
    "\\color{red}1 & \\color{red}1 & \\color{red}1 & \\color{blue}0 & \\color{blue}0 & \\color{blue}0 \\\\\n",
    "0 & \\color{red}1 & 0 & 0 & \\color{blue}0 & 0 \\\\\n",
    "\\color{red}1 & \\color{red}1 & \\color{red}1 & \\color{blue}0 & \\color{blue}0 & \\color{blue}0 \\\\\n",
    "\\color{yellow}0 & \\color{yellow}0 & \\color{yellow}2 & \\color{green}4 & \\color{green}4 & \\color{green}0 \\\\\n",
    "0 & \\color{yellow}0 & 0 & 2 & \\color{green}0 & 0 \\\\\n",
    "\\color{yellow}0 & \\color{yellow}0 & \\color{yellow}1 & \\color{green}2 & \\color{green}4 & \\color{green}0 \\\\\n",
    "\\end{array}\n",
    "\\end{equation}\n",
    "\n",
    "\\begin{equation}\n",
    "\\begin{array}{llllll}\n",
    "1 & \\color{purple}1 & \\color{purple}1 & \\color{purple}0 & 0 & 0 \\\\\n",
    "0 & 1 & \\color{purple}0 & 0 & 0 & 0 \\\\\n",
    "1 & \\color{purple}1 & \\color{purple}1 & \\color{purple}0 & 0 & 0 \\\\\n",
    "0 & \\color{magenta}0 & \\color{magenta}2 & \\color{magenta}4 & 4 & 0 \\\\\n",
    "0 & 0 & \\color{magenta}0 & 2 & 0 & 0 \\\\\n",
    "0 & \\color{magenta}0 & \\color{magenta}1 & \\color{magenta}2 & 4 & 0 \\\\\n",
    "\\end{array}\n",
    "\\end{equation}\n",
    "\n",
    "\\begin{equation}\n",
    "\\begin{array}{llllll}\n",
    "1 & 1 & \\color{cyan}1 & \\color{cyan}0 & \\color{cyan}0 & 0 \\\\\n",
    "0 & 1 & 0 & \\color{cyan}0 & 0 & 0 \\\\\n",
    "1 & 1 & \\color{cyan}1 & \\color{cyan}0 & \\color{cyan}0 & 0 \\\\\n",
    "0 & 0 & \\color{brown}2 & \\color{brown}4 & \\color{brown}4 & 0 \\\\\n",
    "0 & 0 & 0 & \\color{brown}2 & 0 & 0 \\\\\n",
    "0 & 0 & \\color{brown}1 & \\color{brown}2 & \\color{brown}4 & 0 \\\\\n",
    "\\end{array}\n",
    "\\end{equation}\n",
    "\n",
    "\\begin{equation}\n",
    "\\begin{array}{llllll}\n",
    "1 & 1 & 1 & 0 & 0 & 0 \\\\\n",
    "\\color{olive}0 & \\color{olive}1 & \\color{olive}0 & \\color{teal}0 & \\color{teal}0 & \\color{teal}0 \\\\\n",
    "1 & \\color{olive}1 & 1 & 0 & \\color{teal}0 & 0 \\\\\n",
    "\\color{olive}0 & \\color{olive}0 & \\color{olive}2 & \\color{teal}4 & \\color{teal}4 & \\color{teal}0 \\\\\n",
    "0 & 0 & 0 & 2 & 0 & 0 \\\\\n",
    "0 & 0 & 1 & 2 & 4 & 0 \\\\\n",
    "\\end{array}\n",
    "\\end{equation}\n",
    "\n",
    "\\begin{equation}\n",
    "\\begin{array}{llllll}\n",
    "1 & 1 & 1 & 0 & 0 & 0 \\\\\n",
    "0 & 1 & 0 & 0 & 0 & 0 \\\\\n",
    "\\color{Salmon}1 & \\color{Salmon}1 & \\color{Salmon}1 & \\color{Maroon}0 & \\color{Maroon}0 & \\color{Maroon}0 \\\\\n",
    "0 & \\color{Salmon}0 & 2 & 4 & \\color{Maroon}4 & 0 \\\\\n",
    "\\color{Salmon}0 & \\color{Salmon}0 & \\color{Salmon}0 & \\color{Maroon}2 & \\color{Maroon}0 & \\color{Maroon}0 \\\\\n",
    "0 & 0 & 1 & 2 & 4 & 0 \\\\\n",
    "\\end{array}\n",
    "\\end{equation}\n",
    "\n",
    "\\begin{equation}\n",
    "\\begin{array}{llllll}\n",
    "1 & 1 & 1 & 0 & 0 & 0 \\\\\n",
    "0 & \\color{Plum}1 & \\color{Plum}0 & \\color{Plum}0 & 0 & 0 \\\\\n",
    "1 & 1 & \\color{Plum}1 & 0 & 0 & 0 \\\\\n",
    "0 & \\color{Plum}0 & \\color{Plum}2 & \\color{Plum}4 & 4 & 0 \\\\\n",
    "0 & 0 & 0 & 2 & 0 & 0 \\\\\n",
    "0 & 0 & 1 & 2 & 4 & 0 \\\\\n",
    "\\end{array}\n",
    "\\end{equation}\n",
    "\n",
    "\\begin{equation}\n",
    "\\begin{array}{llllll}\n",
    "1 & 1 & 1 & 0 & 0 & 0 \\\\\n",
    "0 & 1 & \\color{LimeGreen}0 & \\color{LimeGreen}0 & \\color{LimeGreen}0 & 0 \\\\\n",
    "1 & 1 & 1 & \\color{LimeGreen}0 & 0 & 0 \\\\\n",
    "0 & 0 & \\color{LimeGreen}2 & \\color{LimeGreen}4 & \\color{LimeGreen}4 & 0 \\\\\n",
    "0 & 0 & 0 & 2 & 0 & 0 \\\\\n",
    "0 & 0 & 1 & 2 & 4 & 0 \\\\\n",
    "\\end{array}\n",
    "\\end{equation}\n",
    "\n",
    "\\begin{equation}\n",
    "\\begin{array}{llllll}\n",
    "1 & 1 & 1 & 0 & 0 & 0 \\\\\n",
    "0 & 1 & 0 & 0 & 0 & 0 \\\\\n",
    "1 & \\color{Goldenrod}1 & \\color{Goldenrod}1 & \\color{Goldenrod}0 & 0 & 0 \\\\\n",
    "0 & 0 & \\color{Goldenrod}2 & 4 & 4 & 0 \\\\\n",
    "0 & \\color{Goldenrod}0 & \\color{Goldenrod}0 & \\color{Goldenrod}2 & 0 & 0 \\\\\n",
    "0 & 0 & 1 & 2 & 4 & 0 \\\\\n",
    "\\end{array}\n",
    "\\end{equation}\n",
    "\n",
    "\\begin{equation}\n",
    "\\begin{array}{llllll}\n",
    "1 & 1 & 1 & 0 & 0 & 0 \\\\\n",
    "0 & 1 & 0 & 0 & 0 & 0 \\\\\n",
    "1 & 1 & \\color{CadetBlue}1 & \\color{CadetBlue}0 & \\color{CadetBlue}0 & 0 \\\\\n",
    "0 & 0 & 2 & \\color{CadetBlue}4 & 4 & 0 \\\\\n",
    "0 & 0 & \\color{CadetBlue}0 & \\color{CadetBlue}2 & \\color{CadetBlue}0 & 0 \\\\\n",
    "0 & 0 & 1 & 2 & 4 & 0 \\\\\n",
    "\\end{array}\n",
    "\\end{equation}\n",
    "\n",
    "我們要在 $16$ 個沙漏中找加總值(也就是上圖同個顏色加起來)最大的並輸出加總值。"
   ]
  },
  {
   "cell_type": "code",
   "execution_count": 6,
   "metadata": {},
   "outputs": [],
   "source": [
    "#接下來開始解釋代碼\n",
    "\n",
    "#裝包\n",
    "import sys\n",
    "\n",
    "#定義一個計算沙漏加總值的函數\n",
    "#這邊row, col是沙漏的中心位置(例如:row = 1 col = 1 為下圖紅色)\n",
    "def _get_hourglass_sum(matrix, row, col):\n",
    "    #以下 sum += matrix 等價於 sum = sum + matrix 也就是說一開始把sum設定為0然後依序加上沙漏的每個數\n",
    "    sum = 0\n",
    "    sum += matrix[row-1][col-1] #(row = 1 col = 1 時這行的位置為下圖藍色)\n",
    "    sum += matrix[row-1][col] #(row = 1 col = 1 時這行的位置為下圖綠色)\n",
    "    sum += matrix[row-1][col+1] #(row = 1 col = 1 時這行的位置為下圖黃)\n",
    "    sum += matrix[row][col] #(中心點，row = 1 col = 1 時這行的位置為下圖紅色)\n",
    "    sum += matrix[row+1][col-1] #(row = 1 col = 1 時這行的位置為下圖紫色)\n",
    "    sum += matrix[row+1][col] #(row = 1 col = 1 時這行的位置為下圖棕色)\n",
    "    sum += matrix[row+1][col+1] #(row = 1 col = 1 時這行的位置為下圖桃紅色)\n",
    "    return sum        "
   ]
  },
  {
   "cell_type": "markdown",
   "metadata": {},
   "source": [
    "\\begin{equation}\n",
    "\\begin{array}{llllll}\n",
    "\\color{blue}1 & \\color{green}1 & \\color{yellow}1 & 0 & 0 & 0 \\\\\n",
    "0 & \\color{red}1 & 0 & 0 & 0 & 0 \\\\\n",
    "\\color{purple}1 & \\color{brown}1 & \\color{magenta}1 & 0 & 0 & 0 \\\\\n",
    "0 & 0 & 2 & 4 & 4 & 0 \\\\\n",
    "0 & 0 & 0 & 2 & 0 & 0 \\\\\n",
    "0 & 0 & 1 & 2 & 4 & 0 \\\\\n",
    "\\end{array}\n",
    "\\end{equation}"
   ]
  },
  {
   "cell_type": "code",
   "execution_count": null,
   "metadata": {},
   "outputs": [],
   "source": [
    "#這個是HACKERRANK的Input處理方式，這裡Inputt的值為上面的每一個row,所以需要6次Input(range(6))\n",
    "arr = []\n",
    "for arr_i in range(6):\n",
    "    arr_t = [int(arr_temp) for arr_temp in input().strip().split(' ')]\n",
    "    arr.append(arr_t)"
   ]
  },
  {
   "cell_type": "markdown",
   "metadata": {},
   "source": [
    "我們這邊停下來看一下程式碼，以下是Input後arr的狀態:"
   ]
  },
  {
   "cell_type": "code",
   "execution_count": 10,
   "metadata": {},
   "outputs": [
    {
     "data": {
      "text/plain": [
       "[[1, 1, 1, 0, 0, 0],\n",
       " [0, 1, 0, 0, 0, 0],\n",
       " [1, 1, 1, 0, 0, 0],\n",
       " [0, 0, 2, 4, 4, 0],\n",
       " [0, 0, 0, 2, 0, 0],\n",
       " [0, 0, 1, 2, 4, 0]]"
      ]
     },
     "execution_count": 10,
     "metadata": {},
     "output_type": "execute_result"
    }
   ],
   "source": [
    "arr"
   ]
  },
  {
   "cell_type": "markdown",
   "metadata": {},
   "source": [
    "這邊我們舉第一次Input為例:"
   ]
  },
  {
   "cell_type": "code",
   "execution_count": 12,
   "metadata": {},
   "outputs": [],
   "source": [
    "#第一次Input的值為:\n",
    "input_1 = '1 1 1 0 0 0 ' #注意是字符串格式，而且後面有空格"
   ]
  },
  {
   "cell_type": "code",
   "execution_count": 13,
   "metadata": {},
   "outputs": [
    {
     "data": {
      "text/plain": [
       "'1 1 1 0 0 0'"
      ]
     },
     "execution_count": 13,
     "metadata": {},
     "output_type": "execute_result"
    }
   ],
   "source": [
    "#.strip()方法可以刪除前後空格\n",
    "input_1.strip()"
   ]
  },
  {
   "cell_type": "code",
   "execution_count": 15,
   "metadata": {},
   "outputs": [
    {
     "data": {
      "text/plain": [
       "['1', '1', '1', '0', '0', '0']"
      ]
     },
     "execution_count": 15,
     "metadata": {},
     "output_type": "execute_result"
    }
   ],
   "source": [
    "#.split()方法可以將字符串以空格分割並生成一個list，注意list裡面每一個值的格式仍是字符串\n",
    "input_1.strip().split()"
   ]
  },
  {
   "cell_type": "code",
   "execution_count": 16,
   "metadata": {},
   "outputs": [
    {
     "data": {
      "text/plain": [
       "[1, 1, 1, 0, 0, 0]"
      ]
     },
     "execution_count": 16,
     "metadata": {},
     "output_type": "execute_result"
    }
   ],
   "source": [
    "#這邊是使用列表生成方法生成一個裡面的值轉化為整數的列表\n",
    "[int(arr_temp) for arr_temp in input_1.strip().split()]\n",
    "#這個方法等基本與下面的方法等價"
   ]
  },
  {
   "cell_type": "code",
   "execution_count": 19,
   "metadata": {},
   "outputs": [
    {
     "name": "stdout",
     "output_type": "stream",
     "text": [
      "[1, 1, 1, 0, 0, 0]\n"
     ]
    }
   ],
   "source": [
    "ls = []\n",
    "for i in input_1.strip().split():\n",
    "    ls.append(int(i))\n",
    "print(ls)"
   ]
  },
  {
   "cell_type": "code",
   "execution_count": 20,
   "metadata": {},
   "outputs": [
    {
     "data": {
      "text/plain": [
       "[1, 1, 1, 0, 0, 0]"
      ]
     },
     "execution_count": 20,
     "metadata": {},
     "output_type": "execute_result"
    }
   ],
   "source": [
    "#題外話我個人更喜歡，但不一定哪個比較快，只是個人習慣\n",
    "list(map(int,input_1.strip().split()))"
   ]
  },
  {
   "cell_type": "markdown",
   "metadata": {},
   "source": [
    "將每一次Input的結果append(加在最後一項)進arr = [] 的空列表，就得到arr，本身arr是一個列表，裡面有六個數據，每個數據也是一個列表，裡面有我們每一次Input的row值:"
   ]
  },
  {
   "cell_type": "code",
   "execution_count": 23,
   "metadata": {},
   "outputs": [
    {
     "data": {
      "text/plain": [
       "[1, 1, 1, 0, 0, 0]"
      ]
     },
     "execution_count": 23,
     "metadata": {},
     "output_type": "execute_result"
    }
   ],
   "source": [
    "#例如，第 0 row\n",
    "arr[0]"
   ]
  },
  {
   "cell_type": "code",
   "execution_count": 25,
   "metadata": {},
   "outputs": [
    {
     "data": {
      "text/plain": [
       "1"
      ]
     },
     "execution_count": 25,
     "metadata": {},
     "output_type": "execute_result"
    }
   ],
   "source": [
    "#例如，第 0 row, 第 1 個值 ，也就是 row =0 ,col = 1\n",
    "arr[0][1]"
   ]
  },
  {
   "cell_type": "code",
   "execution_count": 27,
   "metadata": {},
   "outputs": [
    {
     "data": {
      "text/plain": [
       "1"
      ]
     },
     "execution_count": 27,
     "metadata": {},
     "output_type": "execute_result"
    }
   ],
   "source": [
    "#例如，第 1 row, 第 1 個值 ，也就是 row =1 ,col = 1, 也就是紅色的位置，是我們第一個沙漏的中心\n",
    "arr[1][1]"
   ]
  },
  {
   "cell_type": "markdown",
   "metadata": {},
   "source": [
    "\\begin{equation}\n",
    "\\begin{array}{llllll}\n",
    "\\color{blue}1 & \\color{green}1 & \\color{yellow}1 & 0 & 0 & 0 \\\\\n",
    "0 & \\color{red}1 & 0 & 0 & 0 & 0 \\\\\n",
    "\\color{purple}1 & \\color{brown}1 & \\color{magenta}1 & 0 & 0 & 0 \\\\\n",
    "0 & 0 & 2 & 4 & 4 & 0 \\\\\n",
    "0 & 0 & 0 & 2 & 0 & 0 \\\\\n",
    "0 & 0 & 1 & 2 & 4 & 0 \\\\\n",
    "\\end{array}\n",
    "\\end{equation}"
   ]
  },
  {
   "cell_type": "markdown",
   "metadata": {},
   "source": [
    "還記得我們上面定義的加總函數嗎，它的功能就是只要我們輸入沙漏的中心值，它就能把整個沙漏的數字加總返回給我們。\n"
   ]
  },
  {
   "cell_type": "markdown",
   "metadata": {},
   "source": [
    "\\begin{equation}\n",
    "\\begin{array}{llllll}\n",
    "\\color{red}1 & \\color{red}1 & \\color{red}1 & \\color{blue}0 & \\color{blue}0 & \\color{blue}0 \\\\\n",
    "0 & \\color{red}1 & 0 & 0 & \\color{blue}0 & 0 \\\\\n",
    "\\color{red}1 & \\color{red}1 & \\color{red}1 & \\color{blue}0 & \\color{blue}0 & \\color{blue}0 \\\\\n",
    "\\color{yellow}0 & \\color{yellow}0 & \\color{yellow}2 & \\color{green}4 & \\color{green}4 & \\color{green}0 \\\\\n",
    "0 & \\color{yellow}0 & 0 & 2 & \\color{green}0 & 0 \\\\\n",
    "\\color{yellow}0 & \\color{yellow}0 & \\color{yellow}1 & \\color{green}2 & \\color{green}4 & \\color{green}0 \\\\\n",
    "\\end{array}\n",
    "\\end{equation}"
   ]
  },
  {
   "cell_type": "code",
   "execution_count": 29,
   "metadata": {},
   "outputs": [
    {
     "data": {
      "text/plain": [
       "7"
      ]
     },
     "execution_count": 29,
     "metadata": {},
     "output_type": "execute_result"
    }
   ],
   "source": [
    "#例如我們輸出紅色的中心 row = 1 col = 1，得到加總值為7，正確 \n",
    "_get_hourglass_sum(arr, 1, 1)"
   ]
  },
  {
   "cell_type": "code",
   "execution_count": 31,
   "metadata": {},
   "outputs": [
    {
     "data": {
      "text/plain": [
       "14"
      ]
     },
     "execution_count": 31,
     "metadata": {},
     "output_type": "execute_result"
    }
   ],
   "source": [
    "#我們輸出綠色的中心 row = 4 col = 4，得到加總值為14，正確 \n",
    "_get_hourglass_sum(arr, 4, 4)"
   ]
  },
  {
   "cell_type": "markdown",
   "metadata": {},
   "source": [
    "接著，我們知道題目要我們比較 $16$ 個沙漏分別的加總值，因此我們要知道16個沙漏的中心，回上面去數一下，可以知道藍色的部位都分別是不同沙漏的中心:\n",
    "\n",
    "\\begin{equation}\n",
    "\\begin{array}{llllll}\n",
    "1 & 1 & 1 & 0 & 0 & 0 \\\\\n",
    "0 & \\color{blue}1 & \\color{blue}0 & \\color{blue}0 & \\color{blue}0 & 0 \\\\\n",
    "1 & \\color{blue}1 & \\color{blue}1 & \\color{blue}0 & \\color{blue}0 & 0 \\\\\n",
    "0 & \\color{blue}0 & \\color{blue}2 & \\color{blue}4 & \\color{blue}4 & 0 \\\\\n",
    "0 & \\color{blue}0 & \\color{blue}0 & \\color{blue}2 & \\color{blue}0 & 0 \\\\\n",
    "0 & 0 & 1 & 2 & 4 & 0 \\\\\n",
    "\\end{array}\n",
    "\\end{equation}"
   ]
  },
  {
   "cell_type": "code",
   "execution_count": 33,
   "metadata": {},
   "outputs": [
    {
     "name": "stdout",
     "output_type": "stream",
     "text": [
      "(1, 1)\n",
      "(1, 2)\n",
      "(1, 3)\n",
      "(1, 4)\n",
      "(2, 1)\n",
      "(2, 2)\n",
      "(2, 3)\n",
      "(2, 4)\n",
      "(3, 1)\n",
      "(3, 2)\n",
      "(3, 3)\n",
      "(3, 4)\n",
      "(4, 1)\n",
      "(4, 2)\n",
      "(4, 3)\n",
      "(4, 4)\n"
     ]
    }
   ],
   "source": [
    "#所以中心座標為\n",
    "for i in range(1,5):\n",
    "    for j in range(1,5):\n",
    "        print((i,j))"
   ]
  },
  {
   "cell_type": "markdown",
   "metadata": {},
   "source": [
    "我們先看你給我的詳解的寫法"
   ]
  },
  {
   "cell_type": "code",
   "execution_count": 34,
   "metadata": {},
   "outputs": [
    {
     "name": "stdout",
     "output_type": "stream",
     "text": [
      "19\n"
     ]
    }
   ],
   "source": [
    "#因為上面限制沙漏裡的值最小的是-9，所以整個沙漏最小的值是-9*7 = -63\n",
    "max_hourglass_sum=-63 #先將輸出結果訂為最小值\n",
    "for i in range(1,5):\n",
    "    for j in range(1,5):\n",
    "        current_hourglass_sum = _get_hourglass_sum(arr, i ,j) #依上面中心座標順序輸入座標\n",
    "        if current_hourglass_sum > max_hourglass_sum: #如果沙漏加總值大於輸出結果，把輸出結果更新為目前的沙漏加總值\n",
    "            max_hourglass_sum = current_hourglass_sum #loop運行完會比較完所有沙漏，輸出結果就會是所有沙漏的最大值\n",
    "print(max_hourglass_sum)\n"
   ]
  },
  {
   "cell_type": "code",
   "execution_count": 36,
   "metadata": {},
   "outputs": [
    {
     "data": {
      "text/plain": [
       "19"
      ]
     },
     "execution_count": 36,
     "metadata": {},
     "output_type": "execute_result"
    }
   ],
   "source": [
    "#當然我們也可以一次比較，帥一點\n",
    "max([_get_hourglass_sum(arr, i ,j) for i in range(1,5) for j in range(1,5)])\n"
   ]
  }
 ],
 "metadata": {
  "kernelspec": {
   "display_name": "Python 3.10.2 64-bit",
   "language": "python",
   "name": "python3"
  },
  "language_info": {
   "codemirror_mode": {
    "name": "ipython",
    "version": 3
   },
   "file_extension": ".py",
   "mimetype": "text/x-python",
   "name": "python",
   "nbconvert_exporter": "python",
   "pygments_lexer": "ipython3",
   "version": "3.10.2"
  },
  "orig_nbformat": 4,
  "vscode": {
   "interpreter": {
    "hash": "1b43cb0bd93d5abbadd54afed8252f711d4681fe6223ad6b67ffaee289648f85"
   }
  }
 },
 "nbformat": 4,
 "nbformat_minor": 2
}
