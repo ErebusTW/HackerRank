{
 "cells": [
  {
   "cell_type": "markdown",
   "metadata": {},
   "source": [
    "**<font  size=6>Day 24: More Linked Lists</font>**\n"
   ]
  },
  {
   "cell_type": "markdown",
   "metadata": {},
   "source": [
    "**Objective**  \n",
    "Check out the Tutorial tab for learning materials and an instructional video!"
   ]
  },
  {
   "cell_type": "markdown",
   "metadata": {},
   "source": [
    "**Task**  \n",
    "A Node class is provided for you in the editor. A Node object has an integer data field, $data$, and a Node instance pointer, $next$   \n",
    ", pointing to another node (i.e.: the next node in a list).\n",
    "\n",
    "A removeDuplicates function is declared in your editor, which takes a pointer to the $head$ node of a linked list as a parameter.  \n",
    "Complete removeDuplicates so that it deletes any duplicate nodes from the list and returns the head of the updated list."
   ]
  },
  {
   "cell_type": "markdown",
   "metadata": {},
   "source": [
    "**Note**:the $head$ pointer may be null, indicating that the list is empty. Be sure to reset your $next$ pointer when performing   \n",
    "deletions to avoid breaking the list."
   ]
  },
  {
   "cell_type": "markdown",
   "metadata": {},
   "source": [
    "**Input Format**\n",
    "\n",
    "You do not need to read any input from stdin. The following input is handled by the locked stub code and passed to the  \n",
    "removeDuplicates function:  \n",
    "The first line contains an integer, $N$, the number of nodes to be inserted.  \n",
    "The $N$ subsequent lines each contain an integer describing the $data$ value of a node being inserted at the list's tail."
   ]
  },
  {
   "cell_type": "markdown",
   "metadata": {},
   "source": [
    "**Constraints**\n",
    "\n",
    "- The data elements of the linked list argument will always be in non-decreasing order."
   ]
  },
  {
   "cell_type": "markdown",
   "metadata": {},
   "source": [
    "**Output Format**  \n",
    "\n",
    "Your removeDuplicates function should return the head of the updated linked list. The locked stub code in your editor will print  \n",
    "the returned list to stdout."
   ]
  },
  {
   "cell_type": "markdown",
   "metadata": {},
   "source": [
    "**Sample Input**  \n",
    "  \n",
    "6  \n",
    "1  \n",
    "2  \n",
    "2  \n",
    "3  \n",
    "3  \n",
    "4  "
   ]
  },
  {
   "cell_type": "markdown",
   "metadata": {},
   "source": [
    "**Sample Output**\n",
    "\n",
    "1 2 3 4"
   ]
  },
  {
   "cell_type": "markdown",
   "metadata": {},
   "source": [
    "**Explanation**\n",
    "\n",
    "$N=6$, and our non-decreasing list is ${1, 2, 2, 3, 3, 4}$. The values $2$ and $3$ both occur twice in the list, so we remove the two  \n",
    "duplicate nodes. We then return our updated (ascending) list, which is ${1, 2, 3, 4}$."
   ]
  },
  {
   "cell_type": "markdown",
   "metadata": {},
   "source": [
    "**<font  size=5>題目解析</font>**"
   ]
  },
  {
   "cell_type": "markdown",
   "metadata": {},
   "source": [
    "這一題我們回到鍊表，題目希望我們完成removeDuplicates方法，去除鍊表中的重複值。"
   ]
  },
  {
   "cell_type": "markdown",
   "metadata": {},
   "source": [
    "我們先看內建的代碼。"
   ]
  },
  {
   "cell_type": "code",
   "execution_count": null,
   "metadata": {},
   "outputs": [],
   "source": [
    "class Node: #建立一個鍊表\n",
    "    def __init__(self,data):\n",
    "        self.data = data #鍊表值\n",
    "        self.next = None #下個節點"
   ]
  },
  {
   "cell_type": "markdown",
   "metadata": {},
   "source": [
    "我儘量講的詳細點，其實搞懂以後鍊表也沒那麼可怕。"
   ]
  },
  {
   "cell_type": "code",
   "execution_count": 88,
   "metadata": {},
   "outputs": [],
   "source": [
    "#我們先輸入鍊表值建立鍊表head\n",
    "class Solution: \n",
    "    def insert(self,head,data):\n",
    "            p = Node(data)           \n",
    "            if head==None:\n",
    "                head=p\n",
    "            elif head.next==None:\n",
    "                head.next=p\n",
    "            else:\n",
    "                start=head\n",
    "                while(start.next!=None):\n",
    "                    start=start.next\n",
    "                start.next=p\n",
    "            return head  \n",
    "\n",
    "\n",
    "mylist= Solution()\n",
    "T=int(input())\n",
    "head=None\n",
    "for i in range(T):\n",
    "    data=int(input())\n",
    "    head=mylist.insert(head,data)  "
   ]
  },
  {
   "cell_type": "markdown",
   "metadata": {},
   "source": [
    "**鍊表基礎結構**"
   ]
  },
  {
   "cell_type": "markdown",
   "metadata": {},
   "source": [
    "- - -\n",
    "這時候我們有鍊表head，目前我們在鍊表的第一個節點"
   ]
  },
  {
   "cell_type": "code",
   "execution_count": null,
   "metadata": {},
   "outputs": [
    {
     "data": {
      "text/plain": [
       "<__main__.Node at 0x147a297ce20>"
      ]
     },
     "execution_count": 92,
     "metadata": {},
     "output_type": "execute_result"
    }
   ],
   "source": [
    "head #鍊表的第一個節點"
   ]
  },
  {
   "cell_type": "markdown",
   "metadata": {},
   "source": [
    "這時候我們在這裡:\n",
    "  \n",
    "$(1) \\rightarrow 2 \\rightarrow 2 \\rightarrow 3 \\rightarrow 3 \\rightarrow 4$"
   ]
  },
  {
   "cell_type": "markdown",
   "metadata": {},
   "source": [
    "鍊表head的第一個節點值為"
   ]
  },
  {
   "cell_type": "code",
   "execution_count": 91,
   "metadata": {},
   "outputs": [
    {
     "data": {
      "text/plain": [
       "1"
      ]
     },
     "execution_count": 91,
     "metadata": {},
     "output_type": "execute_result"
    }
   ],
   "source": [
    "head.data"
   ]
  },
  {
   "cell_type": "markdown",
   "metadata": {},
   "source": [
    "- - -\n",
    "第一個節點的next方法可以讓我們把鍊表移動到第二個節點"
   ]
  },
  {
   "cell_type": "code",
   "execution_count": 93,
   "metadata": {},
   "outputs": [
    {
     "data": {
      "text/plain": [
       "<__main__.Node at 0x147a2fc7d30>"
      ]
     },
     "execution_count": 93,
     "metadata": {},
     "output_type": "execute_result"
    }
   ],
   "source": [
    "head.next"
   ]
  },
  {
   "cell_type": "markdown",
   "metadata": {},
   "source": [
    "這時候我們在這裡:\n",
    "  \n",
    "$1 \\rightarrow (2) \\rightarrow 2 \\rightarrow 3 \\rightarrow 3 \\rightarrow 4$"
   ]
  },
  {
   "cell_type": "markdown",
   "metadata": {},
   "source": [
    "鍊表head的第二個節點值為"
   ]
  },
  {
   "cell_type": "code",
   "execution_count": 94,
   "metadata": {},
   "outputs": [
    {
     "data": {
      "text/plain": [
       "2"
      ]
     },
     "execution_count": 94,
     "metadata": {},
     "output_type": "execute_result"
    }
   ],
   "source": [
    "head.next.data"
   ]
  },
  {
   "cell_type": "markdown",
   "metadata": {},
   "source": [
    "- - -\n",
    "第二個節點的next方法可以讓我們把鍊表移動到第三個節點"
   ]
  },
  {
   "cell_type": "code",
   "execution_count": 95,
   "metadata": {},
   "outputs": [
    {
     "data": {
      "text/plain": [
       "<__main__.Node at 0x147a2fc65f0>"
      ]
     },
     "execution_count": 95,
     "metadata": {},
     "output_type": "execute_result"
    }
   ],
   "source": [
    "head.next.next"
   ]
  },
  {
   "cell_type": "markdown",
   "metadata": {},
   "source": [
    "這時候我們在這裡:\n",
    "  \n",
    "$1 \\rightarrow 2 \\rightarrow (2) \\rightarrow 3 \\rightarrow 3 \\rightarrow 4$"
   ]
  },
  {
   "cell_type": "markdown",
   "metadata": {},
   "source": [
    "鍊表head的第三個節點值為"
   ]
  },
  {
   "cell_type": "code",
   "execution_count": 96,
   "metadata": {},
   "outputs": [
    {
     "data": {
      "text/plain": [
       "2"
      ]
     },
     "execution_count": 96,
     "metadata": {},
     "output_type": "execute_result"
    }
   ],
   "source": [
    "head.next.next.data"
   ]
  },
  {
   "cell_type": "markdown",
   "metadata": {},
   "source": [
    "- - -\n",
    "第三個節點的next方法可以讓我們把鍊表移動到第四個節點"
   ]
  },
  {
   "cell_type": "code",
   "execution_count": 97,
   "metadata": {},
   "outputs": [
    {
     "data": {
      "text/plain": [
       "<__main__.Node at 0x147a2fc7cd0>"
      ]
     },
     "execution_count": 97,
     "metadata": {},
     "output_type": "execute_result"
    }
   ],
   "source": [
    "head.next.next.next"
   ]
  },
  {
   "cell_type": "markdown",
   "metadata": {},
   "source": [
    "這時候我們在這裡:\n",
    "  \n",
    "$1 \\rightarrow 2 \\rightarrow 2 \\rightarrow (3) \\rightarrow 3 \\rightarrow 4$"
   ]
  },
  {
   "cell_type": "markdown",
   "metadata": {},
   "source": [
    "鍊表head的第四個節點值為"
   ]
  },
  {
   "cell_type": "code",
   "execution_count": 98,
   "metadata": {},
   "outputs": [
    {
     "data": {
      "text/plain": [
       "3"
      ]
     },
     "execution_count": 98,
     "metadata": {},
     "output_type": "execute_result"
    }
   ],
   "source": [
    "head.next.next.next.data"
   ]
  },
  {
   "cell_type": "markdown",
   "metadata": {},
   "source": [
    "依此類推\n",
    "- - -"
   ]
  },
  {
   "cell_type": "markdown",
   "metadata": {},
   "source": [
    "所以說，我們要有一個方式讓他可以自動往下next，但我們又無法在每個循環多加一個.next，那要怎麼辦呢?  \n",
    "**注意**:看懂這裡就不用硬背"
   ]
  },
  {
   "cell_type": "markdown",
   "metadata": {},
   "source": [
    "我們拿上面的第四個節點來舉例"
   ]
  },
  {
   "cell_type": "code",
   "execution_count": 99,
   "metadata": {},
   "outputs": [
    {
     "data": {
      "text/plain": [
       "<__main__.Node at 0x147a2fc7cd0>"
      ]
     },
     "execution_count": 99,
     "metadata": {},
     "output_type": "execute_result"
    }
   ],
   "source": [
    "#第四個節點\n",
    "head.next.next.next"
   ]
  },
  {
   "cell_type": "code",
   "execution_count": 100,
   "metadata": {},
   "outputs": [
    {
     "data": {
      "text/plain": [
       "3"
      ]
     },
     "execution_count": 100,
     "metadata": {},
     "output_type": "execute_result"
    }
   ],
   "source": [
    "#第四個節點值\n",
    "head.next.next.next.data"
   ]
  },
  {
   "cell_type": "markdown",
   "metadata": {},
   "source": [
    "這時我們尋找一種可循環的表示方法，發現我們可以 "
   ]
  },
  {
   "cell_type": "code",
   "execution_count": 101,
   "metadata": {},
   "outputs": [
    {
     "data": {
      "text/plain": [
       "<__main__.Node at 0x147a2fc7cd0>"
      ]
     },
     "execution_count": 101,
     "metadata": {},
     "output_type": "execute_result"
    }
   ],
   "source": [
    "node = head.next.next #第三個節點\n",
    "node.next#這時候node = head.next.next 所以node.next =head.next.next.next 第四個節點"
   ]
  },
  {
   "cell_type": "markdown",
   "metadata": {},
   "source": [
    "進一步想，我們也可以"
   ]
  },
  {
   "cell_type": "code",
   "execution_count": 102,
   "metadata": {},
   "outputs": [
    {
     "data": {
      "text/plain": [
       "<__main__.Node at 0x147a2fc65f0>"
      ]
     },
     "execution_count": 102,
     "metadata": {},
     "output_type": "execute_result"
    }
   ],
   "source": [
    "node = head.next #第二個節點\n",
    "node.next #第三個節點(head.next.next)"
   ]
  },
  {
   "cell_type": "code",
   "execution_count": 103,
   "metadata": {},
   "outputs": [
    {
     "data": {
      "text/plain": [
       "<__main__.Node at 0x147a2fc7cd0>"
      ]
     },
     "execution_count": 103,
     "metadata": {},
     "output_type": "execute_result"
    }
   ],
   "source": [
    "node = node.next #把node更改為第三個節點 (node = head.next.next)\n",
    "node.next#第四個節點(head.next.next.next)"
   ]
  },
  {
   "cell_type": "markdown",
   "metadata": {},
   "source": [
    "所以我們如果要用方便的方式表示第四個節點"
   ]
  },
  {
   "cell_type": "code",
   "execution_count": null,
   "metadata": {},
   "outputs": [],
   "source": [
    "#原本寫法\n",
    "head.next.next.next"
   ]
  },
  {
   "cell_type": "code",
   "execution_count": 104,
   "metadata": {},
   "outputs": [],
   "source": [
    "#我們變成可以這樣寫\n",
    "node = head \n",
    "node = node.next #這時 node.next = head.next，因為node = head，然後我們把node.next賦值給node，所以賦值完後node = head.next\n",
    "node = node.next #同理，賦值完後node = head.next.next\n",
    "node = node.next #同理，賦值完後node = head.next.next.next"
   ]
  },
  {
   "cell_type": "code",
   "execution_count": 105,
   "metadata": {},
   "outputs": [
    {
     "data": {
      "text/plain": [
       "<__main__.Node at 0x147a2fc7cd0>"
      ]
     },
     "execution_count": 105,
     "metadata": {},
     "output_type": "execute_result"
    }
   ],
   "source": [
    "#這時我們知道node是第四個節點\n",
    "node"
   ]
  },
  {
   "cell_type": "code",
   "execution_count": 106,
   "metadata": {},
   "outputs": [
    {
     "data": {
      "text/plain": [
       "3"
      ]
     },
     "execution_count": 106,
     "metadata": {},
     "output_type": "execute_result"
    }
   ],
   "source": [
    "node.data"
   ]
  },
  {
   "cell_type": "code",
   "execution_count": 107,
   "metadata": {},
   "outputs": [],
   "source": [
    "#上面寫了三次node.next，我們可以用循環表達\n",
    "node = head\n",
    "for i in range(3):#循環三次\n",
    "    node = node.next"
   ]
  },
  {
   "cell_type": "code",
   "execution_count": 109,
   "metadata": {},
   "outputs": [
    {
     "data": {
      "text/plain": [
       "<__main__.Node at 0x147a2fc7cd0>"
      ]
     },
     "execution_count": 109,
     "metadata": {},
     "output_type": "execute_result"
    }
   ],
   "source": [
    "#這時node是第四個節點\n",
    "node"
   ]
  },
  {
   "cell_type": "markdown",
   "metadata": {},
   "source": [
    "- - -"
   ]
  },
  {
   "cell_type": "markdown",
   "metadata": {},
   "source": [
    "了解了我們就直接看內建代碼吧"
   ]
  },
  {
   "cell_type": "code",
   "execution_count": 112,
   "metadata": {},
   "outputs": [],
   "source": [
    "class Solution: \n",
    "    def insert(self,head,data):#建立鍊表\n",
    "        p = Node(data)#p為一個節點           \n",
    "        if head==None:#如果head不存在\n",
    "            head=p #把這個節點賦值給head\n",
    "        elif head.next==None:#如果head.next不存在，把這個節點賦值給head.next\n",
    "            head.next=p\n",
    "        else:\n",
    "            start=head#這裡start = head\n",
    "            while(start.next!=None):\n",
    "                start=start.next#舉個例\n",
    "                                #(1)如果start.next也就是head.next 不等於 None，也就是第二個節點存在，start = start.next，所以這時start = head.next。循環繼續\n",
    "                                #(2)如果start.next也就是head.next.next 不等於 None，也就是第三個節點存在，start = start.next，所以這時start = head.next.next。循環繼續\n",
    "                                #當然值接運行到話，第一、二個節點是if 和 elif加入的，第三個節點不存在，所以會停在步驟(2)，這邊是舉例\n",
    "                                #(3)如果start.next也就是head.next.next.next 等於 None，也就是第四個節點不存在，循環停止，start停在 = head.next.next\n",
    "            start.next=p#所以這時start.next = head.next.next.next ，也就是我們把 p 也就是Node(data)，賦值給head.next.next.next(第四個節點)\n",
    "        return head  \n",
    "    def display(self,head):\n",
    "        current = head\n",
    "        while current:\n",
    "            print(current.data,end=' ')\n",
    "            current = current.next#(1)current.data = head.data\n",
    "                                  #(2)current.data = head.next.data\n",
    "                                  #(3)current.data = head.next.next.data..."
   ]
  },
  {
   "cell_type": "code",
   "execution_count": 75,
   "metadata": {},
   "outputs": [],
   "source": [
    "mylist= Solution()\n",
    "T=int(input())\n",
    "head=None\n",
    "for i in range(T):#執行T次，加入T個值\n",
    "    data=int(input())\n",
    "    head=mylist.insert(head,data)  "
   ]
  },
  {
   "cell_type": "markdown",
   "metadata": {},
   "source": [
    "- - -\n",
    "開始解題啦!"
   ]
  },
  {
   "cell_type": "code",
   "execution_count": null,
   "metadata": {},
   "outputs": [],
   "source": [
    "def removeDuplicates(self,head):\n",
    "        #Write your code here\n",
    "        l=[]\n",
    "        node = head #node =head\n",
    "        while node:\n",
    "            if node.data not in l: #如果node.data不在l裡\n",
    "                previous=node \n",
    "                l.append(node.data) \n",
    "                node=node.next \n",
    "            else:\n",
    "                previous.next=node.next \n",
    "                node = node.next\n",
    "                \n",
    "        return head"
   ]
  },
  {
   "cell_type": "markdown",
   "metadata": {},
   "source": [
    "我們分步驟解釋，假設鍊表是1 2 2 3 3 4\n",
    "\n",
    "node = head\n",
    "\n",
    "所以:\n",
    "\n",
    "第一次循環  \n",
    "l = []  \n",
    "node.data = head.data = 1 not in l，因此  \n",
    "previous = node，這邊 previous 是head ，node 也是head  \n",
    "l.append(1)\n",
    "node = node.next=head.next\n",
    "\n",
    "第二次循環\n",
    "l = [1]\n",
    "node.data = head.next.data = 2 not in l，因此  \n",
    "previous = node = head.next 這邊python會認定我們在修改previous這個對象而不是修改head所以把head.next 賦值給previous  \n",
    "l.append(2)\n",
    "node = node.next=head.next.next\n",
    "\n",
    "第三次循環\n",
    "l = [1,2]\n",
    "node.data = head.next.next.data = 2 is in l，因此  \n",
    "previous.next = head.next.next  \n",
    "node.next = head.next.next.next 這邊python會認定我們的previous.next(不是一個對象名)就是head.next.next，所以我們相當於把head.next.next = head.next.next.next，也就是說，重複了，我們直接往前移，相當於把前面重複的值覆蓋掉，只留最後一個值。  \n",
    "l.append(2)\n",
    "node = node.next=head.next.next\n",
    "\n",
    "\n",
    "..."
   ]
  },
  {
   "cell_type": "code",
   "execution_count": 126,
   "metadata": {},
   "outputs": [
    {
     "name": "stdout",
     "output_type": "stream",
     "text": [
      "1 2 3 4 "
     ]
    }
   ],
   "source": [
    "class Node:\n",
    "    def __init__(self,data):\n",
    "        self.data = data\n",
    "        self.next = None \n",
    "class Solution: \n",
    "    def insert(self,head,data):\n",
    "            p = Node(data)           \n",
    "            if head==None:\n",
    "                head=p\n",
    "            elif head.next==None:\n",
    "                head.next=p\n",
    "            else:\n",
    "                start=head\n",
    "                while(start.next!=None):\n",
    "                    start=start.next\n",
    "                start.next=p\n",
    "            return head  \n",
    "    def display(self,head):\n",
    "        current = head\n",
    "        while current:\n",
    "            print(current.data,end=' ')\n",
    "            current = current.next\n",
    "\n",
    "    def removeDuplicates(self,head):\n",
    "        #Write your code here\n",
    "        l=[]\n",
    "        node = head\n",
    "        while node:\n",
    "            if node.data in l:\n",
    "                previous.next=node.next\n",
    "                node = node.next\n",
    "            else:\n",
    "                previous=node\n",
    "                l.append(node.data)\n",
    "                node=node.next\n",
    "        return head\n",
    "mylist= Solution()\n",
    "T=int(input())\n",
    "head=None\n",
    "for i in range(T):\n",
    "    data=int(input())\n",
    "    head=mylist.insert(head,data)    \n",
    "head=mylist.removeDuplicates(head)\n",
    "mylist.display(head); "
   ]
  }
 ],
 "metadata": {
  "kernelspec": {
   "display_name": "Python 3.10.2 64-bit",
   "language": "python",
   "name": "python3"
  },
  "language_info": {
   "codemirror_mode": {
    "name": "ipython",
    "version": 3
   },
   "file_extension": ".py",
   "mimetype": "text/x-python",
   "name": "python",
   "nbconvert_exporter": "python",
   "pygments_lexer": "ipython3",
   "version": "3.10.2"
  },
  "orig_nbformat": 4,
  "vscode": {
   "interpreter": {
    "hash": "1b43cb0bd93d5abbadd54afed8252f711d4681fe6223ad6b67ffaee289648f85"
   }
  }
 },
 "nbformat": 4,
 "nbformat_minor": 2
}
