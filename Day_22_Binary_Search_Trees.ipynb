{
 "cells": [
  {
   "cell_type": "markdown",
   "metadata": {},
   "source": [
    "**<font  size=6>Day 22: Binary Search Trees</font>**\n"
   ]
  },
  {
   "cell_type": "markdown",
   "metadata": {},
   "source": [
    "**Objective**  \n",
    "Today, we're working with Binary Search Trees (BSTs). Check out the Tutorial tab for learning materials and an instructional  \n",
    "video!"
   ]
  },
  {
   "cell_type": "markdown",
   "metadata": {},
   "source": [
    "**Task**  \n",
    "The height of a binary search tree is the number of edges between the tree's root and its furthest leaf. You are given a pointer,  \n",
    "$root$ , pointing to the root of a binary search tree. Complete the getHeight function provided in your editor so that it returns the  \n",
    "height of the binary search tree."
   ]
  },
  {
   "cell_type": "markdown",
   "metadata": {},
   "source": [
    "**Input Format**\n",
    "\n",
    "The locked stub code in your editor reads the following inputs and assembles them into a binary search tree:  \n",
    "The first line contains an integer, $n$ , denoting the number of nodes in the tree.  \n",
    "Each of the $n$ subsequent lines contains an integer, $data$ , denoting the value of an element that must be added to the BST."
   ]
  },
  {
   "cell_type": "markdown",
   "metadata": {},
   "source": [
    "**Output Format**\n",
    "\n",
    "The locked stub code in your editor will print the integer returned by your getHeight function denoting the height of the BST."
   ]
  },
  {
   "cell_type": "markdown",
   "metadata": {},
   "source": [
    "Sample Input\n",
    "\n",
    "7  \n",
    "3  \n",
    "5  \n",
    "2  \n",
    "1  \n",
    "4  \n",
    "6  \n",
    "7  "
   ]
  },
  {
   "cell_type": "markdown",
   "metadata": {},
   "source": [
    "Sample Output  \n",
    "  \n",
    "3  "
   ]
  },
  {
   "cell_type": "markdown",
   "metadata": {},
   "source": [
    "**Explanation**\n",
    "\n",
    "The input forms the following BST:"
   ]
  },
  {
   "cell_type": "markdown",
   "metadata": {},
   "source": [
    "# ![title](Day_22_image1.png)"
   ]
  },
  {
   "cell_type": "markdown",
   "metadata": {},
   "source": [
    "The longest root-to-leaf path is shown below:"
   ]
  },
  {
   "cell_type": "markdown",
   "metadata": {},
   "source": [
    "# ![title](Day_22_image2.png)"
   ]
  },
  {
   "cell_type": "markdown",
   "metadata": {},
   "source": [
    "There are $4$ nodes in this path that are connected by $3$ edges, meaning our BST's $height = 3$. Thus, we print $3$ as our answer."
   ]
  },
  {
   "cell_type": "markdown",
   "metadata": {},
   "source": [
    "**<font  size=5>題目解析</font>**"
   ]
  },
  {
   "cell_type": "code",
   "execution_count": 9,
   "metadata": {},
   "outputs": [],
   "source": [
    "from pycallgraph import PyCallGraph\n",
    "from pycallgraph import Config\n",
    "from pycallgraph.output import GraphvizOutput"
   ]
  },
  {
   "cell_type": "code",
   "execution_count": null,
   "metadata": {},
   "outputs": [],
   "source": [
    "#運行可視化\n",
    "def main():\n",
    "    graphviz = GraphvizOutput()\n",
    "    graphviz.output_file ='regexp2.png'\n",
    "    with PyCallGraph(output=graphviz):\n",
    "       #你要跑的代碼\n",
    "\n",
    "if __name__ =='__main__':\n",
    "    main()"
   ]
  },
  {
   "cell_type": "markdown",
   "metadata": {},
   "source": [
    "這一題希望我們完成一個可以用於計算二元搜索樹(Binary Search Tree)高度的getHeight方法。  "
   ]
  },
  {
   "cell_type": "markdown",
   "metadata": {},
   "source": [
    "**二元搜尋樹**（英語：Binary Search Tree），也稱為**有序二元樹**（ordered binary tree）或**排序二元樹**（sorted binary tree）  \n",
    "，是指一棵空樹或者具有下列性質的二元樹：\n",
    "1. 若任意節點的左子樹不空，則左子樹上所有節點的值均小於它的根節點的值；\n",
    "2. 若任意節點的右子樹不空，則右子樹上所有節點的值均大於它的根節點的值；\n",
    "3. 任意節點的左、右子樹也分別為二元搜尋樹；"
   ]
  },
  {
   "cell_type": "markdown",
   "metadata": {},
   "source": [
    "我們來看題目內建的代碼是如何架構一個二元搜索樹的，這題會用到大量的遞歸結構，我們嘗試使用可視化運行，方便了解整個結構:"
   ]
  },
  {
   "cell_type": "code",
   "execution_count": 14,
   "metadata": {},
   "outputs": [],
   "source": [
    "class Node:#建立一個Node的class\n",
    "    def __init__(self,data):\n",
    "        self.right=self.left=None #左右分支都是None\n",
    "        self.data = data #Node的值為data\n",
    "class Solution:\n",
    "    def insert(self,root,data):#建立一個插入值的方法\n",
    "        if root==None:#如果root為None\n",
    "            return Node(data)#返回Node(data)\n",
    "        else:\n",
    "            if data<=root.data:#如果root.data 大於data\n",
    "                cur=self.insert(root.left,data)#(1)#將data插入到root的左邊\n",
    "                root.left=cur\n",
    "            else:\n",
    "                cur=self.insert(root.right,data)#(2)#將data插入到root的右邊\n",
    "                root.right=cur\n",
    "        return root"
   ]
  },
  {
   "cell_type": "markdown",
   "metadata": {},
   "source": [
    "接著我們解釋一下運行時每次遞歸做了什麼(第一次講遞歸，會解釋的仔細一點):"
   ]
  },
  {
   "cell_type": "code",
   "execution_count": 15,
   "metadata": {},
   "outputs": [],
   "source": [
    "T=int(input())#輸入個數\n",
    "myTree=Solution()#實例化\n",
    "root=None#定義root=None\n",
    "for i in range(T):#下面講解\n",
    "    data=int(input())\n",
    "    root=myTree.insert(root,data)"
   ]
  },
  {
   "cell_type": "markdown",
   "metadata": {},
   "source": [
    "for 循環的拆解:\n",
    "1. 輸入data = 3，調用insert方法，目前root = None，因此返回Node(3)，將root付值為Node(3)。\n",
    "2. 輸入data = 5，調用insert方法，目前root = Node(3)，root.right = root.left = None，因(root.data = 3) <= (data = 5)，執行上面的#(2)，這邊root.right = None，因此#(2)返回Node(5)，將#(2)返回的Node(5)付值給root.right，並返回root.\n",
    "3. 輸入data = 2，調用insert方法，目前root = Node(3)，root.right = Node(5)，root.left = None，因(root.data = 3) >= (data = 2)，執行上面的#(1)，這邊root.left = None，因此#(1)返回Node(2)，將#(1)返回的Node(2)付值給root.left，並返回root.\n",
    "4. 輸入data = 1，調用insert方法，目前root = Node(3)，root.right = Node(5)，root.left = Node(2)，因(root.data = 3) >= (data = 1)，執行上面的#(1)，這邊root.left = Node(2)，因此#(1)調用insert方法，#(1)中的#(1)root = root.left = Node(2), #(1)root.left = #(1)root.right = None ，因(root.data = 2) >= (data = 1)，執行#(1)#(1)，這邊#(1)root.left = None，因此#(1)#(1)返回Node(1)，將#(1)#(1)返回的Node(1)付值給#(1)root.left，並返回root.\n",
    "5. 輸入data = 4，調用insert方法，目前root = Node(3)，root.right = Node(5)，root.left = Node(2)，(root.left).left = Node(1)，依此類推...\n"
   ]
  },
  {
   "cell_type": "markdown",
   "metadata": {},
   "source": [
    "for循環結束後我們就有以下的樹:"
   ]
  },
  {
   "cell_type": "markdown",
   "metadata": {},
   "source": [
    "# ![title](Day_22_image1.png)"
   ]
  },
  {
   "cell_type": "markdown",
   "metadata": {},
   "source": [
    "從運行可視化中，我們可以看到，insert被__main__調用了7次(例如:輸入data = 3，**調用**insert方法)，也就是循環中的root=myTree.insert(root,data)七次調用。在這7次調用中都，內部總共遞歸了11次，分別是:\n",
    "1. 輸入3，0次遞歸\n",
    "2. 輸入5，1次遞歸#(2)\n",
    "3. 輸入2，1次遞歸#(1)\n",
    "4. 輸入1，2次遞歸#(1)#(1)\n",
    "5. 輸入4，2次遞歸#(2)#(1)\n",
    "6. 輸入6，2次遞歸#(2)#(2)\n",
    "7. 輸入6，3次遞歸#(2)#(2)#(2)"
   ]
  },
  {
   "cell_type": "markdown",
   "metadata": {},
   "source": [
    "# ![title](regexp1.png)"
   ]
  },
  {
   "cell_type": "code",
   "execution_count": null,
   "metadata": {},
   "outputs": [],
   "source": [
    "height=myTree.getHeight(root)#最後題目會調用getHeight函數\n",
    "print(height)       "
   ]
  },
  {
   "cell_type": "markdown",
   "metadata": {},
   "source": [
    "講完遞歸開始做題吧!\n"
   ]
  },
  {
   "cell_type": "code",
   "execution_count": 2,
   "metadata": {},
   "outputs": [],
   "source": [
    "def getHeight(self,root):\n",
    "    #Write your code here\n",
    "    if not root:#如果root = None 返回-1\n",
    "        return -1\n",
    "    return max(1 + self.getHeight(root.left), 1 + self.getHeight(root.right))"
   ]
  },
  {
   "cell_type": "markdown",
   "metadata": {},
   "source": [
    "為了好理解我們先講單邊，假設return 1 + self.getHeight(root.right)，遞歸是如何運行的呢?"
   ]
  },
  {
   "cell_type": "markdown",
   "metadata": {},
   "source": [
    "root = Node(3)，返回1+(root =Node(5),返回1+(root = Node(6)，返回1+(root = Node(7)，返回(1+(root = None，返回-1)))))"
   ]
  },
  {
   "cell_type": "markdown",
   "metadata": {},
   "source": [
    "因此，return 出的值為 3。推廣到max(1 + self.getHeight(root.left), 1 + self.getHeight(root.right))，就是我們把所有分支都試一次找最大的。"
   ]
  },
  {
   "cell_type": "markdown",
   "metadata": {},
   "source": [
    "運行可視化中我們可以看到，__main__調用了1次，內部遞歸了14次，分別是，每個節點各兩次。\n"
   ]
  },
  {
   "cell_type": "markdown",
   "metadata": {},
   "source": [
    "# ![title](regexp2.png)"
   ]
  },
  {
   "cell_type": "markdown",
   "metadata": {},
   "source": [
    "一次跑起來"
   ]
  },
  {
   "cell_type": "code",
   "execution_count": 12,
   "metadata": {},
   "outputs": [
    {
     "name": "stdout",
     "output_type": "stream",
     "text": [
      "3\n"
     ]
    }
   ],
   "source": [
    "class Node:\n",
    "    def __init__(self,data):\n",
    "        self.right=self.left=None\n",
    "        self.data = data\n",
    "class Solution:\n",
    "    def insert(self,root,data):\n",
    "        if root==None:\n",
    "            return Node(data)\n",
    "        else:\n",
    "            if data<=root.data:\n",
    "                cur=self.insert(root.left,data)\n",
    "                root.left=cur\n",
    "            else:\n",
    "                cur=self.insert(root.right,data)\n",
    "                root.right=cur\n",
    "        return root\n",
    "\n",
    "    def getHeight(self,root):\n",
    "        #Write your code here\n",
    "        if not root:\n",
    "            return -1\n",
    "        return max(1 + self.getHeight(root.left), 1 + self.getHeight(root.right))\n",
    "T=int(input())\n",
    "myTree=Solution()\n",
    "root=None\n",
    "for i in range(T):\n",
    "    data=int(input())\n",
    "    root=myTree.insert(root,data)\n",
    "height=myTree.getHeight(root)\n",
    "print(height)"
   ]
  }
 ],
 "metadata": {
  "kernelspec": {
   "display_name": "Python 3.10.2 64-bit",
   "language": "python",
   "name": "python3"
  },
  "language_info": {
   "codemirror_mode": {
    "name": "ipython",
    "version": 3
   },
   "file_extension": ".py",
   "mimetype": "text/x-python",
   "name": "python",
   "nbconvert_exporter": "python",
   "pygments_lexer": "ipython3",
   "version": "3.10.2"
  },
  "orig_nbformat": 4,
  "vscode": {
   "interpreter": {
    "hash": "1b43cb0bd93d5abbadd54afed8252f711d4681fe6223ad6b67ffaee289648f85"
   }
  }
 },
 "nbformat": 4,
 "nbformat_minor": 2
}
