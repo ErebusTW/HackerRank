{
 "cells": [
  {
   "cell_type": "markdown",
   "metadata": {},
   "source": [
    "**<font  size=6>Day 26: Nested Logic</font>**"
   ]
  },
  {
   "cell_type": "markdown",
   "metadata": {},
   "source": [
    "**Objective**  \n",
    "\n",
    "Today's challenge puts your understanding of nested conditional statements to the test. You already have the knowledge to  \n",
    "complete this challenge, but check out the Tutorial tab for a video on testing."
   ]
  },
  {
   "cell_type": "markdown",
   "metadata": {},
   "source": [
    "**Task**  \n",
    "\n",
    "Your local library needs your help! Given the expected and actual return dates for a library book, create a program that  \n",
    "calculates the fine (if any). The fee structure is as follows:\n",
    "1. If the book is returned on or before the expected return date, no fine will be charged (i.e.: $fine=0$).\n",
    "2. If the book is returned after the expected return day but still within the same calendar month and year as the expected return date,$fine = 15Hackos$ $\\times$($the$ $number$ $of$ $day$ $late)$ .\n",
    "3. If the book is returned after the expected return month but still within the same calendar year as the expected return date, the $fine = 500Hackos$ $\\times$($the$ $number$ $of$ $day$ $late)$.\n",
    "4. If the book is returned after the calendar year in which it was expected, there is a fixed fine of $10000 Hackos$."
   ]
  },
  {
   "cell_type": "markdown",
   "metadata": {},
   "source": [
    "**Example**  \n",
    "\n",
    "$d1, m1, y1 = 12312014$ returned date  \n",
    "$d2, m2, y2 = 112015$ due date  \n",
    "\n",
    "The book is returned on time, so no fine is applied.\n",
    "\n",
    "$d1, m1, y1 = 112015$ returned date  \n",
    "$d2, m2, y2 = 12312014$ due date\n",
    "\n",
    "The book is returned in the following year, so the fine is a fixed 10000."
   ]
  },
  {
   "cell_type": "markdown",
   "metadata": {},
   "source": [
    "**Input Format**\n",
    "\n",
    "The first line contains $3$ space-separated integers denoting the respective $day$, $month$, and $year$ on which the book was  \n",
    "actually returned.\n",
    "The second line contains $3$ space-separated integers denoting the respective $day$, $month$, and $year$ on which the book was  \n",
    "expected to be returned (due date)."
   ]
  },
  {
   "cell_type": "markdown",
   "metadata": {},
   "source": [
    "**Constraints**\n",
    "\n",
    "- $1 \\leq D \\leq 31$\n",
    "- $1 \\leq M \\leq 12$\n",
    "- $1 \\leq Y \\leq 3000$\n",
    "- It is guaranteed that the dates will be valid Gregorian calendar dates.\n"
   ]
  },
  {
   "cell_type": "markdown",
   "metadata": {},
   "source": [
    "**Output Format**  \n",
    "\n",
    "Print a single integer denoting the library fine for the book received as input."
   ]
  },
  {
   "cell_type": "markdown",
   "metadata": {},
   "source": [
    "**Sample Input**"
   ]
  },
  {
   "cell_type": "code",
   "execution_count": null,
   "metadata": {},
   "outputs": [],
   "source": [
    "STDIN       Function\n",
    "-----       --------\n",
    "9 6 2015    day = 9, month = 6, year = 2015 (date returned)\n",
    "6 6 2015    day = 6, month = 6, year = 2015 (date due)"
   ]
  },
  {
   "cell_type": "markdown",
   "metadata": {},
   "source": [
    "**Sample Output**"
   ]
  },
  {
   "cell_type": "markdown",
   "metadata": {},
   "source": [
    "45"
   ]
  },
  {
   "cell_type": "markdown",
   "metadata": {},
   "source": [
    "**Explanation**\n",
    "\n",
    "Given the following return dates:  \n",
    "Returned: $D_1 = 9, M_1 = 6, Y_1 = 2015$   \n",
    "Due: $D_2 = 6, M_2 = 6, Y_2 = 2015$  \n",
    "Because $Y_2 \\equiv Y_1$, it is less than a year late.  \n",
    "Because $M_2 \\equiv M_1$, it is less than a month late.  \n",
    "Because $D_2 < D_1$, it was returned late (but still within the same month and year).  \n",
    "Per the library's fee structure, we know that our fine will be $15 Hackos \\times$ $($ $\\#$ $days$ $late)$ . We then print the result of    \n",
    "$15 \\times (D_1 - D_2) = 15 \\times (9-6) = 45$ as our output."
   ]
  },
  {
   "cell_type": "markdown",
   "metadata": {},
   "source": [
    "**<font  size=5>題目解析</font>**"
   ]
  },
  {
   "cell_type": "markdown",
   "metadata": {},
   "source": [
    "這題希望我們透過歸還日期計算罰款，我們直接解題:"
   ]
  },
  {
   "cell_type": "code",
   "execution_count": 7,
   "metadata": {},
   "outputs": [],
   "source": [
    "from datetime import date #這邊可以用datetime包"
   ]
  },
  {
   "cell_type": "code",
   "execution_count": 22,
   "metadata": {},
   "outputs": [],
   "source": [
    "d1 = [int(x) for x in input().split(\" \")][::-1]#輸入按空格切分轉成整數存入list並把順序顛倒，變成年月日\n",
    "d2 = [int(x) for x in input().split(\" \")][::-1]\n",
    "day_re = date(*d1)#等於day_re = date(d1[0], d1[1], d1[2])\n",
    "day_du = date(*d2)\n"
   ]
  },
  {
   "cell_type": "code",
   "execution_count": 23,
   "metadata": {},
   "outputs": [],
   "source": [
    "def calculate_fine(return_date, due_date):\n",
    "    if return_date <= due_date:#及時歸還，不罰\n",
    "        return 0\n",
    "    elif return_date.year > due_date.year:#明年才還\n",
    "        return 10000\n",
    "    elif return_date.month > due_date.month:#隔月才還\n",
    "        return 500 * (return_date.month - due_date.month)\n",
    "    else:\n",
    "        return 15 * (return_date.day - due_date.day)#未按時還，但在月內"
   ]
  },
  {
   "cell_type": "code",
   "execution_count": 26,
   "metadata": {},
   "outputs": [
    {
     "name": "stdout",
     "output_type": "stream",
     "text": [
      "45\n"
     ]
    }
   ],
   "source": [
    "fine = calculate_fine(day_re, day_du)\n",
    "print(fine)"
   ]
  }
 ],
 "metadata": {
  "kernelspec": {
   "display_name": "Python 3.10.2 64-bit",
   "language": "python",
   "name": "python3"
  },
  "language_info": {
   "codemirror_mode": {
    "name": "ipython",
    "version": 3
   },
   "file_extension": ".py",
   "mimetype": "text/x-python",
   "name": "python",
   "nbconvert_exporter": "python",
   "pygments_lexer": "ipython3",
   "version": "3.10.2"
  },
  "orig_nbformat": 4,
  "vscode": {
   "interpreter": {
    "hash": "1b43cb0bd93d5abbadd54afed8252f711d4681fe6223ad6b67ffaee289648f85"
   }
  }
 },
 "nbformat": 4,
 "nbformat_minor": 2
}
