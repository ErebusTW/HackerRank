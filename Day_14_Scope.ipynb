{
 "cells": [
  {
   "cell_type": "markdown",
   "metadata": {},
   "source": [
    "**<font  size=6>Day 14: Scope</font>**"
   ]
  },
  {
   "cell_type": "markdown",
   "metadata": {},
   "source": [
    "**Objective**  \n",
    "Today we're discussing scope. Check out the Tutorial tab for learning materials and an instructional video!  \n",
    "The absolute difference between two integers, $a$ and $b$, is written as $|a-b|$. The maximum absolute difference between two integers in a set of positive integers, $elements$, is the largest absolute difference between any two integers in __ $elements$ .The Difference class is started for you in the editor. It has a private integer array ($elements$) for storing $N$ non-negative integers, and a public integer ($maximumDifference$) for storing the maximum absolute difference."
   ]
  },
  {
   "cell_type": "markdown",
   "metadata": {},
   "source": [
    "**Task**  \n",
    "Complete the Difference class by writing the following:\n",
    "- A class constructor that takes an array of integers as a parameter and saves it to the __ $elements$ instance variable.\n",
    "- A computeDifference method that finds the maximum absolute difference between any $2$ numbers in __ $elements$ and stores it in the $maximumDifference$ instance variable."
   ]
  },
  {
   "cell_type": "markdown",
   "metadata": {},
   "source": [
    "**Input Format**  \n",
    "You are not responsible for reading any input from stdin. The locked Solution class in the editor reads in $2$ lines of input. The first line contains $N$, the size of the elements array. The second line has $N$ space-separated integers that describe the __ $elements$ array."
   ]
  },
  {
   "cell_type": "markdown",
   "metadata": {},
   "source": [
    "**Constraints**\n",
    "- $1 \\leq N \\leq 10$\n",
    "- $1 \\leq \\_\\_ element[i] \\leq 100$, $where 0 \\leq i \\leq N-1$"
   ]
  },
  {
   "cell_type": "markdown",
   "metadata": {},
   "source": [
    "**Output Format**\n",
    "\n",
    "You are not responsible for printing any output; the Solution class will print the value of the $maximumDifference$ instance variable."
   ]
  },
  {
   "cell_type": "markdown",
   "metadata": {},
   "source": [
    "**Sample Input**  \n",
    "\n",
    "STDIN  $\\quad$ Function  \n",
    "$\\_\\_\\_\\_\\_$  $\\quad$ $\\_\\_\\_\\_\\_\\_$  \n",
    "3      $\\qquad$ __elements[] size N = 3  \n",
    "1 2 5  $\\quad$ __elements = [1, 2, 5]"
   ]
  },
  {
   "cell_type": "markdown",
   "metadata": {},
   "source": [
    "**Sample Output**\n",
    "\n",
    "4"
   ]
  },
  {
   "cell_type": "markdown",
   "metadata": {},
   "source": [
    "**Explanation**\n",
    "\n",
    "The scope of the $\\_\\_element$ array and $maximumDifference$ integer is the entire class instance. The class constructor saves the argument passed to the constructor as the $\\_\\_element$ instance variable (where the computeDifference method can access it).\n",
    "\n",
    "To find the maximum difference, computeDifference checks each element in the array and finds the maximum difference between any $2$ elements: $|1 - 2| = 1$  \n",
    "$|1 - 5| = 4$  \n",
    "$|2 - 5| = 3$  \n",
    "The maximum of these differences is $4$, so it saves the value $4$ as the $maximumDifference$ instance variable. The locked stub code in the editor then prints the value stored as $maximumDifference$, which is $4$."
   ]
  },
  {
   "cell_type": "markdown",
   "metadata": {},
   "source": [
    "**<font  size=5>題目解析</font>**"
   ]
  },
  {
   "cell_type": "markdown",
   "metadata": {},
   "source": [
    "題目要求我們找出一個非負整數數列中任意兩個數字的最大距離，這種問題我們可以寫循環比較或者直接找最大最小。"
   ]
  },
  {
   "cell_type": "code",
   "execution_count": null,
   "metadata": {},
   "outputs": [],
   "source": [
    "#先看題目給出的運行代碼\n",
    "class Difference:\n",
    "    def __init__(self, a):\n",
    "        self.__elements = a\n",
    "_ = input()\n",
    "a = [int(e) for e in input().split(' ')]\n",
    "\n",
    "d = Difference(a)\n",
    "d.computeDifference()\n",
    "\n",
    "print(d.maximumDifference)"
   ]
  },
  {
   "cell_type": "code",
   "execution_count": 18,
   "metadata": {},
   "outputs": [],
   "source": [
    "#輸入方式為題目中的Sample input,會先輸入樣本數3,在輸入樣本分別的值,由空格分隔\n",
    "_ = input()\n",
    "a = [int(e) for e in input().split(' ')]#我們可以知道private(Day13有提到) integer array $__element$ 為整數組成的列表,因為在生成時我們把輸入的'1 2 5'用空格分隔成['1','2','5']後分別轉成整數"
   ]
  },
  {
   "cell_type": "code",
   "execution_count": 21,
   "metadata": {},
   "outputs": [
    {
     "name": "stdout",
     "output_type": "stream",
     "text": [
      "[1, 2, 5]\n"
     ]
    },
    {
     "data": {
      "text/plain": [
       "int"
      ]
     },
     "execution_count": 21,
     "metadata": {},
     "output_type": "execute_result"
    }
   ],
   "source": [
    "print(a)\n",
    "type(a[0])"
   ]
  },
  {
   "cell_type": "code",
   "execution_count": 28,
   "metadata": {},
   "outputs": [],
   "source": [
    "#複習一下，我們可以用map方法完成跟上面一樣的效果，map(轉換的函數,可迭代對象(例如list))會把可迭代對象中的每個值套用你前面給定的轉換函數，在這邊是把list中每個值(字符串)套用int函數轉換成整數。\n",
    "#注意map生成的是map對象，要套一個list轉換\n",
    "_ = input()\n",
    "a_map= list(map(int,input().split(' ')))"
   ]
  },
  {
   "cell_type": "code",
   "execution_count": 30,
   "metadata": {},
   "outputs": [
    {
     "name": "stdout",
     "output_type": "stream",
     "text": [
      "[1, 2, 5]\n"
     ]
    },
    {
     "data": {
      "text/plain": [
       "int"
      ]
     },
     "execution_count": 30,
     "metadata": {},
     "output_type": "execute_result"
    }
   ],
   "source": [
    "print(a_map)\n",
    "type(a_map[0])"
   ]
  },
  {
   "cell_type": "markdown",
   "metadata": {},
   "source": [
    "因為題目限制為非負整數，我們可以直接在數列中找到最大與最小值相減後便是我們要的答案"
   ]
  },
  {
   "cell_type": "code",
   "execution_count": 1,
   "metadata": {},
   "outputs": [
    {
     "name": "stdout",
     "output_type": "stream",
     "text": [
      "4\n"
     ]
    }
   ],
   "source": [
    "class Difference:\n",
    "    def __init__(self, a):\n",
    "        self.__elements = a\n",
    "    def computeDifference(self):\n",
    "        self.maximumDifference = max(self.__elements) - min(self.__elements)\n",
    " \n",
    "_ = input()\n",
    "a = [int(e) for e in input().split(' ')]\n",
    "\n",
    "d = Difference(a)\n",
    "d.computeDifference()\n",
    "\n",
    "print(d.maximumDifference)"
   ]
  }
 ],
 "metadata": {
  "kernelspec": {
   "display_name": "Python 3.10.2 64-bit",
   "language": "python",
   "name": "python3"
  },
  "language_info": {
   "codemirror_mode": {
    "name": "ipython",
    "version": 3
   },
   "file_extension": ".py",
   "mimetype": "text/x-python",
   "name": "python",
   "nbconvert_exporter": "python",
   "pygments_lexer": "ipython3",
   "version": "3.10.2"
  },
  "orig_nbformat": 4,
  "vscode": {
   "interpreter": {
    "hash": "1b43cb0bd93d5abbadd54afed8252f711d4681fe6223ad6b67ffaee289648f85"
   }
  }
 },
 "nbformat": 4,
 "nbformat_minor": 2
}
