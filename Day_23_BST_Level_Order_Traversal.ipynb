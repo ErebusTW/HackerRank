{
 "cells": [
  {
   "cell_type": "markdown",
   "metadata": {},
   "source": [
    "**<font  size=6>Day 23: BST Level-Order Traversal</font>**\n"
   ]
  },
  {
   "cell_type": "markdown",
   "metadata": {},
   "source": [
    "**Objective**  \n",
    "Today, we're going further with Binary Search Trees. Check out the Tutorial tab for learning materials and an instructional video!"
   ]
  },
  {
   "cell_type": "markdown",
   "metadata": {},
   "source": [
    "**Task**  \n",
    "A level-order traversal, also known as a breadth-first search, visits each level of a tree's nodes from left to right, top to bottom.  \n",
    "You are given a pointer, $root$, pointing to the root of a binary search tree. Complete the levelOrder function provided in your  \n",
    "editor so that it prints the level-order traversal of the binary search tree."
   ]
  },
  {
   "cell_type": "markdown",
   "metadata": {},
   "source": [
    "**Hint:** You'll find a queue helpful in completing this challenge."
   ]
  },
  {
   "cell_type": "markdown",
   "metadata": {},
   "source": [
    "**Function Description**\n",
    "\n",
    "Complete the levelOrder function in the editor below.\n",
    "\n",
    "levelOrder has the following parameter:\n",
    "- Node pointer root: a reference to the root of the tree"
   ]
  },
  {
   "cell_type": "markdown",
   "metadata": {},
   "source": [
    "**Prints**\n",
    "- Print node.data items as space-separated line of integers. No return value is expected."
   ]
  },
  {
   "cell_type": "markdown",
   "metadata": {},
   "source": [
    "**Input Format**\n",
    "\n",
    "The locked stub code in your editor reads the following inputs and assembles them into a BST:  \n",
    "The first line contains an integer, $T$ (the number of test cases).  \n",
    "The $T$ subsequent lines each contain an integer, $data$, denoting the value of an element that must be added to the BST."
   ]
  },
  {
   "cell_type": "markdown",
   "metadata": {},
   "source": [
    "**Constraints**  \n",
    "\n",
    "$1 \\leq N \\leq 20$  \n",
    "$1 \\leq node.data[i] \\leq 100$"
   ]
  },
  {
   "cell_type": "markdown",
   "metadata": {},
   "source": [
    "**Output Format**  \n",
    "\n",
    "Print the $data$ value of each node in the tree's level-order traversal as a single line of $N$ space-separated integers."
   ]
  },
  {
   "cell_type": "markdown",
   "metadata": {},
   "source": [
    "**Sample Input**\n",
    "\n",
    "6  \n",
    "3  \n",
    "5  \n",
    "4  \n",
    "7  \n",
    "2  \n",
    "1  "
   ]
  },
  {
   "cell_type": "markdown",
   "metadata": {},
   "source": [
    "**Sample Output**\n",
    "\n",
    "3 2 5 1 4 7 "
   ]
  },
  {
   "cell_type": "markdown",
   "metadata": {},
   "source": [
    "**Explanation**\n",
    "\n",
    "The input forms the following binary search tree:"
   ]
  },
  {
   "cell_type": "code",
   "execution_count": 4,
   "metadata": {},
   "outputs": [
    {
     "data": {
      "image/png": "[encoded data removed]",
      "text/plain": [
       "<IPython.core.display.Image object>"
      ]
     },
     "execution_count": 4,
     "metadata": {},
     "output_type": "execute_result"
    }
   ],
   "source": [
    "Image('./Day_23_image1.png')"
   ]
  },
  {
   "cell_type": "markdown",
   "metadata": {},
   "source": [
    "We traverse each level of the tree from the root downward, and we process the nodes at each level from left to right. The  \n",
    "resulting level-order traversal is $3 \\rightarrow 2 \\rightarrow 5 \\rightarrow 1 \\rightarrow 4 \\rightarrow 7$, and we print these data values as a single line of space-separated integers."
   ]
  },
  {
   "cell_type": "code",
   "execution_count": 2,
   "metadata": {},
   "outputs": [],
   "source": [
    "%matplotlib inline\n",
    "from IPython.display import Image"
   ]
  },
  {
   "cell_type": "markdown",
   "metadata": {},
   "source": [
    "**<font  size=5>題目解析</font>**"
   ]
  },
  {
   "cell_type": "markdown",
   "metadata": {},
   "source": [
    "這一題進一步研究了二元搜索樹。希望我們實現level-order traversal，也就是依照樹的各層由左至右打印出來，二元搜索樹的架構我們在Day_22有詳細說明，我們直接開始解題。"
   ]
  },
  {
   "cell_type": "code",
   "execution_count": 5,
   "metadata": {},
   "outputs": [],
   "source": [
    "import sys\n",
    "\n",
    "class Node:\n",
    "    def __init__(self,data):\n",
    "        self.right=self.left=None\n",
    "        self.data = data\n",
    "class Solution:\n",
    "    def insert(self,root,data):\n",
    "        if root==None:\n",
    "            return Node(data)\n",
    "        else:\n",
    "            if data<=root.data:\n",
    "                cur=self.insert(root.left,data)\n",
    "                root.left=cur\n",
    "            else:\n",
    "                cur=self.insert(root.right,data)\n",
    "                root.right=cur\n",
    "        return root\n",
    "\n",
    "    #從這邊開始   \n",
    "    def levelOrder(self,root):\n",
    "        #Write your code here\n",
    "        curNodes = [root]#我們建立兩個列表，一個用於存放目前的節點，另一個用於存放下級節點\n",
    "        nextNodes = []\n",
    "\n",
    "        while curNodes:\n",
    "            for node in curNodes:\n",
    "                print(node.data, end=' ')#循環打印目前節點的值\n",
    "                if node.left:\n",
    "                    nextNodes.append(node.left)#如果下級節點存在，把下級節點加入nextNodes\n",
    "                if node.right:\n",
    "                    nextNodes.append(node.right)#如果下級節點存在，把下級節點加入nextNodes\n",
    "            \n",
    "            curNodes = nextNodes#下級節點設定成目前節點\n",
    "            nextNodes = []#清空下級節點列表"
   ]
  },
  {
   "cell_type": "code",
   "execution_count": 6,
   "metadata": {},
   "outputs": [
    {
     "name": "stdout",
     "output_type": "stream",
     "text": [
      "3 2 5 1 4 7 "
     ]
    }
   ],
   "source": [
    "T=int(input())\n",
    "myTree=Solution()\n",
    "root=None\n",
    "for i in range(T):\n",
    "    data=int(input())\n",
    "    root=myTree.insert(root,data)\n",
    "myTree.levelOrder(root)"
   ]
  }
 ],
 "metadata": {
  "kernelspec": {
   "display_name": "Python 3.10.2 64-bit",
   "language": "python",
   "name": "python3"
  },
  "language_info": {
   "codemirror_mode": {
    "name": "ipython",
    "version": 3
   },
   "file_extension": ".py",
   "mimetype": "text/x-python",
   "name": "python",
   "nbconvert_exporter": "python",
   "pygments_lexer": "ipython3",
   "version": "3.10.2"
  },
  "orig_nbformat": 4,
  "vscode": {
   "interpreter": {
    "hash": "1b43cb0bd93d5abbadd54afed8252f711d4681fe6223ad6b67ffaee289648f85"
   }
  }
 },
 "nbformat": 4,
 "nbformat_minor": 2
}
