{
 "cells": [
  {
   "cell_type": "markdown",
   "metadata": {},
   "source": [
    "**<font  size=6>Day 18: Queues and Stacks</font>**"
   ]
  },
  {
   "cell_type": "markdown",
   "metadata": {},
   "source": [
    "Welcome to Day 18! Today we're learning about Stacks and Queues. Check out the Tutorial tab for learning materials and an  \n",
    "instructional video!  \n",
    "\n",
    "A palindrome is a word, phrase, number, or other sequence of characters which reads the same backwards and forwards. Can  \n",
    "you determine if a given string, $s$ , is a palindrome?\n",
    "\n",
    "To solve this challenge, we must first take each character in $s$, enqueue it in a queue, and also push that same character onto a  \n",
    "stack. Once that's done, we must dequeue the first character from the queue and pop the top character off the stack, then  \n",
    "compare the two characters to see if they are the same; as long as the characters match, we continue dequeueing, popping,  \n",
    "and comparing each character until our containers are empty (a non-match means $s$ isn't a palindrome).\n",
    "\n",
    "Write the following declarations and implementations:\n",
    "1. Two instance variables: one for your $stack$, and one for your $queue$.\n",
    "2. A void pushCharacter(char ch) method that pushes a character onto a stack.\n",
    "3. A void enqueueCharacter(char ch) method that enqueues a character in the $queue$ instance variable.\n",
    "4. A char popCharacter() method that pops and returns the character at the top of the $stack$ instance variable.\n",
    "5. A char dequeueCharacter() method that dequeues and returns the first character in the $queue$ instance variable."
   ]
  },
  {
   "cell_type": "markdown",
   "metadata": {},
   "source": [
    "**Input Format**\n",
    "\n",
    "You do not need to read anything from stdin. The locked stub code in your editor reads a single line containing string $s$. It then  \n",
    "calls the methods specified above to pass each character to your instance variables."
   ]
  },
  {
   "cell_type": "markdown",
   "metadata": {},
   "source": [
    "**Constraints**\n",
    "\n",
    "- $s$ is composed of lowercase English letters."
   ]
  },
  {
   "cell_type": "markdown",
   "metadata": {},
   "source": [
    "**Output Format**\n",
    "\n",
    "You are not responsible for printing any output to stdout.  \n",
    "If your code is correctly written and $s$ is a palindrome, the locked stub code will print $The$ $word$, $s$ , $is$ $a$ $palindrom.$; otherwise, it will print $The$ $word$, $s$ , $is$ $a$ $palindrom.$"
   ]
  },
  {
   "cell_type": "markdown",
   "metadata": {},
   "source": [
    "**Sample Input**\n",
    "\n",
    "racecar\n",
    "\n",
    "**Sample Output**\n",
    "\n",
    "The word, racecar, is a palindrome."
   ]
  },
  {
   "cell_type": "markdown",
   "metadata": {},
   "source": [
    "**<font  size=5>題目解析</font>**"
   ]
  },
  {
   "cell_type": "markdown",
   "metadata": {},
   "source": [
    "這題希望檢測一個字符串是否為回文格式，題目要求我們實現一個類，我們來看五點要求:"
   ]
  },
  {
   "cell_type": "markdown",
   "metadata": {},
   "source": [
    "1. Two instance variables: one for your $stack$, and one for your $queue$.  \n",
    "    類中要有兩個instance variables，一個給stack，一個給queue\n"
   ]
  },
  {
   "cell_type": "markdown",
   "metadata": {},
   "source": [
    "我們先來看什麼是instance variables(實例/實作變量)，在Days13的補充中有提到變量類別，instance variables指的就是有別於全局和局部變量的，實現在class中的變量，拿這題舉個例子:"
   ]
  },
  {
   "cell_type": "code",
   "execution_count": null,
   "metadata": {},
   "outputs": [],
   "source": [
    "class Solution:\n",
    "    # Write your code here\n",
    "    push = []\n",
    "    enqueue = []\n",
    "    def pushCharacter(self,c):\n",
    "        self.push.append(c)"
   ]
  },
  {
   "cell_type": "markdown",
   "metadata": {},
   "source": [
    "這裡push和enqueue就是instance variables，instance variables定義為下:\n",
    "1. 定義在類別內，但函數式外。\n",
    "2. 類別內有效，可使用access modifier來改變存取限制：  \n",
    "private : 僅類別內有效。  \n",
    "public : 除類別內，子類別內也有效。\n",
    "3. 有預設值，依資料類型而不同。"
   ]
  },
  {
   "cell_type": "markdown",
   "metadata": {},
   "source": [
    "接下來我們展開談談$stack$和$queue$.  "
   ]
  },
  {
   "cell_type": "markdown",
   "metadata": {},
   "source": [
    "**堆疊 (Stack)**   \n",
    "堆疊的特性就是先進後出 (First In Last Out, FILO)。舉個例子，比如說有一個長深桶子，我們依序放入大小剛好的 1 到 5 球，所以 1 會在最下面，5 會在最上面。  \n",
    "為了要把球拿出來，我們只能從最上方一個一個拿起來。這種排列方式就叫做堆疊。又或是在現實生活中警察所用的手槍，子彈一一裝入彈夾中，但是最後一發裝入的子彈卻是排在最上方，  \n",
    "最先被射擊出去。這也是一種堆疊。"
   ]
  },
  {
   "cell_type": "markdown",
   "metadata": {},
   "source": [
    "**佇列 (Queue)**  \n",
    "佇列一樣有著串列的特性，每一筆元素本身同時包含著下一筆元素的位置(存取了next)。但佇列有一個特性就是先進先出 (First In First Out, FIFO)，意思就是在一個串列中，先讀取的資料先輸出。  \n"
   ]
  },
  {
   "cell_type": "markdown",
   "metadata": {},
   "source": [
    "2. A void pushCharacter(char ch) method that pushes a character onto a stack.實現一個把字符放入stack的方法\n",
    "3. A void enqueueCharacter(char ch) method that enqueues a character in the $queue$ instance variable.實現一個把字符放入queue的方法\n",
    "4. A char popCharacter() method that pops and returns the character at the top of the $stack$ instance variable.返回stack的輸出(先進後出)\n",
    "5. A char dequeueCharacter() method that dequeues and returns the first character in the $queue$ instance variable.返回queue的輸出(先進先出)"
   ]
  },
  {
   "cell_type": "markdown",
   "metadata": {},
   "source": [
    "我們直接看題目內建的代碼"
   ]
  },
  {
   "cell_type": "code",
   "execution_count": null,
   "metadata": {},
   "outputs": [],
   "source": [
    "# read the string s\n",
    "s=input()\n",
    "#Create the Solution class object\n",
    "obj=Solution()  #實例Solution類 \n",
    "\n",
    "l=len(s)\n",
    "#將字符串的的每個字符放入stack和queue中 \n",
    "for i in range(l):\n",
    "    obj.pushCharacter(s[i])\n",
    "    obj.enqueueCharacter(s[i])\n",
    "    \n",
    "isPalindrome=True#設定isPalindrome為True\n",
    "'''\n",
    "pop the top character from stack\n",
    "dequeue the first character from queue\n",
    "compare both the characters\n",
    "''' \n",
    "for i in range(l // 2):#l//2是l整除於2的意思不管餘數，例如3//2返回1，5//2返回2，要這樣也是因為字符串不一定是偶數，但是若是基數最中間的那個值我們不需要在乎\n",
    "    if obj.popCharacter()!=obj.dequeueCharacter():#檢測先進先出與後進先出結果是不是相同(也就是第一個和最後一個字母是否一樣)\n",
    "        isPalindrome=False#如果存在一個不一樣變將isPalindrome改為False\n",
    "        break\n",
    "#finally print whether string s is palindrome or not.\n",
    "if isPalindrome:#都一樣就是回文\n",
    "    print(\"The word, \"+s+\", is a palindrome.\")\n",
    "else:#有不一樣就不是\n",
    "    print(\"The word, \"+s+\", is not a palindrome.\")    "
   ]
  },
  {
   "cell_type": "markdown",
   "metadata": {},
   "source": [
    "開始寫吧!我們首先都用list來當stack和queue:"
   ]
  },
  {
   "cell_type": "code",
   "execution_count": 1,
   "metadata": {},
   "outputs": [],
   "source": [
    "class Solution:#定義類\n",
    "    # Write your code here\n",
    "    push = []#建立stack\n",
    "    enqueue = []#建立queue\n",
    "    def pushCharacter(self,c):#加入stack\n",
    "        self.push.append(c)\n",
    "    def enqueueCharacter(self,c):#加入queue\n",
    "        self.enqueue.append(c)\n",
    "    def popCharacter(self):#先進後出，丟掉列表最後一個值(最後加入的)，並返回該值\n",
    "        return self.push.pop()\n",
    "    def dequeueCharacter(self):#先進先出，丟掉列表第一個值(最先加入的)，並返回該值\n",
    "        return self.enqueue.pop(0)  "
   ]
  },
  {
   "cell_type": "code",
   "execution_count": 2,
   "metadata": {},
   "outputs": [
    {
     "name": "stdout",
     "output_type": "stream",
     "text": [
      "The word, racer, is not a palindrome.\n"
     ]
    }
   ],
   "source": [
    "# read the string s\n",
    "s=input()\n",
    "#Create the Solution class object\n",
    "obj=Solution()   \n",
    "\n",
    "l=len(s)\n",
    "# push/enqueue all the characters of string s to stack\n",
    "for i in range(l):\n",
    "    obj.pushCharacter(s[i])\n",
    "    obj.enqueueCharacter(s[i])\n",
    "    \n",
    "isPalindrome=True\n",
    "'''\n",
    "pop the top character from stack\n",
    "dequeue the first character from queue\n",
    "compare both the characters\n",
    "''' \n",
    "for i in range(l // 2):\n",
    "    if obj.popCharacter()!=obj.dequeueCharacter():\n",
    "        isPalindrome=False\n",
    "        break\n",
    "#finally print whether string s is palindrome or not.\n",
    "if isPalindrome:\n",
    "    print(\"The word, \"+s+\", is a palindrome.\")\n",
    "else:\n",
    "    print(\"The word, \"+s+\", is not a palindrome.\") \n",
    "\n"
   ]
  },
  {
   "cell_type": "markdown",
   "metadata": {},
   "source": [
    "接下來我們用deque寫寫看(如果字符串很長的話會比list快很多)"
   ]
  },
  {
   "cell_type": "code",
   "execution_count": 1,
   "metadata": {},
   "outputs": [],
   "source": [
    "from collections import deque"
   ]
  },
  {
   "cell_type": "code",
   "execution_count": 2,
   "metadata": {},
   "outputs": [],
   "source": [
    "class Solution:#定義類\n",
    "    # Write your code here\n",
    "    push = deque()#建立stack\n",
    "    enqueue = deque()#建立queue\n",
    "    def pushCharacter(self,c):#加入stack\n",
    "        self.push.append(c)\n",
    "    def enqueueCharacter(self,c):#加入queue\n",
    "        self.enqueue.append(c)\n",
    "    def popCharacter(self):#先進後出，丟掉列表最後一個值(最後加入的)，並返回該值\n",
    "        return self.push.pop()\n",
    "    def dequeueCharacter(self):#先進先出，丟掉列表第一個值(最先加入的)，並返回該值\n",
    "        return self.enqueue.popleft()  "
   ]
  },
  {
   "cell_type": "code",
   "execution_count": 4,
   "metadata": {},
   "outputs": [
    {
     "name": "stdout",
     "output_type": "stream",
     "text": [
      "The word, racecar, is a palindrome.\n"
     ]
    }
   ],
   "source": [
    "# read the string s\n",
    "s=input()\n",
    "#Create the Solution class object\n",
    "obj=Solution()  \n",
    "\n",
    "l=len(s)\n",
    "# push/enqueue all the characters of string s to stack\n",
    "for i in range(l):\n",
    "    obj.pushCharacter(s[i])\n",
    "    obj.enqueueCharacter(s[i])\n",
    "    \n",
    "isPalindrome=True\n",
    "'''\n",
    "pop the top character from stack\n",
    "dequeue the first character from queue\n",
    "compare both the characters\n",
    "''' \n",
    "for i in range(l // 2):\n",
    "    if obj.popCharacter()!=obj.dequeueCharacter():\n",
    "        isPalindrome=False\n",
    "        break\n",
    "#finally print whether string s is palindrome or not.\n",
    "if isPalindrome:\n",
    "    print(\"The word, \"+s+\", is a palindrome.\")\n",
    "else:\n",
    "    print(\"The word, \"+s+\", is not a palindrome.\") \n"
   ]
  }
 ],
 "metadata": {
  "kernelspec": {
   "display_name": "Python 3.10.2 64-bit",
   "language": "python",
   "name": "python3"
  },
  "language_info": {
   "codemirror_mode": {
    "name": "ipython",
    "version": 3
   },
   "file_extension": ".py",
   "mimetype": "text/x-python",
   "name": "python",
   "nbconvert_exporter": "python",
   "pygments_lexer": "ipython3",
   "version": "3.10.2"
  },
  "orig_nbformat": 4,
  "vscode": {
   "interpreter": {
    "hash": "1b43cb0bd93d5abbadd54afed8252f711d4681fe6223ad6b67ffaee289648f85"
   }
  }
 },
 "nbformat": 4,
 "nbformat_minor": 2
}
