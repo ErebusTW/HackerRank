{
 "cells": [
  {
   "cell_type": "markdown",
   "metadata": {},
   "source": [
    "**<font  size=6>Day 25: Running Time and Complexity</font>**"
   ]
  },
  {
   "cell_type": "markdown",
   "metadata": {},
   "source": [
    "**Objective**  \n",
    "Today we will learn about running time, also known as time complexity. Check out the Tutorial tab for learning materials and an  \n",
    "instructional video."
   ]
  },
  {
   "cell_type": "markdown",
   "metadata": {},
   "source": [
    "**Task**  \n",
    "A prime is a natural number greater than $1$ that has no positive divisors other than $1$ and itself. Given a number, $n$, determine  \n",
    "and print whether it is $Prime$ or $Not$ $prime$."
   ]
  },
  {
   "cell_type": "markdown",
   "metadata": {},
   "source": [
    "**Note:** If possible, try to come up with a $O(\\sqrt{n})$  primality algorithm, or see what sort of optimizations you come up with for an  \n",
    "$O(n)$ algorithm. Be sure to check out the Editorial after submitting your code."
   ]
  },
  {
   "cell_type": "markdown",
   "metadata": {},
   "source": [
    "**Input Format**\n",
    "\n",
    "The first line contains an integer, $T$, the number of test cases.  \n",
    "Each of the $T$ subsequent lines contains an integer, $n$, to be tested for primality."
   ]
  },
  {
   "cell_type": "markdown",
   "metadata": {},
   "source": [
    "**Constraints**\n",
    "- $1$ $\\leq$ $T$  $\\leq$ $30$\n",
    "- $1$ $\\leq$ $n$  $\\leq$ $2\\times10^9$"
   ]
  },
  {
   "cell_type": "markdown",
   "metadata": {},
   "source": [
    "Output Format\n",
    "For each test case, print whether $n$ is $Prime$ or $Not$ $prime$ on a new line."
   ]
  },
  {
   "cell_type": "markdown",
   "metadata": {},
   "source": [
    "**Sample Input**"
   ]
  },
  {
   "cell_type": "markdown",
   "metadata": {},
   "source": [
    "3  \n",
    "12  \n",
    "5  \n",
    "7  "
   ]
  },
  {
   "cell_type": "markdown",
   "metadata": {},
   "source": [
    "**Sample Output**"
   ]
  },
  {
   "cell_type": "markdown",
   "metadata": {},
   "source": [
    "Not prime  \n",
    "Prime  \n",
    "Prime  "
   ]
  },
  {
   "cell_type": "markdown",
   "metadata": {},
   "source": [
    "**Explanation**\n",
    "\n",
    "Test Case 0: $n = 12$.  \n",
    "$12$ is divisible by numbers other than $1$ and itself (i.e.: $2$, $3$, $4$, $5$), so we print $Not prime$ on a new line.\n",
    "\n",
    "Test Case 1: $n=5$.  \n",
    "$5$ is only divisible $1$ and itself, so we print $Prime$ on a new line.\n",
    "\n",
    "Test Case 2: $n=5$.  \n",
    "$7$ is only divisible $1$ and itself, so we print $Prime$ on a new line."
   ]
  },
  {
   "cell_type": "markdown",
   "metadata": {},
   "source": [
    "**<font  size=5>題目解析</font>**"
   ]
  },
  {
   "cell_type": "markdown",
   "metadata": {},
   "source": [
    "這題讓我們實現一個判斷$n$是否為質數的方法，並且，試著想出一個 $O(\\sqrt{n})$的演算法。"
   ]
  },
  {
   "cell_type": "markdown",
   "metadata": {},
   "source": [
    "首先我們先介紹時間複雜度。\n",
    "- - -"
   ]
  },
  {
   "cell_type": "markdown",
   "metadata": {},
   "source": [
    "**<font  size=5>時間複雜度(Time Complexity)</font>**"
   ]
  },
  {
   "cell_type": "markdown",
   "metadata": {},
   "source": [
    "度量一個程序(演算法)執行時間的兩種方法：\n",
    "\n",
    "1. *事後統計*  \n",
    "這種方法可行，但有兩個問題：  \n",
    "一：要想對設計的演算法的運行性能進行評測，需要實際運行該程式；  \n",
    "二：所得時間的統計量依賴於電腦的硬體、軟體等環境因素，這種方式，要在同一臺電腦的相同  \n",
    "狀態下運行，才能比較那個演算法速度更快。  \n",
    "\n",
    "2. *事前估算*  \n",
    "通過分析某個演算法的時間複雜度來判斷哪個演算法更優。"
   ]
  },
  {
   "cell_type": "markdown",
   "metadata": {},
   "source": [
    "**時間頻度**  \n",
    "一個演算法花費的時間與演算法中語句的執行次數成正比例，哪個演算法中語句執行次數多，它花費  \n",
    "時間就多，而一個演算法中的語句執行次數稱為語句頻度或時間頻度，記為$T(n)$，即為定義為任何大  \n",
    "小的輸入 $n$ 所需的最大執行時間。"
   ]
  },
  {
   "cell_type": "markdown",
   "metadata": {},
   "source": [
    "**舉例說明**  \n",
    "第一種"
   ]
  },
  {
   "cell_type": "code",
   "execution_count": 245,
   "metadata": {},
   "outputs": [],
   "source": [
    "def fun1(n):\n",
    "    total = 0\n",
    "    for i in range(n+1):\n",
    "        total += i\n",
    "    return total\n"
   ]
  },
  {
   "cell_type": "markdown",
   "metadata": {},
   "source": [
    "其 $T(n) = n+1$，為什麼是 $n+1$ 呢？  \n",
    "因為這個for循環需要$n$次，for循環本身也還需要判斷一次，所以是 $n+1$。  \n",
    "而這個 $T(n) = n+1$ 代表的意義為：不管 $n$ 輸入多大，這個程式都至少需要做 $n+1$次。\n",
    "\n",
    "第二種"
   ]
  },
  {
   "cell_type": "code",
   "execution_count": 247,
   "metadata": {},
   "outputs": [],
   "source": [
    "def fun2(n):\n",
    "    total = (1+n)*n/2\n",
    "    return total"
   ]
  },
  {
   "cell_type": "markdown",
   "metadata": {},
   "source": [
    "而這個方法其 $T(n) = 1$，因為不論 $n$ 輸入多大數，它都只需要做 $1$ 次。"
   ]
  },
  {
   "cell_type": "markdown",
   "metadata": {},
   "source": [
    "一般情況下，演算法中的基本操作語句的重複執行次數是問題規模n的某個函數，用$T(n)$表示，若有某  \n",
    "個輔助函數$f(n)$，使得當$n$趨近於無窮大時，$T(n) / f(n)$ 的極限值為不等於零的常數，則  \n",
    "稱$f(n)$是$T(n)$的同數量級函數。記作 $T(n)=O(f(n))$，稱$O(f(n))$  為演算法的漸進時間複雜度，  \n",
    "簡稱時間複雜度。"
   ]
  },
  {
   "cell_type": "markdown",
   "metadata": {},
   "source": [
    "舉個例子好了：\n",
    "\n",
    "假設 $T(n)=n+1；f(n)=n$\n",
    "\n",
    "那麼 $T(n) / f(n) = 1$\n",
    "\n",
    "剛剛前面有說過，$T(n) / f(n)$ 的極限值為不等於零的常數，則稱$f(n)$是$T(n)$的同數量級函數，所以這邊的 $f(n)$是$T(n)$的同數量級函數，記作 $T(n)=O(f(n))$ 也就是 $T(n) = O(n)$\n",
    "\n",
    "$T(n)$不同但時間複雜度可能相同，例如：\n",
    "\n",
    "- $T(n) = n^2+7n+6$  \n",
    "- $T(n) = 3n^2+2n+2$  \n",
    "\n",
    "他們的T(n)不同，但時間複雜度相同，都為 $O(n^2)$。\n",
    "\n",
    "**計算方法**  \n",
    "- 用常數1代替運行時間中的所有加法常數  $T(n)=3n²+7n+6$ => $T(n)=3n²+7n+1$\n",
    "- 修改後的運行次數函數中，只保留最高階項  $T(n)=3n²+7n+1 => T(n) = 3n²$\n",
    "- 去除最高階項的系數 $T(n) = 3n² => T(n) = n² => O(n²)$"
   ]
  },
  {
   "cell_type": "markdown",
   "metadata": {},
   "source": [
    "**常見時間複雜度**\n",
    "\n",
    "- 常數階 $O(1)$\n",
    "- 對數階 $O(log_{2}n)$\n",
    "- 線性階 $O(n)$\n",
    "- 線性對數階 $O(nlog_{2}n)$\n",
    "- 平方階 $O(n^2)$\n",
    "- 立方階 $O(n^3)$\n",
    "- k次方階 $O(n^k)$\n",
    "- 指數階 $O(2^n)$"
   ]
  },
  {
   "cell_type": "markdown",
   "metadata": {},
   "source": [
    "常見的演算法時間複雜度由小到大依次為：  \n",
    "$Ο(1)＜Ο(log_{2}n)＜Ο(n)＜Ο(nlog_{2}n)＜Ο(n^2)＜Ο(n^3)＜ Ο(n^k) ＜Ο(2^n)$"
   ]
  },
  {
   "cell_type": "markdown",
   "metadata": {},
   "source": [
    "\n",
    "**<font  size=5>接著我們介紹幾種主流的質數檢驗方法</font>**"
   ]
  },
  {
   "cell_type": "markdown",
   "metadata": {},
   "source": [
    "**Divisibility Primality Test**  \n",
    "\n",
    "整除性測試法即是試除法。  \n",
    "質數無法以乘法分解，質數沒有任何因數（除了 1 和自身）。  \n",
    "窮舉所有可能的因數，一一試除。時間複雜度 $O(n)$。"
   ]
  },
  {
   "cell_type": "code",
   "execution_count": 249,
   "metadata": {},
   "outputs": [],
   "source": [
    "def isprime(n):\n",
    "    isPrime = True\n",
    "    if(n<2):\n",
    "        is_prime = False\n",
    "    else:\n",
    "        #窮舉所有可能的因數，一一試除（除了1和自身）\n",
    "        for i in range(2, n):\n",
    "            if (n % i == 0):\n",
    "                is_prime = False\n",
    "    if is_prime:\n",
    "        print(\"Prime\")\n",
    "    else:\n",
    "        print(\"Not prime\")"
   ]
  },
  {
   "cell_type": "markdown",
   "metadata": {},
   "source": [
    "因數成雙成對（平方根跟自己一對）。檢查了小於等於平方根的因數，  \n",
    "就不必再檢查大於平方根的因數。時間複雜度 $O(\\sqrt n)$ 。"
   ]
  },
  {
   "cell_type": "code",
   "execution_count": 261,
   "metadata": {},
   "outputs": [],
   "source": [
    "def isprime_sqrt(n):\n",
    "    is_prime = True\n",
    "    if n == 1:\n",
    "        is_prime = False\n",
    "    i = 2\n",
    "    #窮舉小於等於sqrt(n)的因數，一一試除（除了1）\n",
    "    while i * i <= n:\n",
    "        if n % i == 0 and i != n:\n",
    "            is_prime = False\n",
    "        i += 1\n",
    "    if is_prime:\n",
    "        print(\"Prime\")\n",
    "    else:\n",
    "        print(\"Not prime\")"
   ]
  },
  {
   "cell_type": "markdown",
   "metadata": {},
   "source": [
    "**2n+1 Method**  \n",
    "因數可以分解成質數。取質數試除，效果等同於取因數試除。反  \n",
    "過來說，大可不必取合數試除。  \n",
    "$2$ 的更大倍數是合數，不必試除，節省一半時間。"
   ]
  },
  {
   "cell_type": "code",
   "execution_count": 273,
   "metadata": {},
   "outputs": [],
   "source": [
    "def isprime_2nplus1(n):\n",
    "    is_prime = True\n",
    "    if n <= 1:\n",
    "        is_prime = False\n",
    "    if n == 2:\n",
    "        is_prime = True\n",
    "        #首先以2試除\n",
    "    if (n % 2 == 0) and n !=2:\n",
    "        is_prime = False\n",
    "    i = 3\n",
    "        #2的更大倍數是合數，不必試除。\n",
    "    while i * i <= n:\n",
    "        if n % i == 0 and i != n:\n",
    "            is_prime = False\n",
    "            break\n",
    "        i += 2 #跳二\n",
    "    if is_prime:\n",
    "        print(\"Prime\")\n",
    "    else:\n",
    "        print(\"Not prime\")"
   ]
  },
  {
   "cell_type": "markdown",
   "metadata": {},
   "source": [
    "**6n±1 Method**  \n",
    "2 和 3 的最小公倍數是 6 。所有數字分為 6n 、 6n+1 、 6n+2 、 6n+2  \n",
    "、 6n+3 、 6n+4 、 6n+5 六種（ n 是倍率）。除以六餘零的數字為 6n  \n",
    "，除以六餘一的數字為 6n+1 ，以此類推。\n",
    "\n",
    "6n 、 6n+2 、 6n+3 、 6n+4 是 2 或 3 的倍數，不是質數。只需  \n",
    "要拿 6n+1 和 6n+5 試除。\n",
    "\n",
    "從 6n+1 ，跳到 6n+5 ，跳到下一個 6n+1 ，再跳到 6n+5 ，差值  \n",
    "是 4 2 4 2 4 2... ，不斷跳四跳二。\n",
    "\n",
    "6n+5 改寫成 6n-1 ，意義不變。 6n+1 與 6n-1 簡寫成 6n±1 。\n",
    "\n",
    "2 和 3 預先處理。從 5 開始試除，下一個是 5+2 ，再下一個是 5+2+4   \n",
    "，再下一個是 5+2+4+2 ，以此類推。\n",
    "\n",
    "實作程式碼，用加法加二加四，不用乘法計算 6n-1 、 6n+1 ，效率較佳。"
   ]
  },
  {
   "cell_type": "code",
   "execution_count": 278,
   "metadata": {},
   "outputs": [],
   "source": [
    "def isprime_6nplus1(n):\n",
    "    is_prime = True\n",
    "    if n <= 1:\n",
    "        is_prime = False\n",
    "    if n == 2:\n",
    "        is_prime = True\n",
    "    if n == 3:\n",
    "        is_prime = True\n",
    "\n",
    "    #首先以2和3試除\n",
    "    if (n % 2 == 0) and n !=2:\n",
    "        is_prime = False\n",
    "    if (n % 3 == 0) and n !=3:\n",
    "        is_prime = False\n",
    "\n",
    "    #然後只檢查6n±1。這些數字的間隔為2 4 2 4...\n",
    "    i = 5\n",
    "    gap = 2\n",
    "    while i * i <= n:\n",
    "        if n % i == 0 and i != n:\n",
    "            is_prime = False\n",
    "            break\n",
    "        i += gap\n",
    "        gap = 6-gap\n",
    "    if is_prime:\n",
    "        print(\"Prime\")\n",
    "    else:\n",
    "        print(\"Not prime\")"
   ]
  },
  {
   "cell_type": "markdown",
   "metadata": {},
   "source": [
    "**Wheel Factorization**  \n",
    "6n±1 法進行推廣，使用頭幾個質數。\n",
    "有興趣可以Google"
   ]
  },
  {
   "cell_type": "markdown",
   "metadata": {},
   "source": [
    "**Square Root Primality Test**  \n",
    "餘數系統的平方根有個特性：  \n",
    "- 以質數n為模數，0到n-1之間，只有1與n-1，平方之後等於1。\n",
    "- 以質數n為模數，1的平方根一定是1與n-1（即±1）。\n",
    "\n",
    "平方根測試法，運用了此特性：\n",
    "- 以n為模數，當2到n-2的每一個數字，平方之後皆不等於1，就推定n是質數。\n",
    "\n",
    "此演算法的結果不一定正確。通過測試的數字，可能是合數或質數；無法通過測試的數字，一定是合數。\n",
    "- 以合數n為模數，0到n-1之間，除了1與n-1，還可能有其它數字，平方之後等於1。\n",
    "- 以合數n為模數，1的平方根可能不只是1與n-1（不只±1）。\n",
    "\n",
    "有些合數會被誤判成質數，例如 22 會被誤判成質數， 2² 、 … 、 20² 模 22 之後皆不等於 1 。"
   ]
  },
  {
   "cell_type": "code",
   "execution_count": 176,
   "metadata": {},
   "outputs": [],
   "source": [
    "def square_root_primality_test(n):\n",
    "    is_prime = True\n",
    "    for i in range(2,n-1):\n",
    "        if (i*i % n) == 1:\n",
    "            is_prime = False\n",
    "            break\n",
    "    if is_prime:\n",
    "        print(\"Prime\")\n",
    "    else:\n",
    "        print(\"Not prime\")"
   ]
  },
  {
   "cell_type": "markdown",
   "metadata": {},
   "source": [
    "**Fermat Primality Test**\n",
    "\n",
    "費瑪小定理：\n",
    "- 若n是質數，a小於n，則aⁿ ≡ a (mod n)。\n",
    "- 若n是質數，a小於n，a不是零，則aⁿ⁻¹ ≡ 1 (mod n)。\n",
    "\n",
    "費瑪質數測試法，運用了費瑪小定理：\n",
    "- n是質數，費瑪小定理一定成立：aⁿ⁻¹ % n = 1一定成立。\n",
    "- n是合數，費瑪小定理可能成立：aⁿ⁻¹ % n = 1可能成立。\n",
    "- 當aⁿ⁻¹ % n = 1成立，就推定n是質數。\n",
    "\n",
    "此演算法的結果不一定正確。通過測試的數字，可能是合數或  \n",
    "質數；無法通過測試的數字，一定是合數。\n",
    "\n",
    "使用各式各樣的 a 來實施測試，那麼判定結果就更準確。"
   ]
  },
  {
   "cell_type": "code",
   "execution_count": 285,
   "metadata": {},
   "outputs": [],
   "source": [
    "from random import randint\n",
    "def fermat_primality_test(n):\n",
    "    is_prime = True\n",
    "    a = randint(1,n)\n",
    "    x=1\n",
    "    for i in range(n):\n",
    "        x = x *a % n\n",
    "    if x!=1:\n",
    "        is_prime = False\n",
    "    if is_prime:\n",
    "        print(\"Prime\")\n",
    "    else:\n",
    "        print(\"Not prime\")"
   ]
  },
  {
   "cell_type": "markdown",
   "metadata": {},
   "source": [
    "**Miller–Rabin Primality Test**   \n",
    "結合 Square Root Primality Test 與 Fermat Primality Test 。 \n",
    "此演算法的結果不一定正確。通過測試的數字，可能是合數或質數；無法通過測試的數字，一定是合數。\n",
    "具體細節可以google"
   ]
  },
  {
   "cell_type": "code",
   "execution_count": 395,
   "metadata": {},
   "outputs": [],
   "source": [
    "def miller_rabin(n):\n",
    "    is_prime = False\n",
    "    if n<2:\n",
    "        is_prime = False\n",
    "    \n",
    "    else:\n",
    "        a = randint(1,n)\n",
    "        u = n-1\n",
    "        t = 0\n",
    "        while u%2 == 0:\n",
    "            u>>=1\n",
    "            t+=1\n",
    "        x = a**u%n\n",
    "        if (x==1 or x == n-1):\n",
    "            is_prime = True\n",
    "        else:\n",
    "            for i in range(t-1):\n",
    "                x = x*x%n\n",
    "                if x == 1:\n",
    "                    is_prime = False\n",
    "                    break\n",
    "                if x == n-1:\n",
    "                    is_prime = True\n",
    "                    break\n",
    "    if is_prime:\n",
    "        print(\"Prime\")\n",
    "    else:\n",
    "        print(\"Not prime\")\n",
    "\n",
    "    "
   ]
  },
  {
   "cell_type": "markdown",
   "metadata": {},
   "source": [
    "**Strong Probable-prime Base （ SPRP ）**  \n",
    "以過濾合數的觀點來看，多取幾個相異的底數 a 實施測試，判定結果就更準確。  \n",
    "\n",
    "事實上已經有熱心人士，找出特定的底數組合，仔細檢查了各種數字的判定結果，  \n",
    "保證判定結果正確。例如底數組合 {2, 7, 61} 就能正確判斷 2³² 以下的數字是不是質數。"
   ]
  },
  {
   "cell_type": "code",
   "execution_count": 376,
   "metadata": {},
   "outputs": [],
   "source": [
    "def isprime(n):\n",
    "    is_prime = True\n",
    "    #預先判斷偶數與1，節省一點時間。\n",
    "    if n == 2:\n",
    "        pass\n",
    "    elif (n < 2 or n % 2 ==0):\n",
    "        is_prime = False\n",
    "    \n",
    "    else:\n",
    "        u = n-1\n",
    "        t = 0\n",
    "        while u % 2 == 0:\n",
    "            u >>=1\n",
    "            t +=1\n",
    "        #推定是質數，就實施下一次測試；\n",
    "        #確定是合數，就馬上結束。\n",
    "        sprp = [2,7,6]#足以涵蓋int範圍\n",
    "        for k in range(3):\n",
    "            a = sprp[k] % n\n",
    "            #預先判斷底數是否為簡易數字，節省一點時間。\n",
    "            if (a==0 or a==1 or a==n-1):\n",
    "                continue\n",
    "\n",
    "            x = a**u%n\n",
    "            if (x ==1 or x == n-1):\n",
    "                continue\n",
    "\n",
    "            for i in range(t-1):\n",
    "                x = x*x%n\n",
    "                if (x == 1):\n",
    "                    is_prime = False\n",
    "                    break\n",
    "                if (x == n-1):\n",
    "                    break\n",
    "            if (x == n-1):\n",
    "                continue\n",
    "            is_prime = False\n",
    "            #通過全部測試，確定是質數。\n",
    "    if is_prime:\n",
    "        print(\"Prime\")\n",
    "    else:\n",
    "        print(\"Not prime\")"
   ]
  },
  {
   "cell_type": "markdown",
   "metadata": {},
   "source": [
    "題目要求$O(\\sqrt{n})$"
   ]
  },
  {
   "cell_type": "code",
   "execution_count": 407,
   "metadata": {},
   "outputs": [],
   "source": [
    "def isprime_sqrt(n):\n",
    "    is_prime = True\n",
    "    if n == 1:\n",
    "        is_prime = False\n",
    "    i = 2\n",
    "    #窮舉小於等於sqrt(n)的因數，一一試除（除了1）\n",
    "    while i * i <= n:\n",
    "        if n % i == 0 and i != n:\n",
    "            is_prime = False\n",
    "        i += 1\n",
    "    if is_prime:\n",
    "        print(\"Prime\")\n",
    "    else:\n",
    "        print(\"Not prime\")"
   ]
  },
  {
   "cell_type": "code",
   "execution_count": 408,
   "metadata": {},
   "outputs": [
    {
     "name": "stdout",
     "output_type": "stream",
     "text": [
      "Not prime\n",
      "Prime\n",
      "Prime\n"
     ]
    }
   ],
   "source": [
    "num_of_inputs = input()\n",
    "\n",
    "for num_of_input in range(int(num_of_inputs)):\n",
    "    n = int(input())\n",
    "    isprime_sqrt(n)"
   ]
  },
  {
   "cell_type": "markdown",
   "metadata": {},
   "source": [
    "我們試試SPRP"
   ]
  },
  {
   "cell_type": "code",
   "execution_count": 409,
   "metadata": {},
   "outputs": [],
   "source": [
    "def isprime(n):\n",
    "    is_prime = True\n",
    "    #預先判斷偶數與1，節省一點時間。\n",
    "    if n == 2:\n",
    "        pass\n",
    "    elif (n < 2 or n % 2 ==0):\n",
    "        is_prime = False\n",
    "    \n",
    "    else:\n",
    "        u = n-1\n",
    "        t = 0\n",
    "        while u % 2 == 0:\n",
    "            u >>=1\n",
    "            t +=1\n",
    "        #推定是質數，就實施下一次測試；\n",
    "        #確定是合數，就馬上結束。\n",
    "        sprp = [2,7,6]#足以涵蓋int範圍\n",
    "        for k in range(3):\n",
    "            a = sprp[k] % n\n",
    "            #預先判斷底數是否為簡易數字，節省一點時間。\n",
    "            if (a==0 or a==1 or a==n-1):\n",
    "                continue\n",
    "\n",
    "            x = a**u%n\n",
    "            if (x ==1 or x == n-1):\n",
    "                continue\n",
    "\n",
    "            for i in range(t-1):\n",
    "                x = x*x%n\n",
    "                if (x == 1):\n",
    "                    is_prime = False\n",
    "                    break\n",
    "                if (x == n-1):\n",
    "                    break\n",
    "            if (x == n-1):\n",
    "                continue\n",
    "            is_prime = False\n",
    "            #通過全部測試，確定是質數。\n",
    "    if is_prime:\n",
    "        print(\"Prime\")\n",
    "    else:\n",
    "        print(\"Not prime\")"
   ]
  },
  {
   "cell_type": "code",
   "execution_count": 410,
   "metadata": {},
   "outputs": [
    {
     "name": "stdout",
     "output_type": "stream",
     "text": [
      "Not prime\n",
      "Prime\n",
      "Prime\n"
     ]
    }
   ],
   "source": [
    "num_of_inputs = input()\n",
    "\n",
    "for num_of_input in range(int(num_of_inputs)):\n",
    "    n = int(input())\n",
    "    isprime(n)"
   ]
  }
 ],
 "metadata": {
  "kernelspec": {
   "display_name": "Python 3.10.2 64-bit",
   "language": "python",
   "name": "python3"
  },
  "language_info": {
   "codemirror_mode": {
    "name": "ipython",
    "version": 3
   },
   "file_extension": ".py",
   "mimetype": "text/x-python",
   "name": "python",
   "nbconvert_exporter": "python",
   "pygments_lexer": "ipython3",
   "version": "3.10.2"
  },
  "orig_nbformat": 4,
  "vscode": {
   "interpreter": {
    "hash": "1b43cb0bd93d5abbadd54afed8252f711d4681fe6223ad6b67ffaee289648f85"
   }
  }
 },
 "nbformat": 4,
 "nbformat_minor": 2
}
