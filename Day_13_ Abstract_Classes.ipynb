{
 "cells": [
  {
   "cell_type": "markdown",
   "metadata": {},
   "source": [
    "**<font  size=6>Day 13: Abstract Classes</font>**"
   ]
  },
  {
   "cell_type": "markdown",
   "metadata": {},
   "source": [
    "**Objective**  \n",
    "Today, we will extend what we learned yesterday about Inheritance to Abstract Classes. Because this is a very specific object oriented concept, submissions are limited to the few languages that use this construct. Check out the Tutorial tab for learning materials and an instructional video."
   ]
  },
  {
   "cell_type": "markdown",
   "metadata": {},
   "source": [
    "**Task**  \n",
    "Given a Book class and a Solution class, write a MyBook class that does the following:\n",
    "- Inherits from Book\n",
    "- Has a parameterized constructor taking these $3$ parameters:\n",
    "1. string $title$\n",
    "2. string $author$\n",
    "3. int $price$\n",
    "- Implements the Book class' abstract display() method so it prints these 3 lines:\n",
    "1. *Title:* , a space, and then the current instance's $title$.\n",
    "2. *Author:*, a space, and then the current instance's $author$.\n",
    "3. *Price:*, a space, and then the current instance's $price$.  \n",
    "**Note**: Because these classes are being written in the same file, you must not use an access modifier (e.g.: public) when declaring MyBook or your code will not execute."
   ]
  },
  {
   "cell_type": "markdown",
   "metadata": {},
   "source": [
    "\n",
    "**Output Format**  \n",
    "The $void$ $display()$ method should print and label the respective $title$, $author$, and $price$ of the MyBook object's instance (with each value on its own line) like so:  \n",
    "\n",
    "Title: \\$title  \n",
    "Author: \\$author  \n",
    "Price: \\$price  \n",
    "\n",
    "**Note**: The $\\$$ is prepended to variable names to indicate they are placeholders for variables.  \n",
    "\n",
    "**Sample Input**  \n",
    "The following input from stdin is handled by the locked stub code in your editor:  \n",
    "\n",
    "The Alchemist\n",
    "Paulo Coelho\n",
    "248\n",
    "Sample Output\n",
    "The following output is printed by your display() method:\n",
    "Title: The Alchemist\n",
    "Author: Paulo Coelho\n",
    "Price: 248"
   ]
  },
  {
   "cell_type": "markdown",
   "metadata": {},
   "source": [
    "<div class=\"gray\">\n",
    "This is a green colored box\n",
    "</div>"
   ]
  }
 ],
 "metadata": {
  "kernelspec": {
   "display_name": "Python 3.10.2 64-bit",
   "language": "python",
   "name": "python3"
  },
  "language_info": {
   "codemirror_mode": {
    "name": "ipython",
    "version": 3
   },
   "file_extension": ".py",
   "mimetype": "text/x-python",
   "name": "python",
   "nbconvert_exporter": "python",
   "pygments_lexer": "ipython3",
   "version": "3.10.2"
  },
  "orig_nbformat": 4,
  "vscode": {
   "interpreter": {
    "hash": "1b43cb0bd93d5abbadd54afed8252f711d4681fe6223ad6b67ffaee289648f85"
   }
  }
 },
 "nbformat": 4,
 "nbformat_minor": 2
}
