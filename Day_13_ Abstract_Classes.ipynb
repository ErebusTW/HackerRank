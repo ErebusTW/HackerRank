{
 "cells": [
  {
   "cell_type": "markdown",
   "metadata": {},
   "source": [
    "**<font  size=6>Day 13: Abstract Classes</font>**"
   ]
  },
  {
   "cell_type": "markdown",
   "metadata": {},
   "source": [
    "**Objective**  \n",
    "Today, we will extend what we learned yesterday about Inheritance to Abstract Classes. Because this is a very specific object oriented concept, submissions are limited to the few languages that use this construct. Check out the Tutorial tab for learning materials and an instructional video."
   ]
  },
  {
   "cell_type": "markdown",
   "metadata": {},
   "source": [
    "**Task**  \n",
    "Given a Book class and a Solution class, write a MyBook class that does the following:\n",
    "- Inherits from Book\n",
    "- Has a parameterized constructor taking these $3$ parameters:\n",
    "1. string $title$\n",
    "2. string $author$\n",
    "3. int $price$\n",
    "- Implements the Book class' abstract display() method so it prints these 3 lines:\n",
    "1. *Title:* , a space, and then the current instance's $title$.\n",
    "2. *Author:*, a space, and then the current instance's $author$.\n",
    "3. *Price:*, a space, and then the current instance's $price$.  \n",
    "**Note**: Because these classes are being written in the same file, you must not use an access modifier (e.g.: public) when declaring MyBook or your code will not execute."
   ]
  },
  {
   "cell_type": "markdown",
   "metadata": {},
   "source": [
    "**Output Format**  \n",
    "The $void$ $display()$ method should print and label the respective $title$, $author$, and $price$ of the MyBook object's instance (with each value on its own line) like so:  \n"
   ]
  },
  {
   "cell_type": "markdown",
   "metadata": {},
   "source": [
    "\n",
    "\n",
    "Title: \\$title    \n",
    "Author: \\$author    \n",
    "Price: \\$price    \n",
    "\n"
   ]
  },
  {
   "cell_type": "markdown",
   "metadata": {},
   "source": [
    "**Note**: The $\\$$ is prepended to variable names to indicate they are placeholders for variables.  "
   ]
  },
  {
   "cell_type": "markdown",
   "metadata": {},
   "source": [
    "**Sample Input**  \n",
    "The following input from stdin is handled by the locked stub code in your editor:  "
   ]
  },
  {
   "cell_type": "markdown",
   "metadata": {},
   "source": [
    "\n",
    "The Alchemist  \n",
    "Paulo Coelho  \n",
    "248  \n",
    "\n"
   ]
  },
  {
   "cell_type": "markdown",
   "metadata": {},
   "source": [
    "**Sample Output**  \n",
    "The following output is printed by your display() method:"
   ]
  },
  {
   "cell_type": "markdown",
   "metadata": {},
   "source": [
    "\n",
    "Title: The Alchemist  \n",
    "Author: Paulo Coelho  \n",
    "Price: 248  \n",
    "\n"
   ]
  },
  {
   "cell_type": "markdown",
   "metadata": {},
   "source": [
    "**<font  size=5>題目解析</font>**"
   ]
  },
  {
   "cell_type": "markdown",
   "metadata": {},
   "source": [
    "題目的要求是創建一個繼承一個抽象基類 $Book$ 類的 子類$MyBook$ ，實現接收到 $title$, $author$, $price$ (題目前面有加個\\$只是告訴你它是變量)三個變量後，打印出以下格式的功能:\n",
    "\n",
    "Title: \\$title    \n",
    "Author: \\$author    \n",
    "Price: \\$price  \n",
    "\n",
    "那麼我們先來看一下抽象基類是什麼，首先我們要知道，抽象基類是不可以實例化的"
   ]
  },
  {
   "cell_type": "code",
   "execution_count": 23,
   "metadata": {},
   "outputs": [],
   "source": [
    "from abc import ABCMeta, abstractmethod,ABC\n",
    "class Chen(object, metaclass=ABCMeta):#在括號中使用參數 metaclass=ABCMeta是創建抽象基類的一種方法，有時你也會看到Foo(ABC)同樣也可以創建抽象基類，你目前不需要搞清楚它們之間的差別\n",
    "    @abstractmethod#這個裝飾器會把下面的fun方法定義為抽象方法\n",
    "    def chie(self):\n",
    "        pass"
   ]
  },
  {
   "cell_type": "code",
   "execution_count": 24,
   "metadata": {},
   "outputs": [
    {
     "ename": "TypeError",
     "evalue": "Can't instantiate abstract class Chen with abstract method chie",
     "output_type": "error",
     "traceback": [
      "\u001b[1;31m---------------------------------------------------------------------------\u001b[0m",
      "\u001b[1;31mTypeError\u001b[0m                                 Traceback (most recent call last)",
      "\u001b[1;32mc:\\Users\\chiehlinchen\\Documents\\GitHub\\HackerRank\\Day_13_ Abstract_Classes.ipynb Cell 14\u001b[0m in \u001b[0;36m<cell line: 2>\u001b[1;34m()\u001b[0m\n\u001b[0;32m      <a href='vscode-notebook-cell:/c%3A/Users/chiehlinchen/Documents/GitHub/HackerRank/Day_13_%20Abstract_Classes.ipynb#X43sZmlsZQ%3D%3D?line=0'>1</a>\u001b[0m \u001b[39m#實例化時會報錯\u001b[39;00m\n\u001b[1;32m----> <a href='vscode-notebook-cell:/c%3A/Users/chiehlinchen/Documents/GitHub/HackerRank/Day_13_%20Abstract_Classes.ipynb#X43sZmlsZQ%3D%3D?line=1'>2</a>\u001b[0m a \u001b[39m=\u001b[39m Chen()\n",
      "\u001b[1;31mTypeError\u001b[0m: Can't instantiate abstract class Chen with abstract method chie"
     ]
    }
   ],
   "source": [
    "#實例化時會報錯\n",
    "a = Chen()"
   ]
  },
  {
   "cell_type": "code",
   "execution_count": 25,
   "metadata": {},
   "outputs": [],
   "source": [
    "#接下來我們寫一個繼承Foo抽象基類的子類\n",
    "class Sub_chen(Chen):\n",
    "    def c(self):\n",
    "        print('This is sub chen!')"
   ]
  },
  {
   "cell_type": "code",
   "execution_count": 26,
   "metadata": {},
   "outputs": [
    {
     "ename": "TypeError",
     "evalue": "Can't instantiate abstract class Sub_chen with abstract method chie",
     "output_type": "error",
     "traceback": [
      "\u001b[1;31m---------------------------------------------------------------------------\u001b[0m",
      "\u001b[1;31mTypeError\u001b[0m                                 Traceback (most recent call last)",
      "\u001b[1;32mc:\\Users\\chiehlinchen\\Documents\\GitHub\\HackerRank\\Day_13_ Abstract_Classes.ipynb Cell 16\u001b[0m in \u001b[0;36m<cell line: 2>\u001b[1;34m()\u001b[0m\n\u001b[0;32m      <a href='vscode-notebook-cell:/c%3A/Users/chiehlinchen/Documents/GitHub/HackerRank/Day_13_%20Abstract_Classes.ipynb#X45sZmlsZQ%3D%3D?line=0'>1</a>\u001b[0m \u001b[39m# 子類並沒有實現fun 方法，實例化子類sub_foo同樣報錯\u001b[39;00m\n\u001b[1;32m----> <a href='vscode-notebook-cell:/c%3A/Users/chiehlinchen/Documents/GitHub/HackerRank/Day_13_%20Abstract_Classes.ipynb#X45sZmlsZQ%3D%3D?line=1'>2</a>\u001b[0m a \u001b[39m=\u001b[39m Sub_chen()\n",
      "\u001b[1;31mTypeError\u001b[0m: Can't instantiate abstract class Sub_chen with abstract method chie"
     ]
    }
   ],
   "source": [
    "# 子類並沒有實現fun 方法，實例化子類sub_foo同樣報錯\n",
    "a = Sub_chen()"
   ]
  },
  {
   "cell_type": "code",
   "execution_count": 29,
   "metadata": {},
   "outputs": [],
   "source": [
    "#我們在子類實現fun方法：\n",
    "class Sub_chen(Chen):\n",
    "    def chie(self):\n",
    "        print(\"From sub_chen\")\n",
    "    def c(self):\n",
    "        print('This is sub chen!')"
   ]
  },
  {
   "cell_type": "code",
   "execution_count": 32,
   "metadata": {},
   "outputs": [
    {
     "name": "stdout",
     "output_type": "stream",
     "text": [
      "From sub_chen\n",
      "This is sub chen!\n"
     ]
    }
   ],
   "source": [
    "c = Sub_chen()\n",
    "c.chie()\n",
    "c.c()"
   ]
  },
  {
   "cell_type": "markdown",
   "metadata": {},
   "source": [
    "上面的示範可以明天看出抽象基類與抽象方法的基礎特性，抽象基類本身不可以被實例化，需要寫子類繼承後才可以，若抽象基類裡實現抽象方法，子類中必須重寫該方法，才可以實例化。那為什麼要這樣設計呢?  有時，我們抽象出一個基類，告訴自己或其他閱讀代碼的人要實現哪些方法，因為只是展示性質，並不實現功能，所以使用抽象方法。因此抽象方法只能繼承，而不能被實例化，但子類必須要實現該方法，這就需要用到抽象基類。"
   ]
  },
  {
   "cell_type": "markdown",
   "metadata": {},
   "source": [
    "你可以這麼理解，我們有蔬菜這個抽象基類，有黃瓜，番茄，芹菜等，但你永遠只能吃得到黃瓜，番茄這些，而不能吃到所謂的“蔬菜”。"
   ]
  },
  {
   "cell_type": "markdown",
   "metadata": {},
   "source": [
    "**訪問修飾符(access modifier)**  \n",
    "\n",
    "接著我們藉這個機會介紹一下，題目中提到的 access modifier (**Note**: Because these classes are being written in the same file, you must not use an access modifier (e.g.: public) when declaring MyBook or your code will not execute.)  \n",
    "\n",
    "在大多數面向對象的語言中，訪問修飾符用於限制對類的變數和函數的訪問。 大多數語言使用三種類型的訪問修飾符，它們是private,public和protected。  \n",
    "與其他面向對象的程式設計語言一樣，也可以使用訪問修飾符在python中限制對變數或函數的訪問。Python使用下劃線指定類中特定數據成員和成員函數的訪問修飾符。  \n",
    "訪問修飾符在保護數據免受未經授權的訪問以及防止數據被操縱方面起著重要的作用。 當實現繼承時，由於不需要的數據從父類轉移到子類，因此存在很大的數據被破壞（操縱）的風險。  \n",
    "因此，根據需求為不同的數據成員和成員函數提供正確的訪問修飾符非常重要。\n",
    "\n",
    "**訪問修飾符的類型**  \n",
    "\n",
    "Python中的類有3種類型的訪問修飾符。這些訪問修飾符定義瞭如何訪問類的成員。當然，可以在同一類的任何成員函數內部訪問類的任何成員。進入訪問修飾符的類型，它們是：\n",
    "\n",
    "- 公共 (Access Modifier: Public):可以通過類的對像從類外部訪問聲明為Public的成員。\n",
    "\n",
    "- 受保護 (Access Modifier: Protected):可以從類外部訪問聲明為“受保護”的成員，但只能在子類或子類中從其派生的類中訪問。\n",
    "\n",
    "- 專用 (Access Modifier: Private):這些成員只能從班級內部訪問。不允許外部訪問。\n",
    "\n"
   ]
  },
  {
   "cell_type": "code",
   "execution_count": 34,
   "metadata": {},
   "outputs": [],
   "source": [
    "#默認情況下，類的所有變量和成員函數在python程序中都是public 。\n",
    "class Employee:\n",
    "    def __init__(self, name, sal):\n",
    "        self.name = name\n",
    "        self.sal = sal"
   ]
  },
  {
   "cell_type": "markdown",
   "metadata": {},
   "source": [
    "上面代碼中該類的所有成員變量默認都是public ，因此我們可以按以下方式訪問它們："
   ]
  },
  {
   "cell_type": "code",
   "execution_count": 35,
   "metadata": {},
   "outputs": [
    {
     "data": {
      "text/plain": [
       "999000"
      ]
     },
     "execution_count": 35,
     "metadata": {},
     "output_type": "execute_result"
    }
   ],
   "source": [
    "emp = Employee(\"Ironman\", 999000)\n",
    "emp.sal"
   ]
  },
  {
   "cell_type": "markdown",
   "metadata": {},
   "source": [
    "根據Python約定，在變量名後添加前綴_ (單個下劃線)可使其得到protected 。是的，不需要其他關鍵字。"
   ]
  },
  {
   "cell_type": "code",
   "execution_count": 37,
   "metadata": {},
   "outputs": [],
   "source": [
    "class Employee:\n",
    "    def __init__(self, name, sal):\n",
    "        self._name = name\n",
    "        self._sal = sal"
   ]
  },
  {
   "cell_type": "markdown",
   "metadata": {},
   "source": [
    "在上面的代碼中，我們通過添加_ (下劃線)作為前綴來使類變量名稱和sal protected ，因此現在我們可以按以下方式訪問它們："
   ]
  },
  {
   "cell_type": "code",
   "execution_count": 40,
   "metadata": {},
   "outputs": [
    {
     "data": {
      "text/plain": [
       "10000"
      ]
     },
     "execution_count": 40,
     "metadata": {},
     "output_type": "execute_result"
    }
   ],
   "source": [
    "emp = Employee(\"Captain\", 10000)\n",
    "emp._sal"
   ]
  },
  {
   "cell_type": "markdown",
   "metadata": {},
   "source": [
    "同樣地，如果有擴展類的子類Employee的話還可以訪問類的保護成員變量Employee 。讓我們舉個例子："
   ]
  },
  {
   "cell_type": "code",
   "execution_count": 41,
   "metadata": {},
   "outputs": [],
   "source": [
    "class HR(Employee):\n",
    "    def task(self):\n",
    "        print(\"We manage Employees\")"
   ]
  },
  {
   "cell_type": "markdown",
   "metadata": {},
   "source": [
    "現在，讓我們嘗試從HR類訪問Employee類的受保護成員變量："
   ]
  },
  {
   "cell_type": "code",
   "execution_count": 47,
   "metadata": {},
   "outputs": [
    {
     "name": "stdout",
     "output_type": "stream",
     "text": [
      "10000\n",
      "We manage Employees\n"
     ]
    }
   ],
   "source": [
    "hrEmp = HR(\"Captain\", 10000)\n",
    "print(hrEmp._sal)\n",
    "hrEmp.task()"
   ]
  },
  {
   "cell_type": "markdown",
   "metadata": {},
   "source": [
    "加上前綴__ (雙下劃線)會導致成員變量或函數變為private 。"
   ]
  },
  {
   "cell_type": "code",
   "execution_count": 50,
   "metadata": {},
   "outputs": [],
   "source": [
    "class Employee:\n",
    "    def __init__(self, name, sal):\n",
    "        self.__name = name\n",
    "        self.__sal = sal"
   ]
  },
  {
   "cell_type": "markdown",
   "metadata": {},
   "source": [
    "如果要訪問私有成員變量，則會收到錯誤消息。"
   ]
  },
  {
   "cell_type": "code",
   "execution_count": 51,
   "metadata": {},
   "outputs": [
    {
     "ename": "AttributeError",
     "evalue": "'Employee' object has no attribute '__sal'",
     "output_type": "error",
     "traceback": [
      "\u001b[1;31m---------------------------------------------------------------------------\u001b[0m",
      "\u001b[1;31mAttributeError\u001b[0m                            Traceback (most recent call last)",
      "\u001b[1;32mc:\\Users\\chiehlinchen\\Documents\\GitHub\\HackerRank\\Day_13_ Abstract_Classes.ipynb Cell 36\u001b[0m in \u001b[0;36m<cell line: 2>\u001b[1;34m()\u001b[0m\n\u001b[0;32m      <a href='vscode-notebook-cell:/c%3A/Users/chiehlinchen/Documents/GitHub/HackerRank/Day_13_%20Abstract_Classes.ipynb#Y124sZmlsZQ%3D%3D?line=0'>1</a>\u001b[0m emp \u001b[39m=\u001b[39m Employee(\u001b[39m\"\u001b[39m\u001b[39mCaptain\u001b[39m\u001b[39m\"\u001b[39m, \u001b[39m10000\u001b[39m)\n\u001b[1;32m----> <a href='vscode-notebook-cell:/c%3A/Users/chiehlinchen/Documents/GitHub/HackerRank/Day_13_%20Abstract_Classes.ipynb#Y124sZmlsZQ%3D%3D?line=1'>2</a>\u001b[0m emp\u001b[39m.\u001b[39;49m__sal\n",
      "\u001b[1;31mAttributeError\u001b[0m: 'Employee' object has no attribute '__sal'"
     ]
    }
   ],
   "source": [
    "emp = Employee(\"Captain\", 10000)\n",
    "emp.__sal"
   ]
  },
  {
   "cell_type": "markdown",
   "metadata": {},
   "source": [
    "介紹完 access modifier ，我們回到題目(**Note**: Because these classes are being written in the same file, you must not use an access modifier (e.g.: public) when declaring MyBook or your code will not execute.)  ，現在我們可以知道題目的意思是我們不能在MyBook添加變量時對變量做access modifier聲明(python public跟不聲明是等價的所以沒差)，但例如java就可以聲明access modifier，在這裡是被禁止的"
   ]
  },
  {
   "cell_type": "markdown",
   "metadata": {},
   "source": [
    "**開始解題啦!**"
   ]
  },
  {
   "cell_type": "code",
   "execution_count": 53,
   "metadata": {},
   "outputs": [],
   "source": [
    "#首先題目給我們一個抽象基類Book，其中實現了一個抽象方法display\n",
    "from abc import ABCMeta, abstractmethod\n",
    "class Book(object, metaclass=ABCMeta):\n",
    "    def __init__(self,title,author):\n",
    "        self.title=title\n",
    "        self.author=author   \n",
    "    @abstractmethod\n",
    "    def display(): pass"
   ]
  },
  {
   "cell_type": "code",
   "execution_count": null,
   "metadata": {},
   "outputs": [],
   "source": [
    "#接著我們看題目最後的運行代碼\n",
    "# itle=input()\n",
    "# author=input()\n",
    "# price=int(input())\n",
    "# new_novel=MyBook(title,author,price)#這邊可以看到My Book是需要被實例化的，回想一下剛剛的介紹，我們知道必須在My Book裡面重寫display方法\n",
    "# new_novel.display()"
   ]
  },
  {
   "cell_type": "code",
   "execution_count": 60,
   "metadata": {},
   "outputs": [],
   "source": [
    "#開始寫吧\n",
    "class MyBook(Book):#繼承抽象基類\n",
    "    def __init__(self, title, author, price):\n",
    "        super().__init__(title, author)#基類中只有title和author兩個pubilc的變量，我們繼承他們，並把題目需要的price在子類中實現\n",
    "        self.price = price\n",
    "    \n",
    "    def display(self):#重寫抽象基類中的display抽象方法\n",
    "        #要注意個是print逗號分隔的兩個對象時，默認中間就會有個空格，因此符合題目要求\n",
    "        print(\"Title:\", self.title)\n",
    "        print(\"Author:\", self.author)\n",
    "        print(\"Price:\", self.price)"
   ]
  },
  {
   "cell_type": "code",
   "execution_count": 68,
   "metadata": {},
   "outputs": [
    {
     "name": "stdout",
     "output_type": "stream",
     "text": [
      "abc abc\n",
      "abc|abc\n",
      "abcabc\n"
     ]
    }
   ],
   "source": [
    "#舉個例子，中間有空格\n",
    "print('abc','abc')\n",
    "#你可以透過sep設定用什麼分隔\n",
    "print('abc','abc',sep=\"|\")\n",
    "print('abc','abc',sep=\"\")\n"
   ]
  },
  {
   "cell_type": "code",
   "execution_count": 59,
   "metadata": {},
   "outputs": [
    {
     "name": "stdout",
     "output_type": "stream",
     "text": [
      "Title:  The Alchemist\n",
      "Author:  Paulo Coelho\n",
      "Price:  248\n"
     ]
    }
   ],
   "source": [
    "#運行一下看結果，如果不是在HackerRank跑，input要自己打\n",
    "title=input()\n",
    "author=input()\n",
    "price=int(input())\n",
    "new_novel=MyBook(title,author,price)\n",
    "new_novel.display()"
   ]
  }
 ],
 "metadata": {
  "kernelspec": {
   "display_name": "Python 3.10.2 64-bit",
   "language": "python",
   "name": "python3"
  },
  "language_info": {
   "codemirror_mode": {
    "name": "ipython",
    "version": 3
   },
   "file_extension": ".py",
   "mimetype": "text/x-python",
   "name": "python",
   "nbconvert_exporter": "python",
   "pygments_lexer": "ipython3",
   "version": "3.10.2"
  },
  "orig_nbformat": 4,
  "vscode": {
   "interpreter": {
    "hash": "1b43cb0bd93d5abbadd54afed8252f711d4681fe6223ad6b67ffaee289648f85"
   }
  }
 },
 "nbformat": 4,
 "nbformat_minor": 2
}
