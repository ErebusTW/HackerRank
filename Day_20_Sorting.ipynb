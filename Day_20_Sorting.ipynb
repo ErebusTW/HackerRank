{
 "cells": [
  {
   "cell_type": "markdown",
   "metadata": {},
   "source": [
    "**<font  size=6>Day 20: Sorting</font>**\n",
    "\n"
   ]
  },
  {
   "cell_type": "markdown",
   "metadata": {},
   "source": [
    "**Objective**  \n",
    "Today, we're discussing a simple sorting algorithm called Bubble Sort. Check out the Tutorial tab for learning materials and an  \n",
    " instructional video!\n",
    " - - -"
   ]
  },
  {
   "cell_type": "markdown",
   "metadata": {},
   "source": [
    "Consider the following version of Bubble Sort:"
   ]
  },
  {
   "cell_type": "code",
   "execution_count": null,
   "metadata": {},
   "outputs": [],
   "source": [
    "for (int i = 0; i < n; i++) {\n",
    "    // Track number of elements swapped during a single array traversal\n",
    "    int numberOfSwaps = 0;\n",
    "    \n",
    "    for (int j = 0; j < n - 1; j++) {\n",
    "        // Swap adjacent elements if they are in decreasing order\n",
    "        if (a[j] > a[j + 1]) {\n",
    "            swap(a[j], a[j + 1]);\n",
    "            numberOfSwaps++;\n",
    "        }\n",
    "    }\n",
    "    \n",
    "    // If no elements were swapped during a traversal, array is sorted\n",
    "    if (numberOfSwaps == 0) {\n",
    "        break;\n",
    "    }\n",
    "}"
   ]
  },
  {
   "cell_type": "markdown",
   "metadata": {},
   "source": [
    "**Task**  \n",
    "Given an array, $a$ , of size $n$ distinct elements, sort the array in ascending order using the Bubble Sort algorithm above. Once  \n",
    " sorted, print the following $3$ lines:"
   ]
  },
  {
   "cell_type": "markdown",
   "metadata": {},
   "source": [
    "1. Array is sorted in numSwaps swaps.  \n",
    "where  is the number of swaps that took place.  \n",
    "\n",
    "2. First Element: firstElement  \n",
    "where  is the first element in the sorted array.  \n",
    "\n",
    "3. Last Element: lastElement  \n",
    "where  is the last element in the sorted array."
   ]
  },
  {
   "cell_type": "markdown",
   "metadata": {},
   "source": [
    "**Hint:**   \n",
    "To complete this challenge, you will need to add a variable that keeps a running tally of all swaps that occur during  \n",
    " execution"
   ]
  },
  {
   "cell_type": "markdown",
   "metadata": {},
   "source": [
    "**Example**  \n",
    "$a = [4, 3, 1, 2]$"
   ]
  },
  {
   "cell_type": "markdown",
   "metadata": {},
   "source": [
    "original a: 4 3 1 2  \n",
    "round 1  a: 3 1 2 4 swaps this round: 3  \n",
    "round 2  a: 1 2 3 4 swaps this round: 2  \n",
    "round 3  a: 1 2 3 4 swaps this round: 0  "
   ]
  },
  {
   "cell_type": "markdown",
   "metadata": {},
   "source": [
    "In the first round, the $4$ is swapped at each of the $3$ comparisons, ending in the last position. In the second round, the $3$ is  \n",
    " swapped at $2$ of the $3$ comparisons. Finally, in the third round, no swaps are made so the iterations stop. The output is the  \n",
    "  following:"
   ]
  },
  {
   "cell_type": "markdown",
   "metadata": {},
   "source": [
    "Array is sorted in 5 swaps.  \n",
    "First Element: 1  \n",
    "Last Element: 4"
   ]
  },
  {
   "cell_type": "markdown",
   "metadata": {},
   "source": [
    "**Input Format**\n",
    "\n",
    "The first line contains an integer, $n$, the number of elements in array $a$.  \n",
    "The second line contains $n$ space-separated integers that describe $a[0], a[1],...,a[n-1]$"
   ]
  },
  {
   "cell_type": "markdown",
   "metadata": {},
   "source": [
    "**Constraints**  \n",
    "- $2\\leq n \\leq 600$\n",
    "- $1\\leq a[i] \\leq 2 \\times 10^{6}$ ,where $0 \\leq i \\leq n$"
   ]
  },
  {
   "cell_type": "markdown",
   "metadata": {},
   "source": [
    "**Output Format**\n",
    "\n",
    "Print the following three lines of output:\n",
    "\n",
    "1. Array is sorted in numSwaps swaps.  \n",
    "where $numSwaps$ is the number of swaps that took place.  \n",
    "\n",
    "2. First Element: firstElement  \n",
    "where $firstElement$ is the first element in the sorted array.  \n",
    "\n",
    "3. Last Element: lastElement  \n",
    "where $lastElement$ is the last element in the sorted array."
   ]
  },
  {
   "cell_type": "markdown",
   "metadata": {},
   "source": [
    "**Sample Input 0**\n",
    "  \n",
    "3  \n",
    "1 2 3  "
   ]
  },
  {
   "cell_type": "markdown",
   "metadata": {},
   "source": [
    "**Sample Output 0**\n",
    "\n",
    "Array is sorted in 0 swaps.  \n",
    "First Element: 1  \n",
    "Last Element: 3  "
   ]
  },
  {
   "cell_type": "markdown",
   "metadata": {},
   "source": [
    "**Explanation 0**\n",
    "\n",
    "The array is already sorted, so $0$ swaps take place and we print the necessary $3$ lines of output shown above."
   ]
  },
  {
   "cell_type": "markdown",
   "metadata": {},
   "source": [
    "**Sample Output 1**\n",
    "\n",
    "Array is sorted in 3 swaps.  \n",
    "First Element: 1  \n",
    "Last Element: 3  "
   ]
  },
  {
   "cell_type": "markdown",
   "metadata": {},
   "source": [
    "**Explanation 1**\n",
    "\n",
    "The array $a = [3, 2, 1]$ is not sorted, so we perform the following $3$ swaps. Each line shows $a$ after each single element is  \n",
    " swapped.  \n",
    " \n",
    "1.$[3, 2, 1]  \\rightarrow [2, 3, 1]$  \n",
    "\n",
    "2.$[2, 3, 1]  \\rightarrow [2, 1, 3]$\n",
    "\n",
    "3.$[2, 1, 3]  \\rightarrow [1, 2, 3]$\n",
    "\n",
    "After  swaps, the array is sorted."
   ]
  },
  {
   "cell_type": "markdown",
   "metadata": {},
   "source": [
    "**<font  size=5>題目解析</font>**"
   ]
  },
  {
   "cell_type": "markdown",
   "metadata": {},
   "source": [
    "這一題希望我們完成一個冒泡排序法，一種簡單的排序演算法。它重複地走訪過要排序的數列，一次比較兩個元素，如果它們的順序錯誤就把它們交換過來。  \n",
    "走訪數列的工作是重複地進行直到沒有再需要交換的元數，該數列便排序完成。"
   ]
  },
  {
   "cell_type": "markdown",
   "metadata": {},
   "source": [
    "我們先看內建的代碼\n"
   ]
  },
  {
   "cell_type": "code",
   "execution_count": 6,
   "metadata": {},
   "outputs": [],
   "source": [
    "import math\n",
    "import os\n",
    "import random\n",
    "import re\n",
    "import sys\n",
    "\n",
    "if __name__ == '__main__':\n",
    "    n = int(input().strip())#輸入一個n值代表列表長度\n",
    "\n",
    "    a = list(map(int, input().rstrip().split()))#輸入一個字符串依空格切分並轉換成列表\n",
    "\n",
    "    # Write your code here"
   ]
  },
  {
   "cell_type": "markdown",
   "metadata": {},
   "source": [
    "Input(stdin)  \n",
    "3  \n",
    "3 2 1"
   ]
  },
  {
   "cell_type": "markdown",
   "metadata": {},
   "source": [
    "開始寫冒泡排序吧!"
   ]
  },
  {
   "cell_type": "code",
   "execution_count": 8,
   "metadata": {},
   "outputs": [
    {
     "name": "stdout",
     "output_type": "stream",
     "text": [
      "Array is sorted in 0 swaps.\n",
      "First Element: 1\n",
      "Last Element: 3\n"
     ]
    }
   ],
   "source": [
    "numberOfSwaps = 0\n",
    "for i in range(n):#最多執行n次(如果最小的值在列表最後，需要n次才能換到最前面)\n",
    "    for j in range(n-1):#將1~n-1個值與下一個值比較，如果下一個值小於前一個值，將兩個對調\n",
    "        if a[j] > a[j+1]:\n",
    "            a[j] ,a[j+1] = a[j+1], a[j]\n",
    "            numberOfSwaps+=1#紀錄調換次數\n",
    "    if numberOfSwaps ==0:\n",
    "        break\n",
    "#打印結果\n",
    "print(\"Array is sorted in %s swaps.\"%numberOfSwaps)\n",
    "print(\"First Element: %s\"%a[0])\n",
    "print(\"Last Element: %s\"%a[n-1])"
   ]
  }
 ],
 "metadata": {
  "kernelspec": {
   "display_name": "Python 3.10.2 64-bit",
   "language": "python",
   "name": "python3"
  },
  "language_info": {
   "codemirror_mode": {
    "name": "ipython",
    "version": 3
   },
   "file_extension": ".py",
   "mimetype": "text/x-python",
   "name": "python",
   "nbconvert_exporter": "python",
   "pygments_lexer": "ipython3",
   "version": "3.10.2"
  },
  "orig_nbformat": 4,
  "vscode": {
   "interpreter": {
    "hash": "1b43cb0bd93d5abbadd54afed8252f711d4681fe6223ad6b67ffaee289648f85"
   }
  }
 },
 "nbformat": 4,
 "nbformat_minor": 2
}
