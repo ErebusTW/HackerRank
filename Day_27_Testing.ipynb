{
 "cells": [
  {
   "cell_type": "markdown",
   "metadata": {},
   "source": [
    "**<font  size=6>Day 27: Testing</font>**"
   ]
  },
  {
   "cell_type": "markdown",
   "metadata": {},
   "source": [
    "This problem is about unit testing.\n",
    "\n",
    "Your company needs a function that meets the following requirements:\n",
    "\n",
    "- For a given array of $n$ integers, the function returns the index of the element with the minimum value in the array. If there is more than one element with the minimum value, it returns the smallest one.\n",
    "- If an empty array is passed to the function, it raises an exception. A colleague has written this method. The implementation in Python is listed below. Implementations in other languages can be found in the code template."
   ]
  },
  {
   "cell_type": "code",
   "execution_count": null,
   "metadata": {},
   "outputs": [],
   "source": [
    "def minimum_index(seq):\n",
    "    if len(seq) == 0:\n",
    "        raise ValueError(\"Cannot get the minimum value index from an empty sequence\")\n",
    "    min_idx = 0\n",
    "    for i in range(1, len(seq)):\n",
    "        if a[i] < a[min_idx]:\n",
    "            min_idx = i\n",
    "    return min_idx"
   ]
  },
  {
   "cell_type": "markdown",
   "metadata": {},
   "source": [
    "A coworker has prepared functions that will perform the tests and validate return values. Finish the implementation of $3$  \n",
    "classes to provide data and expected results for the tests.\n",
    "\n",
    "Complete the following methods.\n",
    "\n",
    "In the class TestDataEmptyArray:\n",
    "- get_array() returns an empty array\n",
    "\n",
    "In the class TestDataUniqueValues:\n",
    "- get_array() returns an array of size at least 2 with all unique elements\n",
    "- get_expected_result() returns the expected minimum value index for this array\n",
    "\n",
    "In the class TestDataExactlyTwoDifferentMinimums:\n",
    "- get_array() returns an array where the minimum value occurs at exactly 2 indices\n",
    "- get_expected_result() returns the expected index\n",
    "\n",
    "Take a look at the code template to see the exact implementation of functions that your colleague already implemented.\n",
    "\n",
    "Note: The arrays are indexed from $0$."
   ]
  },
  {
   "cell_type": "markdown",
   "metadata": {},
   "source": [
    "**<font  size=5>題目解析</font>**"
   ]
  },
  {
   "cell_type": "markdown",
   "metadata": {},
   "source": [
    "這題要我們完成一個單元測試的輸入項，單元測試的目的是驗證各個代碼單元（例如函數）是否按預期工作。"
   ]
  },
  {
   "cell_type": "markdown",
   "metadata": {},
   "source": [
    "都到27天了，可以開始養成透過解讀內建代碼而不是文字來閱讀題目，這邊示範怎麼透過內建代碼了解題目的要求。首先，題目給了我們一個函數minimum_index:"
   ]
  },
  {
   "cell_type": "code",
   "execution_count": null,
   "metadata": {},
   "outputs": [],
   "source": [
    "def minimum_index(seq):\n",
    "    if len(seq) == 0:#如果傳入array的長度等於零\n",
    "        raise ValueError(\"Cannot get the minimum value index from an empty sequence\")\n",
    "    min_idx = 0\n",
    "    for i in range(1, len(seq)):#檢查所有的值，如果下一個值小於當前值，則記錄下一個值的索引\n",
    "        if seq[i] < seq[min_idx]:\n",
    "            min_idx = i\n",
    "        #因為題目沒有指定在值相同時的狀況，所以值相同時，不會做任何事情，如下:\n",
    "        #if seq[i] == seq[min_idx]:\n",
    "            #pass\n",
    "        #因此值重複的時候紀錄的是第一個索引，我們從索引最小開始loop，所以會記錄最小的索引\n",
    "    return min_idx"
   ]
  },
  {
   "cell_type": "markdown",
   "metadata": {},
   "source": [
    "先接紹一下assert方法，他是一個判斷函數，如果assert後面的代碼返回的是False，就會報錯(AssertionError)，舉個例子:\n"
   ]
  },
  {
   "cell_type": "code",
   "execution_count": 17,
   "metadata": {},
   "outputs": [],
   "source": [
    "a = 5"
   ]
  },
  {
   "cell_type": "code",
   "execution_count": 18,
   "metadata": {},
   "outputs": [
    {
     "data": {
      "text/plain": [
       "True"
      ]
     },
     "execution_count": 18,
     "metadata": {},
     "output_type": "execute_result"
    }
   ],
   "source": [
    "a > 0"
   ]
  },
  {
   "cell_type": "code",
   "execution_count": 19,
   "metadata": {},
   "outputs": [
    {
     "data": {
      "text/plain": [
       "False"
      ]
     },
     "execution_count": 19,
     "metadata": {},
     "output_type": "execute_result"
    }
   ],
   "source": [
    "a < 0"
   ]
  },
  {
   "cell_type": "code",
   "execution_count": 12,
   "metadata": {},
   "outputs": [],
   "source": [
    "def abc():\n",
    "    a = 5\n",
    "    assert a > 0 #True，不會報錯\n",
    "    print(a)"
   ]
  },
  {
   "cell_type": "code",
   "execution_count": 14,
   "metadata": {},
   "outputs": [
    {
     "name": "stdout",
     "output_type": "stream",
     "text": [
      "5\n"
     ]
    }
   ],
   "source": [
    "abc()"
   ]
  },
  {
   "cell_type": "code",
   "execution_count": 15,
   "metadata": {},
   "outputs": [],
   "source": [
    "def bcd():\n",
    "    a = 5\n",
    "    assert a < 0 # a = 5，所以 a<0 是Fasle\n",
    "    print(a)"
   ]
  },
  {
   "cell_type": "code",
   "execution_count": 16,
   "metadata": {},
   "outputs": [
    {
     "ename": "AssertionError",
     "evalue": "",
     "output_type": "error",
     "traceback": [
      "\u001b[1;31m---------------------------------------------------------------------------\u001b[0m",
      "\u001b[1;31mAssertionError\u001b[0m                            Traceback (most recent call last)",
      "\u001b[1;32mc:\\Users\\chiehlinchen\\Documents\\GitHub\\HackerRank\\Day_27_Testing.ipynb Cell 13\u001b[0m in \u001b[0;36m<cell line: 1>\u001b[1;34m()\u001b[0m\n\u001b[1;32m----> <a href='vscode-notebook-cell:/c%3A/Users/chiehlinchen/Documents/GitHub/HackerRank/Day_27_Testing.ipynb#X36sZmlsZQ%3D%3D?line=0'>1</a>\u001b[0m bcd()\n",
      "\u001b[1;32mc:\\Users\\chiehlinchen\\Documents\\GitHub\\HackerRank\\Day_27_Testing.ipynb Cell 13\u001b[0m in \u001b[0;36mbcd\u001b[1;34m()\u001b[0m\n\u001b[0;32m      <a href='vscode-notebook-cell:/c%3A/Users/chiehlinchen/Documents/GitHub/HackerRank/Day_27_Testing.ipynb#X36sZmlsZQ%3D%3D?line=0'>1</a>\u001b[0m \u001b[39mdef\u001b[39;00m \u001b[39mbcd\u001b[39m():\n\u001b[0;32m      <a href='vscode-notebook-cell:/c%3A/Users/chiehlinchen/Documents/GitHub/HackerRank/Day_27_Testing.ipynb#X36sZmlsZQ%3D%3D?line=1'>2</a>\u001b[0m     a \u001b[39m=\u001b[39m \u001b[39m5\u001b[39m\n\u001b[1;32m----> <a href='vscode-notebook-cell:/c%3A/Users/chiehlinchen/Documents/GitHub/HackerRank/Day_27_Testing.ipynb#X36sZmlsZQ%3D%3D?line=2'>3</a>\u001b[0m     \u001b[39massert\u001b[39;00m a \u001b[39m<\u001b[39m \u001b[39m0\u001b[39m\n\u001b[0;32m      <a href='vscode-notebook-cell:/c%3A/Users/chiehlinchen/Documents/GitHub/HackerRank/Day_27_Testing.ipynb#X36sZmlsZQ%3D%3D?line=3'>4</a>\u001b[0m     \u001b[39mprint\u001b[39m(a)\n",
      "\u001b[1;31mAssertionError\u001b[0m: "
     ]
    }
   ],
   "source": [
    "bcd()"
   ]
  },
  {
   "cell_type": "markdown",
   "metadata": {},
   "source": [
    "接著我們看檢查函數:"
   ]
  },
  {
   "cell_type": "code",
   "execution_count": null,
   "metadata": {},
   "outputs": [],
   "source": [
    "def TestWithEmptyArray():\n",
    "    try:\n",
    "        #從一個TestDataEmptyArray類中調用get_array方法，並附值給seq\n",
    "        #!!!!!!!!!!!!注意，這邊並沒有把TestDataEmptyArray實例化，這是一個關鍵，答案指向靜態方法(待會介紹)\n",
    "        seq = TestDataEmptyArray.get_array()\n",
    "        result = minimum_index(seq)\n",
    "        #如果minimum_index(seq)報了一個ValueError，不做任何事\n",
    "    except ValueError as e:\n",
    "        pass\n",
    "        #如果minimum_index(seq)不報錯，assert False，這個函數就會報錯\n",
    "    else:\n",
    "        assert False\n",
    "#結合函數名稱有Empty，並且要通過這個檢驗，minimum_index(seq)必須報錯，而且是ValueError，我們可以知道TestDataEmptyArray.get_array()必須返回一個空陣列\n",
    "\n",
    "def TestWithUniqueValues():\n",
    "    #從一個TestDataUniqueValues類中調用get_array方法，並附值給seq\n",
    "    seq = TestDataUniqueValues.get_array()\n",
    "    #如果len(seq)小於2，報錯\n",
    "    assert len(seq) >= 2\n",
    "    #如果seq去除重複值後的長度不等於他本身的長度，也就是說，seq存在重複值的話，報錯\n",
    "    assert len(list(set(seq))) == len(seq)\n",
    "    \n",
    "    #從一個TestDataUniqueValues類中調用get_expected_result方法，並附值給expected_result\n",
    "    expected_result = TestDataUniqueValues.get_expected_result()\n",
    "    result = minimum_index(seq)\n",
    "    #如果get_expected_result方法返回的值不是seq的最小值的索引，報錯\n",
    "    assert result == expected_result\n",
    "\n",
    "#要通過這個檢驗，get_array必須返回一個不存在重複值且長度>=2的陣列，get_expected_result必須返回陣列中的最小值的索引\n",
    "\n",
    "\n",
    "def TestiWithExactyTwoDifferentMinimums():\n",
    "    #從一個TestDataExactlyTwoDifferentMinimums類中調用get_array方法，並附值給seq\n",
    "    seq = TestDataExactlyTwoDifferentMinimums.get_array()\n",
    "    #如果len(seq)小於2，報錯\n",
    "    assert len(seq) >= 2\n",
    "    tmp = sorted(seq)\n",
    "    #將seq由小到大排序後，如果第一二個元素不相等，或是在len!=2 的情況下，第三個元素等於第二個元素(由小大到排序tmp[2]不可能小於tmp[1]，不符合tmp[1] < tmp[2]只有可能是tmp[1] == tmp[2])，報錯\n",
    "    assert tmp[0] == tmp[1] and (len(tmp) == 2 or tmp[1] < tmp[2])\n",
    "    \n",
    "    expected_result = TestDataExactlyTwoDifferentMinimums.get_expected_result()\n",
    "    result = minimum_index(seq)\n",
    "    #TestDataExactlyTwoDifferentMinimums.get_expected_result返回的值如果不是seq最小的值的索引，報錯\n",
    "    assert result == expected_result\n",
    "\n",
    "#要通過這個檢驗，get_array 要返回一個長度>=2，而且，最小值重複一次的陣列，get_expected_result要返回重複的最小值中index最小的那個元素的INDEX\n",
    "\n",
    "#都通過，打印OK\n",
    "TestWithEmptyArray()\n",
    "TestWithUniqueValues()\n",
    "TestiWithExactyTwoDifferentMinimums()\n",
    "print(\"OK\")"
   ]
  },
  {
   "cell_type": "markdown",
   "metadata": {},
   "source": [
    "所以我們要:  \n",
    "實現三個類，每個類都要具備以上方法，而且在不實例化的情形下也能調用，也就是所謂的靜態方法。"
   ]
  },
  {
   "cell_type": "code",
   "execution_count": 9,
   "metadata": {},
   "outputs": [],
   "source": [
    "class abc():\n",
    "    a = 1\n",
    "    #這是一個動態方法\n",
    "    def aa(self):#self就是實例的意思\n",
    "        print(self.a)#也就是說，打印實例的a意思"
   ]
  },
  {
   "cell_type": "code",
   "execution_count": 33,
   "metadata": {},
   "outputs": [
    {
     "ename": "TypeError",
     "evalue": "abc.aa() missing 1 required positional argument: 'self'",
     "output_type": "error",
     "traceback": [
      "\u001b[1;31m---------------------------------------------------------------------------\u001b[0m",
      "\u001b[1;31mTypeError\u001b[0m                                 Traceback (most recent call last)",
      "\u001b[1;32mc:\\Users\\chiehlinchen\\Documents\\GitHub\\HackerRank\\Day_27_Testing.ipynb Cell 21\u001b[0m in \u001b[0;36m<cell line: 1>\u001b[1;34m()\u001b[0m\n\u001b[1;32m----> <a href='vscode-notebook-cell:/c%3A/Users/chiehlinchen/Documents/GitHub/HackerRank/Day_27_Testing.ipynb#X52sZmlsZQ%3D%3D?line=0'>1</a>\u001b[0m abc\u001b[39m.\u001b[39;49maa()\n",
      "\u001b[1;31mTypeError\u001b[0m: abc.aa() missing 1 required positional argument: 'self'"
     ]
    }
   ],
   "source": [
    "abc.aa()#不實例化是不能用的"
   ]
  },
  {
   "cell_type": "code",
   "execution_count": 34,
   "metadata": {},
   "outputs": [
    {
     "name": "stdout",
     "output_type": "stream",
     "text": [
      "1\n"
     ]
    }
   ],
   "source": [
    "abc().aa()#實例後才可以，並且實例後他會讀取到abc中的a變量(self.a)"
   ]
  },
  {
   "cell_type": "code",
   "execution_count": 10,
   "metadata": {},
   "outputs": [],
   "source": [
    "class bcd():\n",
    "    a=2   \n",
    "    #這是一個靜態方法\n",
    "    def aa():#注意沒有self\n",
    "        print(\"這是一個靜態方法\")"
   ]
  },
  {
   "cell_type": "code",
   "execution_count": 5,
   "metadata": {},
   "outputs": [
    {
     "name": "stdout",
     "output_type": "stream",
     "text": [
      "這是一個靜態方法\n"
     ]
    }
   ],
   "source": [
    "bcd.aa()#不用實例化也能調用，當然，要實例化也可以"
   ]
  },
  {
   "cell_type": "code",
   "execution_count": 12,
   "metadata": {},
   "outputs": [
    {
     "name": "stdout",
     "output_type": "stream",
     "text": [
      "1\n",
      "2\n"
     ]
    }
   ],
   "source": [
    "#注意，class裡的變量(a)，不用實例也可以調用(不論靜態動態)\n",
    "print(abc.a)\n",
    "print(bcd.a)"
   ]
  },
  {
   "cell_type": "code",
   "execution_count": 13,
   "metadata": {},
   "outputs": [],
   "source": [
    "#注意，靜態方法我們通常會加一個@staticmethod裝飾器做標示\n",
    "class bcd():\n",
    "    a=2   \n",
    "    #這是一個靜態方法\n",
    "    @staticmethod\n",
    "    def aa():#注意沒有self\n",
    "        print(\"這是一個靜態方法\")\n"
   ]
  },
  {
   "cell_type": "markdown",
   "metadata": {},
   "source": [
    "開始寫吧:"
   ]
  },
  {
   "cell_type": "code",
   "execution_count": 14,
   "metadata": {},
   "outputs": [],
   "source": [
    "#返回一個空值\n",
    "class TestDataEmptyArray():\n",
    "    @staticmethod\n",
    "    def get_array():\n",
    "        return []\n",
    "\n",
    "class TestDataUniqueValues():\n",
    "    #這邊array = [0,1,2,3,4,5,6,7,8,9]\n",
    "    array = [i for i in range(10)]\n",
    "\n",
    "    @staticmethod\n",
    "    def get_array():\n",
    "        return TestDataUniqueValues.array #靜態方法是沒有讀取實例的，所以我們直接讓他返回self.array會報錯，要告訴他是哪裡的array\n",
    "\n",
    "    @staticmethod\n",
    "    def get_expected_result():\n",
    "        #靜態方法是沒有讀取實例的，所以我們直接讓他返回self.array會報錯，要告訴他是哪裡的array\n",
    "        array = TestDataUniqueValues.get_array()\n",
    "        return array.index(min(array))#返回最小值的index\n",
    "    \n",
    "class TestDataExactlyTwoDifferentMinimums():\n",
    "    #這邊array = [0,1,2,3,4,5,6,7,8,9,0]\n",
    "    array = [i for i in range(10)]\n",
    "    array.append(0)\n",
    "\n",
    "    @staticmethod\n",
    "    def get_array():\n",
    "        return TestDataExactlyTwoDifferentMinimums.array#靜態方法是沒有讀取實例的，所以我們直接讓他返回self.array會報錯，要告訴他是哪裡的array\n",
    "\n",
    "    @staticmethod\n",
    "    def get_expected_result():\n",
    "        array = TestDataExactlyTwoDifferentMinimums.get_array()\n",
    "        return array.index(min(array))#list.index()預設如果存在重複值會返回最小的index，正好符合我們的要求"
   ]
  },
  {
   "cell_type": "markdown",
   "metadata": {},
   "source": [
    "全部run一遍"
   ]
  },
  {
   "cell_type": "code",
   "execution_count": 15,
   "metadata": {},
   "outputs": [
    {
     "name": "stdout",
     "output_type": "stream",
     "text": [
      "OK\n"
     ]
    }
   ],
   "source": [
    "def minimum_index(seq):\n",
    "    if len(seq) == 0:\n",
    "        raise ValueError(\"Cannot get the minimum value index from an empty sequence\")\n",
    "    min_idx = 0\n",
    "    for i in range(1, len(seq)):\n",
    "        if seq[i] < seq[min_idx]:\n",
    "            min_idx = i\n",
    "    return min_idx\n",
    "    \n",
    "class TestDataEmptyArray():\n",
    "    @staticmethod\n",
    "    def get_array():\n",
    "        return []\n",
    "\n",
    "class TestDataUniqueValues():\n",
    "    array = [i for i in range(10)]\n",
    "\n",
    "    @staticmethod\n",
    "    def get_array():\n",
    "        return TestDataUniqueValues.array\n",
    "\n",
    "    @staticmethod\n",
    "    def get_expected_result():\n",
    "        array = TestDataUniqueValues.get_array()\n",
    "        return array.index(min(array))\n",
    "    \n",
    "class TestDataExactlyTwoDifferentMinimums():\n",
    "    array = [i for i in range(10)]\n",
    "    array.append(0)\n",
    "\n",
    "    @staticmethod\n",
    "    def get_array():\n",
    "        return TestDataExactlyTwoDifferentMinimums.array\n",
    "\n",
    "    @staticmethod\n",
    "    def get_expected_result():\n",
    "        array = TestDataExactlyTwoDifferentMinimums.get_array()\n",
    "        return array.index(min(array))\n",
    "\n",
    "def TestWithEmptyArray():\n",
    "    try:\n",
    "        seq = TestDataEmptyArray.get_array()\n",
    "        result = minimum_index(seq)\n",
    "    except ValueError as e:\n",
    "        pass\n",
    "    else:\n",
    "        assert False\n",
    "\n",
    "\n",
    "def TestWithUniqueValues():\n",
    "    seq = TestDataUniqueValues.get_array()\n",
    "    assert len(seq) >= 2\n",
    "\n",
    "    assert len(list(set(seq))) == len(seq)\n",
    "\n",
    "    expected_result = TestDataUniqueValues.get_expected_result()\n",
    "    result = minimum_index(seq)\n",
    "    assert result == expected_result\n",
    "\n",
    "\n",
    "def TestiWithExactyTwoDifferentMinimums():\n",
    "    seq = TestDataExactlyTwoDifferentMinimums.get_array()\n",
    "    assert len(seq) >= 2\n",
    "    tmp = sorted(seq)\n",
    "    assert tmp[0] == tmp[1] and (len(tmp) == 2 or tmp[1] < tmp[2])\n",
    "\n",
    "    expected_result = TestDataExactlyTwoDifferentMinimums.get_expected_result()\n",
    "    result = minimum_index(seq)\n",
    "    assert result == expected_result\n",
    "\n",
    "TestWithEmptyArray()\n",
    "TestWithUniqueValues()\n",
    "TestiWithExactyTwoDifferentMinimums()\n",
    "print(\"OK\")"
   ]
  }
 ],
 "metadata": {
  "kernelspec": {
   "display_name": "Python 3.10.2 64-bit",
   "language": "python",
   "name": "python3"
  },
  "language_info": {
   "codemirror_mode": {
    "name": "ipython",
    "version": 3
   },
   "file_extension": ".py",
   "mimetype": "text/x-python",
   "name": "python",
   "nbconvert_exporter": "python",
   "pygments_lexer": "ipython3",
   "version": "3.10.2"
  },
  "orig_nbformat": 4,
  "vscode": {
   "interpreter": {
    "hash": "1b43cb0bd93d5abbadd54afed8252f711d4681fe6223ad6b67ffaee289648f85"
   }
  }
 },
 "nbformat": 4,
 "nbformat_minor": 2
}
