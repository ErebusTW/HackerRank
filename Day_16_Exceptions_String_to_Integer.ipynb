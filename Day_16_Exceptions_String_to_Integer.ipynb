{
 "cells": [
  {
   "cell_type": "markdown",
   "metadata": {},
   "source": [
    "**<font  size=6>Day 16: Exceptions - String to Integer</font>**"
   ]
  },
  {
   "cell_type": "markdown",
   "metadata": {},
   "source": [
    "**Objective**  \n",
    "Today, we're getting started with Exceptions by learning how to parse an integer from a string and print a custom error  \n",
    "message. Check out the Tutorial tab for learning materials and an instructional video!"
   ]
  },
  {
   "cell_type": "markdown",
   "metadata": {},
   "source": [
    "**Task**  \n",
    "Read a string,$S$, and print its integer value; if $S$ cannot be converted to an integer, print Bad String.\n",
    "\n",
    "**Note**: You must use the String-to-Integer and exception handling constructs built into your submission language. If you attempt  \n",
    "to use loops/conditional statements, you will get a $0$ score."
   ]
  },
  {
   "cell_type": "markdown",
   "metadata": {},
   "source": [
    "**Input Format**  \n",
    "A single string,$S$."
   ]
  },
  {
   "cell_type": "markdown",
   "metadata": {},
   "source": [
    "**Constraints**\n",
    "\n",
    "- $1 \\leq |S| \\leq 6$, where $ |S| $ is the length of string .\n",
    "- $S$ is composed of either lowercase letters $(a - z)$ or decimal digits $(0 - 9)$."
   ]
  },
  {
   "cell_type": "markdown",
   "metadata": {},
   "source": [
    "**Output Format**  \n",
    "Print the parsed interger value of $S$, or Bad String if $S$ cannot be converted to an integer."
   ]
  },
  {
   "cell_type": "markdown",
   "metadata": {},
   "source": [
    "**Sample Input 0**  "
   ]
  },
  {
   "cell_type": "markdown",
   "metadata": {},
   "source": [
    "3"
   ]
  },
  {
   "cell_type": "markdown",
   "metadata": {},
   "source": [
    "**Sample Output 0**"
   ]
  },
  {
   "cell_type": "markdown",
   "metadata": {},
   "source": [
    "3"
   ]
  },
  {
   "cell_type": "markdown",
   "metadata": {},
   "source": [
    "**Sample Input 1**  "
   ]
  },
  {
   "cell_type": "markdown",
   "metadata": {},
   "source": [
    "za"
   ]
  },
  {
   "cell_type": "markdown",
   "metadata": {},
   "source": [
    "**Sample Output 1**  "
   ]
  },
  {
   "cell_type": "markdown",
   "metadata": {},
   "source": [
    "Bad String"
   ]
  },
  {
   "cell_type": "markdown",
   "metadata": {},
   "source": [
    "**Explanation**  \n",
    "Sample Case $0$ contains an integer, so it should not raise an exception when we attempt to convert it to an integer. Thus, we  \n",
    "print the $3$.  \n",
    "Sample Case $1$ does not contain any integers, so an attempt to convert it to an integer will raise an exception. Thus, our  \n",
    "exception handler prints Bad String."
   ]
  },
  {
   "cell_type": "markdown",
   "metadata": {},
   "source": [
    "**<font  size=5>異常處理</font>**"
   ]
  },
  {
   "cell_type": "markdown",
   "metadata": {},
   "source": [
    "在某些情況下（例如：試圖讀取一個不存在的文件），程序可能會發生運行時錯誤。\n",
    "\n",
    "當然，我們希望程序足夠健壯，即使發生異常，也能夠很好地恢復過來。所以，在遇到這些可預見的問題時，通常需要添加一些安全的防護性措施。\n",
    "- - -"
   ]
  },
  {
   "cell_type": "markdown",
   "metadata": {},
   "source": [
    "**try/except 子句**  \n",
    "在Python 中，try/except語句用於處理程序執行過程中出現的一些異常情況。  \n",
    "在 try 子句中，通常放置的是一個可能引發異常的操作，而處理異常的代碼則在 except 子句中。\n",
    "- A：你的薪水是多少？\n",
    "- B：你猜？\n",
    "\n"
   ]
  },
  {
   "cell_type": "code",
   "execution_count": 44,
   "metadata": {},
   "outputs": [
    {
     "name": "stdout",
     "output_type": "stream",
     "text": [
      "Please enter the salary: 10000\n",
      "So happy 10000.\n"
     ]
    }
   ],
   "source": [
    "try:\n",
    "    inp= input()\n",
    "    salary = int(inp)\n",
    "    print(\"Please enter the salary:\",inp)\n",
    "    print(\"So happy %d.\" % salary)\n",
    "except:\n",
    "    print(inp)\n",
    "    print(\"It's not a number!\")\n"
   ]
  },
  {
   "cell_type": "code",
   "execution_count": 46,
   "metadata": {},
   "outputs": [
    {
     "name": "stdout",
     "output_type": "stream",
     "text": [
      "Please enter the salary: abc\n",
      "It's not a number!\n"
     ]
    }
   ],
   "source": [
    "try:\n",
    "    inp= input()\n",
    "    salary = int(inp)\n",
    "    print(\"Please enter the salary:\",inp)\n",
    "    print(\"So happy %d.\" % salary)\n",
    "except:\n",
    "    print(\"Please enter the salary:\",inp)\n",
    "    print(\"It's not a number!\")\n"
   ]
  },
  {
   "cell_type": "markdown",
   "metadata": {},
   "source": [
    "這裡，Python 將嘗試處理 try 塊中的所有語句，一旦發生異常（打聽你薪水，你非要說一個“abc”），則控制流將立即傳遞到 except 塊，並跳過 try 中的剩餘語句。\n",
    "\n",
    "注意：這裡，except子句沒有捕獲特定異常，這並不是一個好的習慣。因為它會捕獲所有的異常，並以相同的方式處理所有的情況。\n",
    "- - -"
   ]
  },
  {
   "cell_type": "markdown",
   "metadata": {},
   "source": [
    "**捕獲特定異常**    \n",
    "一個 try 子句可以有任意數量的 except 子句，但只有一個將被執行，並且 except 子句可以指定捕獲特定的異常。\n",
    "來看一段偽代碼："
   ]
  },
  {
   "cell_type": "code",
   "execution_count": 35,
   "metadata": {},
   "outputs": [],
   "source": [
    "try:\n",
    "   #執行語句\n",
    "   pass\n",
    "\n",
    "except ValueError:\n",
    "   # 處理 ValueError 異常\n",
    "   pass\n",
    "\n",
    "except (TypeError, ZeroDivisionError):#元組\n",
    "   # 處理多個異常 - TypeError 和 ZeroDivisionError\n",
    "   pass\n",
    "\n",
    "except:\n",
    "   # 處理所有其他異常\n",
    "   pass"
   ]
  },
  {
   "cell_type": "markdown",
   "metadata": {},
   "source": [
    "通過使用元組(tuple)，可以為 except 子句指定多個異常。\n",
    "- - -"
   ]
  },
  {
   "cell_type": "markdown",
   "metadata": {},
   "source": [
    "**else 子句**  \n",
    "通常，如果不發生異常，我們往往會希望執行一些額外的代碼，這可以通過 else 子句實現。  \n"
   ]
  },
  {
   "cell_type": "code",
   "execution_count": 48,
   "metadata": {},
   "outputs": [
    {
     "name": "stdout",
     "output_type": "stream",
     "text": [
      "Please enter the salary: 10000\n",
      "So happy 10000.\n"
     ]
    }
   ],
   "source": [
    "try:\n",
    "    inp= input()\n",
    "    salary = int(inp)\n",
    "except ValueError:\n",
    "    print(\"Please enter the salary:\",inp)\n",
    "    print(\"It's not a number!\")\n",
    "else:\n",
    "    print(\"Please enter the salary:\",inp)\n",
    "    print(\"So happy %d.\" % salary)"
   ]
  },
  {
   "cell_type": "markdown",
   "metadata": {},
   "source": [
    "try塊中唯一的代碼應該是有潛在風險的單行（即：要處理的錯誤的來源）。\n",
    "- - -"
   ]
  },
  {
   "cell_type": "markdown",
   "metadata": {},
   "source": [
    "**finally 子句**  \n",
    "另外，try語句可以有一個可選的 finally 子句。無論什麼情況，該子句都會被執行，通常用於釋放外部資源。  \n",
    "例如，操作一個文件："
   ]
  },
  {
   "cell_type": "code",
   "execution_count": null,
   "metadata": {},
   "outputs": [],
   "source": [
    "try:\n",
    "   f = open(\"ReadMe.txt\", encoding = 'utf-8')\n",
    "   # 執行文件操作\n",
    "finally:\n",
    "   f.close()\n"
   ]
  },
  {
   "cell_type": "markdown",
   "metadata": {},
   "source": [
    "一旦使用，無論文件是否打開成功，都必須清理資源。所以，在 finally 子句中使用close()，可以確保即使發生異常，文件也能夠被關閉。\n",
    "- - -"
   ]
  },
  {
   "cell_type": "markdown",
   "metadata": {},
   "source": [
    "**使用異常對象**  \n",
    "異常對象包含的信息不僅僅是錯誤類型，也有一些其他信息。  \n",
    "要訪問這些信息，需要能夠訪問異常對象，可以將其分配給一個變量，然後在 except 子句中使用：\n"
   ]
  },
  {
   "cell_type": "markdown",
   "metadata": {},
   "source": [
    "注意： err不是字符串，但是Python 知道如何將它轉換為一個異常的字符串表示形式。  "
   ]
  },
  {
   "cell_type": "code",
   "execution_count": 49,
   "metadata": {},
   "outputs": [
    {
     "name": "stdout",
     "output_type": "stream",
     "text": [
      "Please enter the salary: abc\n",
      "invalid literal for int() with base 10: 'abc'\n"
     ]
    }
   ],
   "source": [
    "try:\n",
    "    inp= input()\n",
    "    salary = int(inp)\n",
    "except ValueError as err:\n",
    "    print(\"Please enter the salary:\",inp)\n",
    "    print(err)"
   ]
  },
  {
   "cell_type": "markdown",
   "metadata": {},
   "source": [
    "通常，這些異常信息不是很方便用戶，如果想向用戶報告錯誤，一般需要編寫一個更具描述性的消息（說明錯誤與用戶的某些行為相  \n",
    "關）。這時，可以將異常消息與自己的消息相結合：\n",
    "\n",
    "注意：使用 %s 將一個變量插入到格式化的字符串中，也可以將變量轉換為字符串。"
   ]
  },
  {
   "cell_type": "code",
   "execution_count": 53,
   "metadata": {},
   "outputs": [
    {
     "name": "stdout",
     "output_type": "stream",
     "text": [
      "Please enter the salary: abc\n",
      "You entered incorrect salary: invalid literal for int() with base 10: 'abc'\n"
     ]
    }
   ],
   "source": [
    "try:\n",
    "    inp = input()\n",
    "    salary = int(inp)\n",
    "except ValueError as err:\n",
    "    print(\"Please enter the salary:\",inp)\n",
    "    print(\"You entered incorrect salary: %s\" % err)\n"
   ]
  },
  {
   "cell_type": "markdown",
   "metadata": {},
   "source": [
    "- - -\n",
    "**拋出異常**  \n",
    "在Python 中，當發生運行時錯誤，就會出現相應的異常。此外，也可以使用關鍵字 raise 來強制引發。\n",
    "\n",
    "還可以選擇為異常傳遞值，以說明為什麼會引發異常：\n",
    "\n"
   ]
  },
  {
   "cell_type": "code",
   "execution_count": 61,
   "metadata": {},
   "outputs": [
    {
     "name": "stdout",
     "output_type": "stream",
     "text": [
      "Please enter the salary: -5\n",
      "You entered incorrect salary: -5 is not a valid age, salary must be positive.\n"
     ]
    }
   ],
   "source": [
    "try:\n",
    "    inp = input()\n",
    "    salary = int(inp)\n",
    "    if salary <= 0:\n",
    "        raise ValueError(\"%d is not a valid age, salary must be positive.\" % salary)\n",
    "except ValueError as err:\n",
    "    print(\"Please enter the salary:\",inp)\n",
    "    print(\"You entered incorrect salary: %s\" % err)\n",
    "else:\n",
    "    print(\"Please enter the salary:\",inp)\n",
    "    print(\"So happy %d.\" % salary)"
   ]
  },
  {
   "cell_type": "markdown",
   "metadata": {},
   "source": [
    "\n",
    "薪資肯定是一個正整數，當輸入一個負數或0 時，我們可以拋出自己的ValueError。\n",
    "\n",
    "注意：之所以選擇 ValueError 作為我們的異常類型，是因為它最適合這種錯誤。其它異常效果也是一樣的\n",
    "- - -"
   ]
  },
  {
   "cell_type": "markdown",
   "metadata": {},
   "source": [
    "**<font  size=5>題目解析</font>**"
   ]
  },
  {
   "cell_type": "markdown",
   "metadata": {},
   "source": [
    "題目要求我們實現將字符串轉換為整數的功能並加入異常處理結構，在字符串無法轉換為整數時打印'Bad String'，同時，題目要求不能使用循環/條件語句，只能使用異常處理結構。"
   ]
  },
  {
   "cell_type": "code",
   "execution_count": null,
   "metadata": {},
   "outputs": [],
   "source": [
    "#題目給我們的作答框架\n",
    "if __name__ == '__main__':\n",
    "    S = input()"
   ]
  },
  {
   "cell_type": "markdown",
   "metadata": {},
   "source": [
    "從框架中我們知道要轉換並打印的值是$S$，但題目要求不能使用循環/條件語句，所以把if __name__ == '__main__':刪掉(不知道是題目傻還是我程度不夠)"
   ]
  },
  {
   "cell_type": "code",
   "execution_count": 62,
   "metadata": {},
   "outputs": [
    {
     "name": "stdout",
     "output_type": "stream",
     "text": [
      "3\n"
     ]
    }
   ],
   "source": [
    "S = input()\n",
    "try:\n",
    "    print(int(S))\n",
    "except:\n",
    "    print('Bad String')"
   ]
  },
  {
   "cell_type": "code",
   "execution_count": 63,
   "metadata": {},
   "outputs": [
    {
     "name": "stdout",
     "output_type": "stream",
     "text": [
      "Bad String\n"
     ]
    }
   ],
   "source": [
    "S = input()\n",
    "try:\n",
    "    print(int(S))\n",
    "except:\n",
    "    print('Bad String')"
   ]
  }
 ],
 "metadata": {
  "kernelspec": {
   "display_name": "Python 3.10.2 64-bit",
   "language": "python",
   "name": "python3"
  },
  "language_info": {
   "codemirror_mode": {
    "name": "ipython",
    "version": 3
   },
   "file_extension": ".py",
   "mimetype": "text/x-python",
   "name": "python",
   "nbconvert_exporter": "python",
   "pygments_lexer": "ipython3",
   "version": "3.10.2"
  },
  "orig_nbformat": 4,
  "vscode": {
   "interpreter": {
    "hash": "1b43cb0bd93d5abbadd54afed8252f711d4681fe6223ad6b67ffaee289648f85"
   }
  }
 },
 "nbformat": 4,
 "nbformat_minor": 2
}
