{
 "cells": [
  {
   "cell_type": "markdown",
   "metadata": {},
   "source": [
    "**<font  size=6>Day 21: Generics</font>**\n"
   ]
  },
  {
   "cell_type": "markdown",
   "metadata": {},
   "source": [
    "**Objective**  \n",
    "Today we're discussing Generics; be aware that not all languages support this construct, so fewer languages are enabled for  \n",
    "this challenge. Check out the Tutorial tab for learning materials and an instructional video!"
   ]
  },
  {
   "cell_type": "markdown",
   "metadata": {},
   "source": [
    "**Task**  \n",
    "Write a single generic function named printArray; this function must take an array of generic elements as a parameter (the   \n",
    "exception to this is C++, which takes a vector). The locked Solution class in your editor tests your function.  "
   ]
  },
  {
   "cell_type": "markdown",
   "metadata": {},
   "source": [
    "**Note:** You must use generics to solve this challenge. Do not write overloaded functions.\n",
    "\n"
   ]
  },
  {
   "cell_type": "markdown",
   "metadata": {},
   "source": [
    "**Input Format**  \n",
    "\n",
    "The locked Solution class in your editor will pass different types of arrays to your printArray function.\n"
   ]
  },
  {
   "cell_type": "markdown",
   "metadata": {},
   "source": [
    "**Constraints**\n",
    "\n",
    "- You must have exactly $1$ function named printArray.\n"
   ]
  },
  {
   "cell_type": "markdown",
   "metadata": {},
   "source": [
    "**Output Format**\n",
    "\n",
    "Your printArray function should print each element of its generic array parameter on a new line."
   ]
  },
  {
   "cell_type": "markdown",
   "metadata": {},
   "source": [
    "**<font  size=5>題目解析</font>**"
   ]
  },
  {
   "cell_type": "markdown",
   "metadata": {},
   "source": [
    "**簡述Generics**  \n",
    "\n",
    "由於靜態語言對於宣告的類型有嚴格的規定，Generic 的出現則是讓這件事情變得更加彈性，可以將一套程式碼複用在不同類型的資料上。  \n",
    "例如所謂 Generic class 或 Generic function 的參數就會除了一般的參數之外，也會有參數代表的是類型，也就是類型參數化。  \n",
    "這樣子的好處是，就不用只是因為參數類型不同，就需要再撰寫一個很像的函式，例如把整數跟字串印出來的函數，可能邏輯上是完全一樣的，  \n",
    "就不用特別寫像是 printInt 和 printStr。  \n",
    "\n",
    "Generic 是靜態語言才有這樣的需求，然而在 Python 的世界，並沒有辦法去限制參數是什麼樣的種類，所以理論上也就沒有 Generic 的存在必要。\n",
    "\n",
    "當然，python可以在程式碼中去添加類型的標示，但執行時會被忽略。這樣的類型系統雖然實際上沒有作用，但是可以增加可讀性。例如"
   ]
  },
  {
   "cell_type": "code",
   "execution_count": 1,
   "metadata": {},
   "outputs": [],
   "source": [
    "from typing import Dict, Tuple, List\n",
    "\n",
    "Options = Dict[str, str]\n",
    "Host = Tuple[str, int]\n",
    "Server = Tuple[Host, Options]\n",
    "\n",
    "def connect(servers: List[Server]) -> None:\n",
    "    pass"
   ]
  }
 ],
 "metadata": {
  "kernelspec": {
   "display_name": "Python 3.10.2 64-bit",
   "language": "python",
   "name": "python3"
  },
  "language_info": {
   "codemirror_mode": {
    "name": "ipython",
    "version": 3
   },
   "file_extension": ".py",
   "mimetype": "text/x-python",
   "name": "python",
   "nbconvert_exporter": "python",
   "pygments_lexer": "ipython3",
   "version": "3.10.2"
  },
  "orig_nbformat": 4,
  "vscode": {
   "interpreter": {
    "hash": "1b43cb0bd93d5abbadd54afed8252f711d4681fe6223ad6b67ffaee289648f85"
   }
  }
 },
 "nbformat": 4,
 "nbformat_minor": 2
}
