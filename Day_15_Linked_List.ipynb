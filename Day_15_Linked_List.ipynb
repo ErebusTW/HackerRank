{
 "cells": [
  {
   "cell_type": "markdown",
   "metadata": {},
   "source": [
    "**<font  size=6>Day 15: Linked List</font>**"
   ]
  },
  {
   "cell_type": "markdown",
   "metadata": {},
   "source": [
    "**Objective**  \n",
    "Today we will work with a Linked List. Check out the Tutorial tab for learning materials and an instructional video.\n",
    "--------- ---"
   ]
  },
  {
   "cell_type": "markdown",
   "metadata": {},
   "source": [
    "A Node class is provided for you in the editor. A Node object has an integer data field, $data$ , and a Node instance pointer, $next$  \n",
    " , pointing to another node (i.e.: the next node in the list).\n",
    "\n",
    "A Node insert function is also declared in your editor. It has two parameters: a pointer, $head$ , pointing to the first node of a  \n",
    "linked list, and an integer, $data$ , that must be added to the end of the list as a new Node object."
   ]
  },
  {
   "cell_type": "markdown",
   "metadata": {},
   "source": [
    "**Task**  \n",
    "Complete the insert function in your editor so that it creates a new Node (pass $data$ as the Node constructor argument) and   \n",
    "inserts it at the tail of the linked list referenced by the $head$ parameter.Once the new node is added, return the reference to the  node."
   ]
  },
  {
   "cell_type": "markdown",
   "metadata": {},
   "source": [
    "**Note**: The $head$ argument is null for an empty list."
   ]
  },
  {
   "cell_type": "markdown",
   "metadata": {},
   "source": [
    "**Input Format**\n",
    "\n",
    "The first line contains T, the number of elements to insert.  \n",
    "Each of the next $T$ lines contains an integer to insert at the end of the list."
   ]
  },
  {
   "cell_type": "markdown",
   "metadata": {},
   "source": [
    "**Output Format**\n",
    "\n",
    "Return a reference to the $head$ node of the linked list."
   ]
  },
  {
   "cell_type": "markdown",
   "metadata": {},
   "source": [
    "**Sample Input**"
   ]
  },
  {
   "cell_type": "markdown",
   "metadata": {},
   "source": [
    "STDIN  $\\quad$   Function  \n",
    "$\\_\\_\\_\\_\\_$  $\\quad$ $\\_\\_\\_\\_\\_\\_$   \n",
    "4   $\\qquad$ $\\quad$    T = 4  \n",
    "2    $\\qquad$  $\\quad$ first data = 2  \n",
    "3  \n",
    "4  \n",
    "1  $\\qquad$  $\\quad$   fourth data = 1\n"
   ]
  },
  {
   "cell_type": "markdown",
   "metadata": {},
   "source": [
    "**Sample Output**\n",
    "\n",
    "2 3 4 1"
   ]
  },
  {
   "cell_type": "markdown",
   "metadata": {},
   "source": [
    "**Explanation**\n",
    "\n",
    "$T=4$, so your method will insert $4$ nodes into an initially empty list.  \n",
    "First the code returns a new node that contains the data value $2$ as the $head$ of the list. Then create and insert nodes $3$ , $4$ , and $1$ at the tail of the list."
   ]
  },
  {
   "cell_type": "markdown",
   "metadata": {},
   "source": [
    "vscode-resource:<img src =\"./jupyter_logo.png\", width =320, heigth=240>"
   ]
  },
  {
   "cell_type": "markdown",
   "metadata": {},
   "source": [
    "![node](C:/Users/chiehlinchen/Desktop/1456961238-28488bfa0d-LinkedListExplanation.png)"
   ]
  }
 ],
 "metadata": {
  "kernelspec": {
   "display_name": "Python 3.10.2 64-bit",
   "language": "python",
   "name": "python3"
  },
  "language_info": {
   "codemirror_mode": {
    "name": "ipython",
    "version": 3
   },
   "file_extension": ".py",
   "mimetype": "text/x-python",
   "name": "python",
   "nbconvert_exporter": "python",
   "pygments_lexer": "ipython3",
   "version": "3.10.2"
  },
  "orig_nbformat": 4,
  "vscode": {
   "interpreter": {
    "hash": "1b43cb0bd93d5abbadd54afed8252f711d4681fe6223ad6b67ffaee289648f85"
   }
  }
 },
 "nbformat": 4,
 "nbformat_minor": 2
}
