{
 "cells": [
  {
   "cell_type": "markdown",
   "metadata": {},
   "source": [
    "**<font  size=6>Day 15: Linked List</font>**"
   ]
  },
  {
   "cell_type": "markdown",
   "metadata": {},
   "source": [
    "**Objective**  \n",
    "Today we will work with a Linked List. Check out the Tutorial tab for learning materials and an instructional video.\n",
    "--------- ---"
   ]
  },
  {
   "cell_type": "markdown",
   "metadata": {},
   "source": [
    "A Node class is provided for you in the editor. A Node object has an integer data field, $data$ , and a Node instance pointer, $next$  \n",
    " , pointing to another node (i.e.: the next node in the list).\n",
    "\n",
    "A Node insert function is also declared in your editor. It has two parameters: a pointer, $head$ , pointing to the first node of a  \n",
    "linked list, and an integer, $data$ , that must be added to the end of the list as a new Node object."
   ]
  },
  {
   "cell_type": "markdown",
   "metadata": {},
   "source": [
    "**Task**  \n",
    "Complete the insert function in your editor so that it creates a new Node (pass $data$ as the Node constructor argument) and   \n",
    "inserts it at the tail of the linked list referenced by the $head$ parameter.Once the new node is added, return the reference to the  node."
   ]
  },
  {
   "cell_type": "markdown",
   "metadata": {},
   "source": [
    "**Note**: The $head$ argument is null for an empty list."
   ]
  },
  {
   "cell_type": "markdown",
   "metadata": {},
   "source": [
    "**Input Format**\n",
    "\n",
    "The first line contains T, the number of elements to insert.  \n",
    "Each of the next $T$ lines contains an integer to insert at the end of the list."
   ]
  },
  {
   "cell_type": "markdown",
   "metadata": {},
   "source": [
    "**Output Format**\n",
    "\n",
    "Return a reference to the $head$ node of the linked list."
   ]
  },
  {
   "cell_type": "markdown",
   "metadata": {},
   "source": [
    "**Sample Input**"
   ]
  },
  {
   "cell_type": "markdown",
   "metadata": {},
   "source": [
    "STDIN  $\\quad$   Function  \n",
    "$\\_\\_\\_\\_\\_$  $\\quad$ $\\_\\_\\_\\_\\_\\_$   \n",
    "4   $\\qquad$ $\\quad$    T = 4  \n",
    "2    $\\qquad$  $\\quad$ first data = 2  \n",
    "3  \n",
    "4  \n",
    "1  $\\qquad$  $\\quad$   fourth data = 1\n"
   ]
  },
  {
   "cell_type": "markdown",
   "metadata": {},
   "source": [
    "**Sample Output**\n",
    "\n",
    "2 3 4 1"
   ]
  },
  {
   "cell_type": "markdown",
   "metadata": {},
   "source": [
    "**Explanation**\n",
    "\n",
    "$T=4$, so your method will insert $4$ nodes into an initially empty list.  \n",
    "First the code returns a new node that contains the data value $2$ as the $head$ of the list. Then create and insert nodes $3$ , $4$ , and $1$ at the tail of the list."
   ]
  },
  {
   "cell_type": "markdown",
   "metadata": {},
   "source": [
    "參考圖片\n",
    "https://s3.amazonaws.com/hr-challenge-images/17168/1456961238-28488bfa0d-LinkedListExplanation.png"
   ]
  },
  {
   "cell_type": "markdown",
   "metadata": {},
   "source": [
    "**<font  size=5>題目解析</font>**"
   ]
  },
  {
   "cell_type": "markdown",
   "metadata": {},
   "source": [
    "這題是講鍊表的，第一次理解起來會比較抽象，我盡量講得清楚一些。\n",
    "\n"
   ]
  },
  {
   "cell_type": "markdown",
   "metadata": {},
   "source": [
    "**<font  size=4>基礎知識</font>**  \n",
    "鍊錶是通過一個個節點組成的，每個節點都包含了稱為cargo的基本單元，它也是一種遞歸的數據結構。它能保持數據之間的邏輯順序，但存儲空間不必按照順序存儲。  \n",
    "\n",
    "鍊錶的基本元素有：\n",
    "- 節點：每個節點有兩個部分，左邊部分稱為值域，用來存放用戶數據；右邊部分稱為指針域，用來存放指向下一個元素的指針。\n",
    "- head:head節點永遠指向第一個節點\n",
    "- tail: tail永遠指向最後一個節點\n",
    "- None:鍊錶中最後一個節點的指針域為None值\n",
    "\n",
    "但鍊錶也分為單向鍊錶和單向循環鍊錶，雙向鍊錶和雙向循環鍊錶。"
   ]
  },
  {
   "cell_type": "markdown",
   "metadata": {},
   "source": [
    "我們直接看程式，建立一個節點定義如下:"
   ]
  },
  {
   "cell_type": "code",
   "execution_count": 1,
   "metadata": {},
   "outputs": [],
   "source": [
    "class Node:\n",
    "    def __init__(self,data):\n",
    "        self.data = data\n",
    "        self.next = None"
   ]
  },
  {
   "cell_type": "code",
   "execution_count": 2,
   "metadata": {},
   "outputs": [
    {
     "data": {
      "text/plain": [
       "1"
      ]
     },
     "execution_count": 2,
     "metadata": {},
     "output_type": "execute_result"
    }
   ],
   "source": [
    "node1 = Node(1)#建立一個節點後，我們傳入的參數會存在class內的data變量處\n",
    "node1.data"
   ]
  },
  {
   "cell_type": "markdown",
   "metadata": {},
   "source": [
    "鍊錶怎麼定義呢？\n",
    "我們可以先定義一個一個節點，如下："
   ]
  },
  {
   "cell_type": "code",
   "execution_count": 3,
   "metadata": {},
   "outputs": [],
   "source": [
    "node1 = Node(1)\n",
    "node2 = Node(2)\n",
    "node3 = Node(3)"
   ]
  },
  {
   "cell_type": "markdown",
   "metadata": {},
   "source": [
    "然後再把每個節點的關係表示出來:"
   ]
  },
  {
   "cell_type": "code",
   "execution_count": 4,
   "metadata": {},
   "outputs": [],
   "source": [
    "node1.next = node2\n",
    "node2.next = node3"
   ]
  },
  {
   "cell_type": "markdown",
   "metadata": {},
   "source": [
    "因為先前已經建立了關係，所以可以通過輸入第一個節點，循環整個鍊錶然後順序打印整個鍊錶。"
   ]
  },
  {
   "cell_type": "code",
   "execution_count": 5,
   "metadata": {},
   "outputs": [
    {
     "name": "stdout",
     "output_type": "stream",
     "text": [
      "1\n",
      "2\n",
      "3\n"
     ]
    }
   ],
   "source": [
    "def printList(node):\n",
    "    while node:\n",
    "        print(node.data)\n",
    "        node = node.next\n",
    "printList(node1)"
   ]
  },
  {
   "cell_type": "markdown",
   "metadata": {},
   "source": [
    "**接著我們直接看題目**  "
   ]
  },
  {
   "cell_type": "code",
   "execution_count": 6,
   "metadata": {},
   "outputs": [],
   "source": [
    "#定義一個節點類\n",
    "class Node:\n",
    "    def __init__(self,data):\n",
    "        self.data = data\n",
    "        self.next = None"
   ]
  },
  {
   "cell_type": "code",
   "execution_count": 7,
   "metadata": {},
   "outputs": [],
   "source": [
    "class Solution: \n",
    "    #打印鍊表的功能\n",
    "    def display(self,head):#輸入第一個節點\n",
    "        current = head\n",
    "        while current:\n",
    "            print(current.data,end=' ')#打印節點的data\n",
    "            current = current.next#移動到下一個節點\n",
    "    # def insert(self,head,data):#我們要實現此功能 \n",
    "    #Complete this method        "
   ]
  },
  {
   "cell_type": "code",
   "execution_count": 8,
   "metadata": {},
   "outputs": [],
   "source": [
    "mylist = Solution()\n",
    "T = int(input())#有多少節點\n",
    "head = None\n",
    "for i in range(T):\n",
    "    data = int(input())#輸入節點值\n",
    "    head = mylist.insert(head,data)#插入節點\n",
    "mylist.display(head)#打印節點\n"
   ]
  },
  {
   "cell_type": "markdown",
   "metadata": {},
   "source": [
    "看完我們知道題目的要求是要實現一個可以在鍊表後方加入節點的功能，開始寫吧!"
   ]
  },
  {
   "cell_type": "code",
   "execution_count": 9,
   "metadata": {},
   "outputs": [
    {
     "name": "stdout",
     "output_type": "stream",
     "text": [
      "2 3 4 1 "
     ]
    }
   ],
   "source": [
    "#定義一個節點類\n",
    "class Node:\n",
    "    def __init__(self,data):\n",
    "        self.data = data\n",
    "        self.next = None\n",
    "        \n",
    "class Solution: \n",
    "    #打印鍊表的功能\n",
    "    def display(self,head):#輸入第一個節點\n",
    "        current = head\n",
    "        while current:\n",
    "            print(current.data,end=' ')#打印節點的data\n",
    "            current = current.next#移動到下一個節點\n",
    "\n",
    "    def insert(self,head,data):#功能:輸入data並將節點插入到末尾\n",
    "    #Complete this method\n",
    "        if data is None:\n",
    "            return\n",
    "        node = Node(data)#使用輸入的節點值創建節點\n",
    "        if head is None:#如果head沒有值，便將head定義為該節點\n",
    "            self.head = node\n",
    "            return node\n",
    "        curr_node = head #在這邊我們使用一個等號，之後對curr_node的節點增減操作也會改變head\n",
    "        while curr_node.next is not None:#如果有值，且此節點的下個節點存在\n",
    "            curr_node = curr_node.next#移動至下個節點，一直到末尾\n",
    "        curr_node.next = node#將末尾的下個節點指定為我們使用輸入的節點值創建的節點\n",
    "        #也就是說，給head，如果沒有值，就把第一個輸入值data創建的節點建立成head，然後增加head的節點\n",
    "        return head\n",
    "\n",
    "    #這邊把常用對鍊表的操作都寫進去有空可以看\n",
    "    def len(self, head):\n",
    "        #功能：返回鍊表長度\n",
    "        curr = self.head\n",
    "        counter = 0\n",
    "        while curr is not None:\n",
    "            counter += 1\n",
    "            curr = curr.next\n",
    "        return counter\n",
    "\n",
    "    def insertToFront(self,head,data):\n",
    "        #功能:輸入data,插入到列表最前方，並更改第一個節點\n",
    "        if data is None:\n",
    "            return None\n",
    "        node =  Node(data)\n",
    "        node.next = head\n",
    "        head = node\n",
    "        return head\n",
    "\n",
    "    def find(self, head, data):\n",
    "        #功能:查找鍊表的節點data與data想同的節點\n",
    "        if data is None:\n",
    "            return None\n",
    "        curr_node = head\n",
    "        while curr_node is not None:\n",
    "            if curr_node.data == data:\n",
    "                return curr_node\n",
    "            curr_node = curr_node.next\n",
    "        return None\n",
    "\n",
    "    def delete(self, head, data):\n",
    "        #刪除節點\n",
    "        if data is None:\n",
    "            return None\n",
    "        if head is None:\n",
    "            return None\n",
    "        if head.data == data:\n",
    "            head = head.next\n",
    "            return\n",
    "        prev_node = self.head\n",
    "        curr_node = self.head.next\n",
    "        while curr_node is not None:\n",
    "            if curr_node.data == data:\n",
    "                prev_node.next == curr_node.next\n",
    "            else:\n",
    "                prev_node = curr_node\n",
    "                curr_node = curr_node.next\n",
    "\n",
    "mylist = Solution()\n",
    "T = int(input())#有多少節點\n",
    "head = None\n",
    "for i in range(T):\n",
    "    data = int(input())#輸入節點值\n",
    "    head = mylist.insert(head,data)#插入節點\n",
    "mylist.display(head)#打印節點"
   ]
  }
 ],
 "metadata": {
  "kernelspec": {
   "display_name": "Python 3.10.2 64-bit",
   "language": "python",
   "name": "python3"
  },
  "language_info": {
   "codemirror_mode": {
    "name": "ipython",
    "version": 3
   },
   "file_extension": ".py",
   "mimetype": "text/x-python",
   "name": "python",
   "nbconvert_exporter": "python",
   "pygments_lexer": "ipython3",
   "version": "3.10.2"
  },
  "orig_nbformat": 4,
  "vscode": {
   "interpreter": {
    "hash": "1b43cb0bd93d5abbadd54afed8252f711d4681fe6223ad6b67ffaee289648f85"
   }
  }
 },
 "nbformat": 4,
 "nbformat_minor": 2
}
