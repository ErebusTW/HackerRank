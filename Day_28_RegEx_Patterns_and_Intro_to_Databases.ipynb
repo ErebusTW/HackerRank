{
 "cells": [
  {
   "cell_type": "markdown",
   "metadata": {},
   "source": [
    "**<font  size=6>Day 28: RegEx, Patterns, and Intro to Databases</font>**"
   ]
  },
  {
   "cell_type": "markdown",
   "metadata": {},
   "source": [
    "**Objective**  \n",
    "Today, we're working with regular expressions. Check out the Tutorial tab for learning materials and an instructional video!"
   ]
  },
  {
   "cell_type": "markdown",
   "metadata": {},
   "source": [
    "**Task**  \n",
    "Consider a database table, Emails, which has the attributes First Name and Email ID. Given rows of data simulating the Emails  \n",
    "table, print an alphabetically-ordered list of people whose email address ends in $N@gmail.com$."
   ]
  },
  {
   "cell_type": "markdown",
   "metadata": {},
   "source": [
    "**Input Format**  \n",
    "\n",
    "The first line contains an integer, , total number of rows in the table.  \n",
    "Each of the subsequent lines contains space-separated strings denoting a person's first name and email ID, respectively.$NN2$\n",
    "\n"
   ]
  },
  {
   "cell_type": "markdown",
   "metadata": {},
   "source": [
    "**Constraints**\n",
    "\n",
    "- $2 \\leq N \\leq 30$\n",
    "- Each of the first names consists of lower case letters $[a-z]$ only.  \n",
    "- Each of the email IDs consists of lower case letters $[a - z]$, and only.$@$.  \n",
    "- The length of the first name is no longer than 20.\n",
    "- The length of the email ID is no longer than 50."
   ]
  },
  {
   "cell_type": "markdown",
   "metadata": {},
   "source": [
    "**Output Format**\n",
    "\n",
    "Print an alphabetically-ordered list of first names for every user with a gmail account. Each name must be printed on a new line.\n"
   ]
  },
  {
   "cell_type": "markdown",
   "metadata": {},
   "source": [
    "**Sample Input**"
   ]
  },
  {
   "cell_type": "markdown",
   "metadata": {},
   "source": [
    "6  \n",
    "riya riya@gmail.com  \n",
    "julia julia@julia.me  \n",
    "julia sjulia@gmail.com  \n",
    "julia julia@gmail.com  \n",
    "samantha samantha@gmail.com  \n",
    "tanya tanya@gmail.com  "
   ]
  },
  {
   "cell_type": "markdown",
   "metadata": {},
   "source": [
    "**Sample Output**\n",
    "\n",
    "julia  \n",
    "julia  \n",
    "riya  \n",
    "samantha  \n",
    "tanya  "
   ]
  },
  {
   "cell_type": "markdown",
   "metadata": {},
   "source": [
    "**<font  size=5>題目解析</font>**"
   ]
  },
  {
   "cell_type": "markdown",
   "metadata": {},
   "source": [
    "這一題要我們完成在一個資料庫中搜尋所有gmail電子郵件帳戶並依字母順序打印所有使用者名稱，題目的RegEx為政則表達式，這是一個非常龐大且複雜的功能，  \n",
    "這邊簡單介紹並提供一個延伸閱讀的網址，知道這個東西就好，有用到的時候去讀一下。 \n",
    " \n",
    "正規表示式 (也稱為 REs、regexes 或 regex patterns) 是一個輕量且高專業化的程式語言。 在 Python 中可透過內建的 re 模組直接使用。   \n",
    "你可以使用此輕量化的語言針對想要匹配的一組字串撰寫規則，這組字串可能包含了英語句子、e-mail 地址、TeX 命令或任何東西。 你可以檢查如「這組字串是否匹配這個規則？」   \n",
    "或「這組字串中是否有任一處匹配這個規則？」。 除此之外，你也可以使用 REs 來修改或是切割字串。  \n",
    "\n",
    "https://docs.python.org/zh-tw/3/howto/regex.html"
   ]
  },
  {
   "cell_type": "markdown",
   "metadata": {},
   "source": [
    "介紹幾個基礎的正則化方法"
   ]
  },
  {
   "cell_type": "markdown",
   "metadata": {},
   "source": [
    "\\d\n",
    "符合任何十進位數位，等價於字元類 。[0-9]\n",
    "\n",
    "\\D\n",
    "符合任何非數位字元，等價於字元類 。[^0-9]\n",
    "\n",
    "\\s\n",
    "符合任何空白字元，等價於字元類 。[ \\t\\n\\r\\f\\v]\n",
    "\n",
    "\\S\n",
    "符合任何非空白字元，等價於字元類 。[^ \\t\\n\\r\\f\\v]\n",
    "\n",
    "\\w\n",
    "符合任何字母與數位字元，等價於字元類 。[a-zA-Z0-9_]\n",
    "\n",
    "\\W\n",
    "符合任何非字母與數位字元，等價於字元類 。[^a-zA-Z0-9_]"
   ]
  },
  {
   "cell_type": "markdown",
   "metadata": {},
   "source": [
    "- - -\n",
    "一旦你有一個表示編譯正則表達式的物件，你用它做什麼？ 模式物件有幾種方法和屬性。 這裡只介紹最重要的內容; \n",
    "\n",
    "match()\n",
    "\n",
    "確定正則是否從字串的開頭匹配。\n",
    "\n",
    "search()\n",
    "\n",
    "掃描字串，查找此正則匹配的任何位置。\n",
    "\n",
    "findall()\n",
    "\n",
    "找到正則匹配的所有子字串，並將它們作為清單返回。\n",
    "\n",
    "finditer()\n",
    "\n",
    "找到正則匹配的所有子字串，並將它們返回為一個 iterator。\n",
    "\n",
    "- - -"
   ]
  },
  {
   "cell_type": "markdown",
   "metadata": {},
   "source": [
    "你可以檢查 匹配物件 以獲取有關匹配字串的資訊。 匹配物件實例也有幾個方法和屬性; 最重要的是：\n",
    "\n",
    "方法 / 屬性\n",
    "\n",
    "目的\n",
    "\n",
    "group()\n",
    "\n",
    "返回正則匹配的字串\n",
    "\n",
    "start()\n",
    "\n",
    "返回匹配的開始位置\n",
    "\n",
    "end()\n",
    "\n",
    "返回匹配的結束位置\n",
    "\n",
    "span()\n",
    "\n",
    "返回包含匹配 （start， end） 位置的元組\n",
    "\n",
    "- - -"
   ]
  },
  {
   "cell_type": "markdown",
   "metadata": {},
   "source": [
    "拿這題舉例，我們要找到'@gmail.com'，我們編譯一個正則表達式:"
   ]
  },
  {
   "cell_type": "code",
   "execution_count": 12,
   "metadata": {},
   "outputs": [],
   "source": [
    "import re\n",
    "p = re.compile('@gmail.com')#編譯"
   ]
  },
  {
   "cell_type": "code",
   "execution_count": 20,
   "metadata": {},
   "outputs": [],
   "source": [
    "m = p.search('sjulia@gmail.com')#掃描字串，查找此正則匹配的任何位置，如果找不到，返回None。"
   ]
  },
  {
   "cell_type": "code",
   "execution_count": 22,
   "metadata": {},
   "outputs": [
    {
     "data": {
      "text/plain": [
       "'@gmail.com'"
      ]
     },
     "execution_count": 22,
     "metadata": {},
     "output_type": "execute_result"
    }
   ],
   "source": [
    "m.group()#返回正則匹配的字串"
   ]
  },
  {
   "cell_type": "markdown",
   "metadata": {},
   "source": [
    "我們直接看題目"
   ]
  },
  {
   "cell_type": "code",
   "execution_count": null,
   "metadata": {},
   "outputs": [],
   "source": [
    "#題目給的原始碼\n",
    "if __name__ == '__main__':\n",
    "    N = int(input())\n",
    "    for N_itr in range(N):\n",
    "        firstNameEmailID = input().split()#依照空格分割字符串\n",
    "        firstName = firstNameEmailID[0]#第一項為名稱\n",
    "        emailID = firstNameEmailID[1]#第二項為email\n"
   ]
  },
  {
   "cell_type": "markdown",
   "metadata": {},
   "source": [
    "直接解題吧!"
   ]
  },
  {
   "cell_type": "code",
   "execution_count": 23,
   "metadata": {},
   "outputs": [
    {
     "name": "stdout",
     "output_type": "stream",
     "text": [
      "julia\n",
      "julia\n",
      "riya\n",
      "samantha\n",
      "tanya\n"
     ]
    }
   ],
   "source": [
    "import re\n",
    "p = re.compile('@gmail.com')\n",
    "if __name__ == '__main__':\n",
    "    N = int(input().strip())\n",
    "    namels = []\n",
    "    for N_itr in range(N):\n",
    "        firstName,emailID = input().rstrip().split()#都到第28天了多重複值一下能少寫一行是一行\n",
    "        if p.search(emailID):#如果有找到(!=None)\n",
    "            namels.append(firstName)\n",
    "for name in sorted(namels):\n",
    "    print(name)"
   ]
  },
  {
   "cell_type": "code",
   "execution_count": 24,
   "metadata": {},
   "outputs": [
    {
     "name": "stdout",
     "output_type": "stream",
     "text": [
      "julia\n",
      "julia\n",
      "riya\n",
      "samantha\n",
      "tanya\n"
     ]
    }
   ],
   "source": [
    "#當然也有別種方法(如下)，但題目講到正則表達式，我們還是藉著這個機會用用re，下面的.find方法是python在str中建立的正則方法之一\n",
    "if __name__ == '__main__':\n",
    "    N = int(input().strip())\n",
    "    namels = []\n",
    "    for N_itr in range(N):\n",
    "        firstName,emailID = input().rstrip().split()\n",
    "        if emailID.find('gmail.com') != -1:#找不到返回-1\n",
    "            namels.append(firstName)\n",
    "for name in sorted(namels):\n",
    "    print(name)"
   ]
  }
 ],
 "metadata": {
  "kernelspec": {
   "display_name": "Python 3.10.2 64-bit",
   "language": "python",
   "name": "python3"
  },
  "language_info": {
   "codemirror_mode": {
    "name": "ipython",
    "version": 3
   },
   "file_extension": ".py",
   "mimetype": "text/x-python",
   "name": "python",
   "nbconvert_exporter": "python",
   "pygments_lexer": "ipython3",
   "version": "3.10.2"
  },
  "orig_nbformat": 4,
  "vscode": {
   "interpreter": {
    "hash": "1b43cb0bd93d5abbadd54afed8252f711d4681fe6223ad6b67ffaee289648f85"
   }
  }
 },
 "nbformat": 4,
 "nbformat_minor": 2
}
