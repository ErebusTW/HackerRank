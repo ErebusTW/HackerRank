{
 "cells": [
  {
   "cell_type": "markdown",
   "metadata": {},
   "source": [
    "**<font  size=6>Day 19: Interfaces</font>**\n",
    "\n"
   ]
  },
  {
   "cell_type": "markdown",
   "metadata": {},
   "source": [
    "**Objective**  \n",
    "Today, we're learning about Interfaces. Check out the Tutorial tab for learning materials and an instructional video!\n",
    "\n",
    "**Task**  \n",
    "The AdvancedArithmetic interface and the method declaration for the abstract divisorSum(n) method are provided for  \n",
    "you in the editor below.  \n",
    "Complete the implementation of Calculator class, which implements the AdvancedArithmetic interface. The  \n",
    "implementation for the divisorSum(n) method must return the sum of all divisors of $n$."
   ]
  },
  {
   "cell_type": "markdown",
   "metadata": {},
   "source": [
    "**Example**  \n",
    "$n = 25$  \n",
    "The divisors of $25$ are $1,5,25$. Their sum is $31$.\n",
    "- - -\n",
    "$n = 20$  \n",
    "The divisors of $20$ are $1,2,4,5,10,20$ and their sum is $42$ ."
   ]
  },
  {
   "cell_type": "markdown",
   "metadata": {},
   "source": [
    "**Input Format**  \n",
    "A single line with an integer,$n$."
   ]
  },
  {
   "cell_type": "markdown",
   "metadata": {},
   "source": [
    "**Constraints**\n",
    "- $1 \\leq n \\leq 1000$"
   ]
  },
  {
   "cell_type": "markdown",
   "metadata": {},
   "source": [
    "**Output Format**  \n",
    "You are not responsible for printing anything to stdout. The locked template code in the editor below will call your code and  \n",
    "print the necessary output."
   ]
  },
  {
   "cell_type": "markdown",
   "metadata": {},
   "source": [
    "**Sample Imput**  \n",
    "6"
   ]
  },
  {
   "cell_type": "markdown",
   "metadata": {},
   "source": [
    "**Sample Output**  \n",
    "I implemented: AdvancedArithmetic  \n",
    "12"
   ]
  },
  {
   "cell_type": "markdown",
   "metadata": {},
   "source": [
    "**Explanation**  \n",
    "The integer $6$ is evenly divisible by $1$, $2$, $3$, and $6$. Our divisorSum method should return the sum of these numbers, which is   \n",
    "$1+2+3+6=12$. The Solution class then prints $I$ $implemented:$ $AdvancedArithmetic$   on the first line, followed by  \n",
    "the sum returned by divisorSum (which is $12$) on the second line."
   ]
  },
  {
   "cell_type": "markdown",
   "metadata": {},
   "source": [
    "**<font  size=5>題目解析</font>**"
   ]
  },
  {
   "cell_type": "markdown",
   "metadata": {},
   "source": [
    "這一題希望我們給出輸入N的因數總和，題目提供了我們抽象方法的另一種寫法。我們直接看題目:"
   ]
  },
  {
   "cell_type": "code",
   "execution_count": 31,
   "metadata": {},
   "outputs": [],
   "source": [
    "class AdvancedArithmetic(object):#首先繼承object這個類，目前不需要了解，object類裡包含了大多數class的內建功能，在python2時必須繼承object才能擁有這些功能，但python3中已經預設繼承object，所以寫不寫都沒差\n",
    "    def divisorSum(n):#注意，這邊沒寫self，代表這個方法與這個類的實例無關，也就是暗示你他是抽象方法\n",
    "        raise NotImplementedError #當你沒有繼承這個類並改寫此方法時，調用這個方法的時候就會報錯，錯誤為NotImplementedError\n",
    "        "
   ]
  },
  {
   "cell_type": "markdown",
   "metadata": {},
   "source": [
    "NotImplementedError的意思是程序識別到了這個方法並沒有在子類中實現卻被調用了，要搞清楚的是這邊的AdvancedArithmetic並非一個抽象基類，@abstractmethod不一定有效，因此這是在非抽象基類中實現抽象方法的較好方式"
   ]
  },
  {
   "cell_type": "code",
   "execution_count": null,
   "metadata": {},
   "outputs": [],
   "source": [
    "n = int(input())\n",
    "my_calculator = Calculator()\n",
    "s = my_calculator.divisorSum(n)\n",
    "print(\"I implemented: \" + type(my_calculator).__bases__[0].__name__)#這邊比較複雜我們展開來說說\n",
    "print(s)"
   ]
  },
  {
   "cell_type": "markdown",
   "metadata": {},
   "source": [
    "首先，my_calculator是Calculator的實例，實例是沒有__bases__方法的，__bases__是在class本身，也就是type(實例)，如何解釋__base__方法呢?我們舉個例子"
   ]
  },
  {
   "cell_type": "code",
   "execution_count": 56,
   "metadata": {},
   "outputs": [],
   "source": [
    "class Before_A():\n",
    "    pass\n",
    "class A(Before_A):\n",
    "    def __init__(self):\n",
    "        self.a = 10\n",
    "    def get_a(self):\n",
    "        print(\"我是a\")\n",
    "\n",
    "class Before_B():\n",
    "    pass\n",
    "class B(Before_B):\n",
    "    def __init__(self):\n",
    "        self.b = 10\n",
    "    def get_b(self):\n",
    "        print(\"我是b\")"
   ]
  },
  {
   "cell_type": "code",
   "execution_count": 67,
   "metadata": {},
   "outputs": [
    {
     "data": {
      "text/plain": [
       "(__main__.Before_B,)"
      ]
     },
     "execution_count": 67,
     "metadata": {},
     "output_type": "execute_result"
    }
   ],
   "source": [
    "B.__bases__#你可以將__bases__視為代表了該類的方法集合(不包含__init__)"
   ]
  },
  {
   "cell_type": "code",
   "execution_count": 68,
   "metadata": {},
   "outputs": [],
   "source": [
    "#將A的方法加入B\n",
    "B.__bases__ += (A,)"
   ]
  },
  {
   "cell_type": "code",
   "execution_count": 69,
   "metadata": {},
   "outputs": [
    {
     "data": {
      "text/plain": [
       "(__main__.Before_B, __main__.A)"
      ]
     },
     "execution_count": 69,
     "metadata": {},
     "output_type": "execute_result"
    }
   ],
   "source": [
    "B.__bases__"
   ]
  },
  {
   "cell_type": "code",
   "execution_count": 71,
   "metadata": {},
   "outputs": [
    {
     "data": {
      "text/plain": [
       "10"
      ]
     },
     "execution_count": 71,
     "metadata": {},
     "output_type": "execute_result"
    }
   ],
   "source": [
    "test_b = B()\n",
    "test_b.b#我們可以看到B中仍包含class B裡__init__方法創建的instance variables"
   ]
  },
  {
   "cell_type": "code",
   "execution_count": 72,
   "metadata": {},
   "outputs": [
    {
     "ename": "AttributeError",
     "evalue": "'B' object has no attribute 'a'",
     "output_type": "error",
     "traceback": [
      "\u001b[1;31m---------------------------------------------------------------------------\u001b[0m",
      "\u001b[1;31mAttributeError\u001b[0m                            Traceback (most recent call last)",
      "\u001b[1;32mc:\\Users\\chiehlinchen\\Documents\\GitHub\\HackerRank\\Day_19_Interfaces.ipynb Cell 21\u001b[0m in \u001b[0;36m<cell line: 1>\u001b[1;34m()\u001b[0m\n\u001b[1;32m----> <a href='vscode-notebook-cell:/c%3A/Users/chiehlinchen/Documents/GitHub/HackerRank/Day_19_Interfaces.ipynb#Y106sZmlsZQ%3D%3D?line=0'>1</a>\u001b[0m test_b\u001b[39m.\u001b[39;49ma\n",
      "\u001b[1;31mAttributeError\u001b[0m: 'B' object has no attribute 'a'"
     ]
    }
   ],
   "source": [
    "test_b.a#但不包含class A裡__init__方法創建的instance variables"
   ]
  },
  {
   "cell_type": "code",
   "execution_count": 74,
   "metadata": {},
   "outputs": [
    {
     "name": "stdout",
     "output_type": "stream",
     "text": [
      "我是b\n"
     ]
    }
   ],
   "source": [
    "test_b.get_b()#包含B中的方法"
   ]
  },
  {
   "cell_type": "code",
   "execution_count": 75,
   "metadata": {},
   "outputs": [
    {
     "name": "stdout",
     "output_type": "stream",
     "text": [
      "我是a\n"
     ]
    }
   ],
   "source": [
    "test_b.get_a()#也包含A中的方法"
   ]
  },
  {
   "cell_type": "code",
   "execution_count": null,
   "metadata": {},
   "outputs": [],
   "source": [
    "type(my_calculator).__bases__[0].__name__#所以這邊就是打印父類名稱"
   ]
  },
  {
   "cell_type": "markdown",
   "metadata": {},
   "source": [
    "開始寫吧!!"
   ]
  },
  {
   "cell_type": "code",
   "execution_count": 38,
   "metadata": {},
   "outputs": [],
   "source": [
    "class Calculator(AdvancedArithmetic):\n",
    "    def divisorSum(self, n):\n",
    "        s = 0\n",
    "        for i in range(1, n+1):#一個值最小的因數是1，最大的因數是本身，全部試一遍\n",
    "            if n % i == 0:#如果能把n整除就加進s\n",
    "                s+=i\n",
    "        return s"
   ]
  },
  {
   "cell_type": "code",
   "execution_count": 39,
   "metadata": {},
   "outputs": [
    {
     "name": "stdout",
     "output_type": "stream",
     "text": [
      "I implemented: AdvancedArithmetic\n",
      "31\n"
     ]
    }
   ],
   "source": [
    "n = int(input())\n",
    "my_calculator = Calculator()\n",
    "s = my_calculator.divisorSum(n)\n",
    "print(\"I implemented: \" + type(my_calculator).__bases__[0].__name__)\n",
    "print(s)"
   ]
  }
 ],
 "metadata": {
  "kernelspec": {
   "display_name": "Python 3.10.2 64-bit",
   "language": "python",
   "name": "python3"
  },
  "language_info": {
   "codemirror_mode": {
    "name": "ipython",
    "version": 3
   },
   "file_extension": ".py",
   "mimetype": "text/x-python",
   "name": "python",
   "nbconvert_exporter": "python",
   "pygments_lexer": "ipython3",
   "version": "3.10.2"
  },
  "orig_nbformat": 4,
  "vscode": {
   "interpreter": {
    "hash": "1b43cb0bd93d5abbadd54afed8252f711d4681fe6223ad6b67ffaee289648f85"
   }
  }
 },
 "nbformat": 4,
 "nbformat_minor": 2
}
