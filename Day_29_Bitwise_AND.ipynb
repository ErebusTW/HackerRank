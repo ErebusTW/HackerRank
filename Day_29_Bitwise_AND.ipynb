{
 "cells": [
  {
   "cell_type": "markdown",
   "metadata": {},
   "source": [
    "**<font  size=6>Day 29: Bitwise AND</font>**"
   ]
  },
  {
   "cell_type": "markdown",
   "metadata": {},
   "source": [
    "**Objective**  \n",
    "Welcome to the last day! Today, we're discussing bitwise operations. Check out the Tutorial tab for learning materials and an  \n",
    "instructional video!"
   ]
  },
  {
   "cell_type": "markdown",
   "metadata": {},
   "source": [
    "**Task**  \n",
    "Given set $S=$  $\\{ 1,2,3,...,N \\}$ . Find two integers, and (where $ABA<B$), from set such that the value of $SA\\&B$ is the  \n",
    "maximum possible and also less than a given integer, $K$. In this case,$\\&$ represents the bitwise AND operator."
   ]
  },
  {
   "cell_type": "markdown",
   "metadata": {},
   "source": [
    "**Function Description**  \n",
    "Complete the bitwiseAnd function in the editor below.\n",
    "\n",
    "bitwiseAnd has the following paramter(s):\n",
    "- int N: the maximum integer to consider\n",
    "- int K: the limit of the result, inclusive"
   ]
  },
  {
   "cell_type": "markdown",
   "metadata": {},
   "source": [
    "**Returns**\n",
    "- int: the maximum value of $A\\&B$ within the limit."
   ]
  },
  {
   "cell_type": "markdown",
   "metadata": {},
   "source": [
    "**Input Format**\n",
    "\n",
    "The first line contains an integer, $T$, the number of test cases.  \n",
    "Each of the $T$ subsequent lines defines a test case as $2$ space-separated integers, $N$ and $K$, respectively."
   ]
  },
  {
   "cell_type": "markdown",
   "metadata": {},
   "source": [
    "**Constraints**  \n",
    "- $1 \\leq T \\leq 10^{3}$\n",
    "- $2 \\leq N \\leq 10^{3}$\n",
    "- $2 \\leq K \\leq N$"
   ]
  },
  {
   "cell_type": "markdown",
   "metadata": {},
   "source": [
    "**Sample Input**"
   ]
  },
  {
   "cell_type": "code",
   "execution_count": null,
   "metadata": {},
   "outputs": [],
   "source": [
    "STDIN   Function\n",
    "-----   --------\n",
    "3       T = 3\n",
    "5 2     N = 5, K = 2\n",
    "8 5     N = 8, K = 5\n",
    "2 2     N = 8, K = 5"
   ]
  },
  {
   "cell_type": "markdown",
   "metadata": {},
   "source": [
    "**Sample Output**"
   ]
  },
  {
   "cell_type": "code",
   "execution_count": null,
   "metadata": {},
   "outputs": [],
   "source": [
    "1\n",
    "4\n",
    "0"
   ]
  },
  {
   "cell_type": "markdown",
   "metadata": {},
   "source": [
    "**Explanation**\n",
    "  \n",
    "$N = 5,K = 2, S = \\{1,2,3,4,5\\}$\n",
    "\n",
    "All possible values of $A$ and $B$ are:  \n",
    " 1. $A=1,B=2;A\\&B=0$  \n",
    " 2. $A=1,B=3;A\\&B=1$  \n",
    " 3. $A=1,B=4;A\\&B=0$  \n",
    " 4. $A=1,B=5;A\\&B=1$  \n",
    " 5. $A=2,B=3;A\\&B=2$  \n",
    " 6. $A=2,B=4;A\\&B=0$  \n",
    " 7. $A=2,B=5;A\\&B=0$  \n",
    " 8. $A=3,B=4;A\\&B=0$  \n",
    " 9. $A=3,B=5;A\\&B=1$  \n",
    "10. $A=4,B=5;A\\&B=4$  \n",
    "\n",
    "The maximum possible value of $A\\&B$ that is also <(K=2) is 1, so we print 1 on a new line."
   ]
  },
  {
   "cell_type": "markdown",
   "metadata": {},
   "source": [
    "**<font  size=5>題目解析</font>**"
   ]
  },
  {
   "cell_type": "markdown",
   "metadata": {},
   "source": [
    "這題的主題是按位運算符，我們先解釋一下按位運算符的定義:"
   ]
  },
  {
   "cell_type": "markdown",
   "metadata": {},
   "source": [
    "**按位運算符**  \n",
    "\n",
    "按位運算符是把數字看作二進制來進行計算的。 Python中的按位運算法則如下：\n",
    "\n",
    "a = 0011 1100\n",
    "\n",
    "b = 0000 1101\n",
    "\n",
    "&  \n",
    "按位與運算符：參與運算的兩個值,如果兩個相應位都為1,則該位的結果為1,否則為0  \n",
    "\n",
    "|  \n",
    "按位或运算符：只要对应的二个二进位有一个为1时，结果位就为1。  \n",
    "\n",
    "^  \n",
    "按位異或運算符：當兩對應的二進位相異時，結果為1  \n",
    "\n",
    "~  \n",
    "按位取反運算符：對數據的每個二進制位取反,即把1變為0,把0變為1 。 ~x 類似於 -x-1\n",
    "\n",
    "$<<$  \n",
    "左移动运算符：运算数的各二进位全部左移若干位，由 << 右边的数字指定了移动的位数，高位丢弃，低位补0。\n",
    "\n",
    "$>>$  \n",
    "右移動運算符：把\">>\"左邊的運算數的各二進位全部右移若干位，>> 右邊的數字指定了移動的位數"
   ]
  },
  {
   "cell_type": "markdown",
   "metadata": {},
   "source": [
    "舉個例子"
   ]
  },
  {
   "cell_type": "code",
   "execution_count": null,
   "metadata": {},
   "outputs": [],
   "source": [
    "a = 0011 1100\n",
    "\n",
    "b = 0000 1101\n",
    "\n",
    "-----------------\n",
    "\n",
    "a&b = 0000 1100\n",
    "\n",
    "a|b = 0011 1101\n",
    "\n",
    "a^b = 0011 0001 \n",
    "\n",
    "~a  = 1100 0011"
   ]
  },
  {
   "cell_type": "code",
   "execution_count": 8,
   "metadata": {},
   "outputs": [
    {
     "data": {
      "text/plain": [
       "'0b101'"
      ]
     },
     "execution_count": 8,
     "metadata": {},
     "output_type": "execute_result"
    }
   ],
   "source": [
    "#我們可以透過bin方法查看二進位\n",
    "bin(5)"
   ]
  },
  {
   "cell_type": "markdown",
   "metadata": {},
   "source": [
    "直接解題吧!"
   ]
  },
  {
   "cell_type": "code",
   "execution_count": 40,
   "metadata": {},
   "outputs": [],
   "source": [
    "import math\n",
    "import os\n",
    "import random\n",
    "import re\n",
    "import sys"
   ]
  },
  {
   "cell_type": "code",
   "execution_count": null,
   "metadata": {},
   "outputs": [],
   "source": [
    "def bitwiseAnd(N, K):\n",
    "    # Write your code here\n",
    "    maximum = 0\n",
    "    for i in range(1,N+1):#1到n\n",
    "        for j in range(1,i):#1到n-1\n",
    "            h = i & j\n",
    "            if maximum < h < K:#比k小同時大於我們紀錄的最大值\n",
    "                maximum = h#更新最大值\n",
    "            if maximum == K-1:#如果已經出現只比k小的最大值，直接返回他，剩下的不用找了，節省時間\n",
    "                 return maximum\n",
    "    return maximum\n",
    "\n",
    "if __name__ == '__main__':\n",
    "    fptr = open(os.environ['OUTPUT_PATH'], 'w')\n",
    "\n",
    "    t = int(input().strip())\n",
    "\n",
    "    for t_itr in range(t):\n",
    "        first_multiple_input = input().rstrip().split()\n",
    "\n",
    "        count = int(first_multiple_input[0])\n",
    "\n",
    "        lim = int(first_multiple_input[1])\n",
    "\n",
    "        res = bitwiseAnd(count, lim)\n",
    "\n",
    "        fptr.write(str(res) + '\\n')\n",
    "\n",
    "    fptr.close()"
   ]
  }
 ],
 "metadata": {
  "kernelspec": {
   "display_name": "Python 3.10.2 64-bit",
   "language": "python",
   "name": "python3"
  },
  "language_info": {
   "codemirror_mode": {
    "name": "ipython",
    "version": 3
   },
   "file_extension": ".py",
   "mimetype": "text/x-python",
   "name": "python",
   "nbconvert_exporter": "python",
   "pygments_lexer": "ipython3",
   "version": "3.10.2"
  },
  "orig_nbformat": 4,
  "vscode": {
   "interpreter": {
    "hash": "1b43cb0bd93d5abbadd54afed8252f711d4681fe6223ad6b67ffaee289648f85"
   }
  }
 },
 "nbformat": 4,
 "nbformat_minor": 2
}
