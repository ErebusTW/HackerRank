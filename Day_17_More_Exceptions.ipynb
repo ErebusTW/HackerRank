{
 "cells": [
  {
   "cell_type": "markdown",
   "metadata": {},
   "source": [
    "**<font  size=6>Day 17: More Exceptions</font>**"
   ]
  },
  {
   "cell_type": "markdown",
   "metadata": {},
   "source": [
    "**Objective**  \n",
    "Yesterday's challenge taught you to manage exceptional situations by using try and catch blocks. In today's challenge, you will  \n",
    "practice throwing and propagating an exception. Check out the Tutorial tab for learning materials and an instructional video."
   ]
  },
  {
   "cell_type": "markdown",
   "metadata": {},
   "source": [
    "**Task**  \n",
    "Write a Calculator class with a single method: int power(int,int). The power method takes two integers, $n$ and $p$ , as parameters and returns the integer result of $n^{p}$. If either $n$ or $p$ is negative, then the method must throw an exception with the message: n and p should be non-negative."
   ]
  },
  {
   "cell_type": "markdown",
   "metadata": {},
   "source": [
    "**Note**: Do not use an access modifier (e.g.: public) in the declaration for your Calculator class."
   ]
  },
  {
   "cell_type": "markdown",
   "metadata": {},
   "source": [
    "**Input Format**  \n",
    "Input from stdin is handled for you by the locked stub code in your editor. The first line contains an integer, $T$ , the number of test cases. Each of the $T$ subsequent lines describes a test case in $2$ space-separated integers that denote $n$ and $p$, respectively."
   ]
  },
  {
   "cell_type": "markdown",
   "metadata": {},
   "source": [
    "**Constraints**\n",
    "\n",
    "- No Test Case will result in overflow for correctly written code."
   ]
  },
  {
   "cell_type": "markdown",
   "metadata": {},
   "source": [
    "**Output Format**  \n",
    "Output to stdout is handled for you by the locked stub code in your editor. There are $T$ lines of output, where each line contains the result of $n^{p}$ as calculated by your Calculator class' power method."
   ]
  },
  {
   "cell_type": "markdown",
   "metadata": {},
   "source": [
    "**Sample Input**\n",
    "\n",
    "4  \n",
    "3 5  \n",
    "2 4  \n",
    "-1 -2  \n",
    "-1 3  \n"
   ]
  },
  {
   "cell_type": "markdown",
   "metadata": {},
   "source": [
    "**Sample Output**\n",
    "\n",
    "243  \n",
    "16  \n",
    "n and p should be non-negative  \n",
    "n and p should be non-negative  "
   ]
  },
  {
   "cell_type": "markdown",
   "metadata": {},
   "source": [
    "**Explanation**\n",
    "\n",
    "$T = 4$  \n",
    "$T_{0}$: $3$ and $5$ are positive, so power returns the result of $3^{5}$ , which is $243$.  \n",
    "$T_{1}$: $2$ and $4$ are positive, so power returns the result of = $2^{4}$, which is $16$.  \n",
    "$T_{2}$: Both inputs ( $-1$ and $-2$ ) are negative, so power throws an exception and $n\\quad and\\quad p \\quad should\\quad be \\quad non-negative$  is printed.  \n",
    "$T_{3}$: One of the inputs ($-1$) is negative, so power throws an exception and $n\\quad and\\quad p \\quad should\\quad be \\quad non-negative$ is printed."
   ]
  },
  {
   "cell_type": "markdown",
   "metadata": {},
   "source": [
    "**<font  size=5>題目解析</font>**"
   ]
  },
  {
   "cell_type": "markdown",
   "metadata": {},
   "source": [
    "這題希望我們實現一個class 名字叫Calculator，裡面有且僅有一個方法power(int,int)，在$n,p$皆不為負值時返回$n^{p}$，其中任一為負值時，報錯並打印'n and p should be non-negative'  \n",
    "，我們在Day16提過拋出異常的$raise$方法，我們直接看題目。"
   ]
  },
  {
   "cell_type": "code",
   "execution_count": null,
   "metadata": {},
   "outputs": [],
   "source": [
    "#題目內建的輸入代碼\n",
    "myCalculator=Calculator()#將Calculator類實例化\n",
    "T=int(input())#輸入有幾組n,p\n",
    "for i in range(T):#循環對每組n,p都調用Calculator類裡的power方法\n",
    "    n,p = map(int, input().split())#輸入n,p值\n",
    "    try:\n",
    "        ans=myCalculator.power(n,p)\n",
    "        print(ans)\n",
    "    except Exception as e:#如果報錯打印報錯裡的字符串\n",
    "        print(e)   "
   ]
  },
  {
   "cell_type": "markdown",
   "metadata": {},
   "source": [
    "開始寫代碼!"
   ]
  },
  {
   "cell_type": "code",
   "execution_count": 1,
   "metadata": {},
   "outputs": [],
   "source": [
    "class Calculator():#建立Calculator類\n",
    "    def power(self,n,p):#建立power方法\n",
    "        if  (n < 0 or p <0):\n",
    "            raise Exception('n and p should be non-negative')#如果n,p其中任一為負值，報錯\n",
    "        else:\n",
    "            return n**p#若皆不為負值返回n的p次方"
   ]
  },
  {
   "cell_type": "code",
   "execution_count": 2,
   "metadata": {},
   "outputs": [
    {
     "name": "stdout",
     "output_type": "stream",
     "text": [
      "243\n",
      "16\n",
      "n and p should be non-negative\n",
      "n and p should be non-negative\n"
     ]
    }
   ],
   "source": [
    "myCalculator=Calculator()\n",
    "T=int(input())\n",
    "for i in range(T):\n",
    "    n,p = map(int, input().split())\n",
    "    try:\n",
    "        ans=myCalculator.power(n,p)\n",
    "        print(ans)\n",
    "    except Exception as e:\n",
    "        print(e)   "
   ]
  }
 ],
 "metadata": {
  "kernelspec": {
   "display_name": "Python 3.10.2 64-bit",
   "language": "python",
   "name": "python3"
  },
  "language_info": {
   "codemirror_mode": {
    "name": "ipython",
    "version": 3
   },
   "file_extension": ".py",
   "mimetype": "text/x-python",
   "name": "python",
   "nbconvert_exporter": "python",
   "pygments_lexer": "ipython3",
   "version": "3.10.2"
  },
  "orig_nbformat": 4,
  "vscode": {
   "interpreter": {
    "hash": "1b43cb0bd93d5abbadd54afed8252f711d4681fe6223ad6b67ffaee289648f85"
   }
  }
 },
 "nbformat": 4,
 "nbformat_minor": 2
}
